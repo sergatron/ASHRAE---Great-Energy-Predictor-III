{
 "cells": [
  {
   "cell_type": "code",
   "execution_count": 101,
   "metadata": {},
   "outputs": [],
   "source": [
    "import os\n",
    "\n",
    "import pandas as pd\n",
    "import numpy as np\n",
    "\n",
    "import matplotlib.pyplot as plt\n",
    "from matplotlib import rcParams\n",
    "import seaborn as sns\n",
    "import plotly.graph_objects as go\n",
    "\n",
    "from datetime import datetime\n",
    "from dateutil import parser\n",
    "\n",
    "# format float in pandas\n",
    "pd.options.display.float_format = '{:.4f}'.format\n",
    "pd.options.display.max_columns = 30\n",
    "pd.options.display.max_rows = 50\n",
    "pd.options.display.width = 100"
   ]
  },
  {
   "cell_type": "code",
   "execution_count": 102,
   "metadata": {},
   "outputs": [],
   "source": [
    "# print(plt.style.available)\n",
    "# plt.style.library['fivethirtyeight']\n",
    "\n",
    "plt.style.use('seaborn-white')\n",
    "rcParams['axes.labelsize'] = 'x-large'\n",
    "rcParams['axes.edgecolor'] = 'black'\n",
    "rcParams['axes.facecolor'] = 'white'\n",
    "rcParams['axes.titlesize'] = 'x-large'\n",
    "rcParams['axes.spines.top'] = False\n",
    "rcParams['axes.spines.right'] = False\n",
    "rcParams['axes.xmargin'] = 0.02\n",
    "rcParams['axes.ymargin'] = 0.02\n",
    "            \n",
    "rcParams['axes.grid'] = True\n",
    "rcParams['grid.linestyle'] = ':'\n",
    "rcParams['grid.alpha'] = 0.2\n",
    "rcParams['grid.color'] = 'black'\n",
    "          \n",
    "rcParams['figure.titlesize'] = 'x-large'\n",
    "rcParams['figure.edgecolor']= 'black'\n",
    "rcParams['figure.facecolor'] = 'white'\n",
    "rcParams['figure.figsize'] = [12, 8]\n",
    "\n",
    "rcParams['ytick.labelsize'] = 'large'\n",
    "rcParams['xtick.labelsize'] = 'large'"
   ]
  },
  {
   "cell_type": "code",
   "execution_count": 103,
   "metadata": {},
   "outputs": [],
   "source": [
    "train_df = pd.read_csv('../data/train.csv')\n",
    "building_df = pd.read_csv('../data/building_metadata.csv')\n",
    "weather_df = pd.read_csv('../data/weather_train.csv')"
   ]
  },
  {
   "cell_type": "code",
   "execution_count": 104,
   "metadata": {},
   "outputs": [
    {
     "name": "stdout",
     "output_type": "stream",
     "text": [
      "<class 'pandas.core.frame.DataFrame'>\n",
      "RangeIndex: 139773 entries, 0 to 139772\n",
      "Data columns (total 9 columns):\n",
      " #   Column              Non-Null Count   Dtype  \n",
      "---  ------              --------------   -----  \n",
      " 0   site_id             139773 non-null  int64  \n",
      " 1   timestamp           139773 non-null  object \n",
      " 2   air_temperature     139718 non-null  float64\n",
      " 3   cloud_coverage      70600 non-null   float64\n",
      " 4   dew_temperature     139660 non-null  float64\n",
      " 5   precip_depth_1_hr   89484 non-null   float64\n",
      " 6   sea_level_pressure  129155 non-null  float64\n",
      " 7   wind_direction      133505 non-null  float64\n",
      " 8   wind_speed          139469 non-null  float64\n",
      "dtypes: float64(7), int64(1), object(1)\n",
      "memory usage: 9.6+ MB\n"
     ]
    }
   ],
   "source": [
    "weather_df.info()"
   ]
  },
  {
   "cell_type": "code",
   "execution_count": 105,
   "metadata": {},
   "outputs": [],
   "source": [
    "def convert_dtype(df):\n",
    "    \"\"\"\n",
    "    Convert data type of each column to reduce memory usage.\n",
    "    \"\"\"\n",
    "    cols = df.columns.values\n",
    "    data_types = ('int', 'float')\n",
    "    \n",
    "    # iterate over each column\n",
    "    for col in cols:\n",
    "        # convert integers\n",
    "        if data_types[0] in str(df[col].dtype):\n",
    "            df[col] = df[col].astype(np.int32)\n",
    "        if data_types[1] in str(df[col].dtype):\n",
    "            df[col] = df[col].astype(np.float16)\n",
    "    return df"
   ]
  },
  {
   "cell_type": "code",
   "execution_count": 106,
   "metadata": {},
   "outputs": [],
   "source": [
    "# convert dtype\n",
    "train_df = convert_dtype(train_df)\n",
    "weather_df = convert_dtype(weather_df)\n",
    "building_df = convert_dtype(building_df)"
   ]
  },
  {
   "cell_type": "code",
   "execution_count": 107,
   "metadata": {},
   "outputs": [
    {
     "name": "stdout",
     "output_type": "stream",
     "text": [
      "<class 'pandas.core.frame.DataFrame'>\n",
      "RangeIndex: 20216100 entries, 0 to 20216099\n",
      "Data columns (total 4 columns):\n",
      " #   Column         Dtype  \n",
      "---  ------         -----  \n",
      " 0   building_id    int32  \n",
      " 1   meter          int32  \n",
      " 2   timestamp      object \n",
      " 3   meter_reading  float16\n",
      "dtypes: float16(1), int32(2), object(1)\n",
      "memory usage: 347.0+ MB\n"
     ]
    }
   ],
   "source": [
    "train_df.info()"
   ]
  },
  {
   "cell_type": "code",
   "execution_count": 108,
   "metadata": {},
   "outputs": [],
   "source": [
    "# convert dtype, categorical\n",
    "building_df['primary_use'] = building_df['primary_use'].astype('category')\n",
    "# building_df['year_built'] = building_df['year_built'].astype('category')"
   ]
  },
  {
   "cell_type": "code",
   "execution_count": 109,
   "metadata": {},
   "outputs": [
    {
     "name": "stdout",
     "output_type": "stream",
     "text": [
      "<class 'pandas.core.frame.DataFrame'>\n",
      "RangeIndex: 1449 entries, 0 to 1448\n",
      "Data columns (total 6 columns):\n",
      " #   Column       Non-Null Count  Dtype   \n",
      "---  ------       --------------  -----   \n",
      " 0   site_id      1449 non-null   int32   \n",
      " 1   building_id  1449 non-null   int32   \n",
      " 2   primary_use  1449 non-null   category\n",
      " 3   square_feet  1449 non-null   int32   \n",
      " 4   year_built   675 non-null    float16 \n",
      " 5   floor_count  355 non-null    float16 \n",
      "dtypes: category(1), float16(2), int32(3)\n",
      "memory usage: 24.9 KB\n"
     ]
    }
   ],
   "source": [
    "building_df.info()"
   ]
  },
  {
   "cell_type": "markdown",
   "metadata": {},
   "source": [
    "# Missing Values"
   ]
  },
  {
   "cell_type": "code",
   "execution_count": 110,
   "metadata": {},
   "outputs": [
    {
     "data": {
      "text/plain": [
       "site_id           0\n",
       "building_id       0\n",
       "primary_use       0\n",
       "square_feet       0\n",
       "year_built      774\n",
       "floor_count    1094\n",
       "dtype: int64"
      ]
     },
     "execution_count": 110,
     "metadata": {},
     "output_type": "execute_result"
    }
   ],
   "source": [
    "building_df.isnull().sum()"
   ]
  },
  {
   "cell_type": "code",
   "execution_count": 111,
   "metadata": {},
   "outputs": [
    {
     "data": {
      "text/plain": [
       "building_id      0\n",
       "meter            0\n",
       "timestamp        0\n",
       "meter_reading    0\n",
       "dtype: int64"
      ]
     },
     "execution_count": 111,
     "metadata": {},
     "output_type": "execute_result"
    }
   ],
   "source": [
    "train_df.isnull().sum()"
   ]
  },
  {
   "cell_type": "markdown",
   "metadata": {},
   "source": [
    "# Plots"
   ]
  },
  {
   "cell_type": "code",
   "execution_count": 112,
   "metadata": {},
   "outputs": [
    {
     "data": {
      "text/html": [
       "<div>\n",
       "<style scoped>\n",
       "    .dataframe tbody tr th:only-of-type {\n",
       "        vertical-align: middle;\n",
       "    }\n",
       "\n",
       "    .dataframe tbody tr th {\n",
       "        vertical-align: top;\n",
       "    }\n",
       "\n",
       "    .dataframe thead th {\n",
       "        text-align: right;\n",
       "    }\n",
       "</style>\n",
       "<table border=\"1\" class=\"dataframe\">\n",
       "  <thead>\n",
       "    <tr style=\"text-align: right;\">\n",
       "      <th></th>\n",
       "      <th>site_id</th>\n",
       "      <th>building_id</th>\n",
       "      <th>primary_use</th>\n",
       "      <th>square_feet</th>\n",
       "      <th>year_built</th>\n",
       "      <th>floor_count</th>\n",
       "    </tr>\n",
       "  </thead>\n",
       "  <tbody>\n",
       "    <tr>\n",
       "      <th>0</th>\n",
       "      <td>0</td>\n",
       "      <td>0</td>\n",
       "      <td>Education</td>\n",
       "      <td>7432</td>\n",
       "      <td>2008.0000</td>\n",
       "      <td>nan</td>\n",
       "    </tr>\n",
       "    <tr>\n",
       "      <th>1</th>\n",
       "      <td>0</td>\n",
       "      <td>1</td>\n",
       "      <td>Education</td>\n",
       "      <td>2720</td>\n",
       "      <td>2004.0000</td>\n",
       "      <td>nan</td>\n",
       "    </tr>\n",
       "    <tr>\n",
       "      <th>2</th>\n",
       "      <td>0</td>\n",
       "      <td>2</td>\n",
       "      <td>Education</td>\n",
       "      <td>5376</td>\n",
       "      <td>1991.0000</td>\n",
       "      <td>nan</td>\n",
       "    </tr>\n",
       "    <tr>\n",
       "      <th>3</th>\n",
       "      <td>0</td>\n",
       "      <td>3</td>\n",
       "      <td>Education</td>\n",
       "      <td>23685</td>\n",
       "      <td>2002.0000</td>\n",
       "      <td>nan</td>\n",
       "    </tr>\n",
       "    <tr>\n",
       "      <th>4</th>\n",
       "      <td>0</td>\n",
       "      <td>4</td>\n",
       "      <td>Education</td>\n",
       "      <td>116607</td>\n",
       "      <td>1975.0000</td>\n",
       "      <td>nan</td>\n",
       "    </tr>\n",
       "  </tbody>\n",
       "</table>\n",
       "</div>"
      ],
      "text/plain": [
       "   site_id  building_id primary_use  square_feet  year_built  floor_count\n",
       "0        0            0   Education         7432   2008.0000          nan\n",
       "1        0            1   Education         2720   2004.0000          nan\n",
       "2        0            2   Education         5376   1991.0000          nan\n",
       "3        0            3   Education        23685   2002.0000          nan\n",
       "4        0            4   Education       116607   1975.0000          nan"
      ]
     },
     "execution_count": 112,
     "metadata": {},
     "output_type": "execute_result"
    }
   ],
   "source": [
    "building_df.head()"
   ]
  },
  {
   "cell_type": "code",
   "execution_count": 113,
   "metadata": {},
   "outputs": [
    {
     "data": {
      "text/plain": [
       "Education                        549\n",
       "Office                           279\n",
       "Entertainment/public assembly    184\n",
       "Public services                  156\n",
       "Lodging/residential              147\n",
       "Other                             25\n",
       "Healthcare                        23\n",
       "Parking                           22\n",
       "Warehouse/storage                 13\n",
       "Manufacturing/industrial          12\n",
       "Retail                            11\n",
       "Services                          10\n",
       "Technology/science                 6\n",
       "Food sales and service             5\n",
       "Utility                            4\n",
       "Religious worship                  3\n",
       "Name: primary_use, dtype: int64"
      ]
     },
     "execution_count": 113,
     "metadata": {},
     "output_type": "execute_result"
    }
   ],
   "source": [
    "building_df['primary_use'].value_counts()"
   ]
  },
  {
   "cell_type": "code",
   "execution_count": 114,
   "metadata": {},
   "outputs": [],
   "source": [
    "def plot_bar(x, y, title='', x_axis='', y_axis='', **kwargs):\n",
    "    \"\"\"\n",
    "    Plotly Bar graph\n",
    "    \"\"\"\n",
    "    fig = go.Figure(\n",
    "        data=[go.Bar(x=x,\n",
    "                     y=y)]\n",
    "    )\n",
    "    # update title and axis\n",
    "    fig.update_layout(\n",
    "        title_text = title,\n",
    "        xaxis_title_text = x_axis,\n",
    "        yaxis_title_text = y_axis,\n",
    "        bargap=0.05,\n",
    "        **kwargs\n",
    "    )\n",
    "    return fig"
   ]
  },
  {
   "cell_type": "code",
   "execution_count": 115,
   "metadata": {},
   "outputs": [
    {
     "data": {
      "application/vnd.plotly.v1+json": {
       "config": {
        "plotlyServerURL": "https://plot.ly"
       },
       "data": [
        {
         "type": "bar",
         "x": [
          "Education",
          "Office",
          "Entertainment/public assembly",
          "Public services",
          "Lodging/residential",
          "Other",
          "Healthcare",
          "Parking",
          "Warehouse/storage",
          "Manufacturing/industrial",
          "Retail",
          "Services",
          "Technology/science",
          "Food sales and service",
          "Utility",
          "Religious worship"
         ],
         "y": [
          549,
          279,
          184,
          156,
          147,
          25,
          23,
          22,
          13,
          12,
          11,
          10,
          6,
          5,
          4,
          3
         ]
        }
       ],
       "layout": {
        "autosize": true,
        "bargap": 0.05,
        "template": {
         "data": {
          "bar": [
           {
            "error_x": {
             "color": "#2a3f5f"
            },
            "error_y": {
             "color": "#2a3f5f"
            },
            "marker": {
             "line": {
              "color": "#E5ECF6",
              "width": 0.5
             }
            },
            "type": "bar"
           }
          ],
          "barpolar": [
           {
            "marker": {
             "line": {
              "color": "#E5ECF6",
              "width": 0.5
             }
            },
            "type": "barpolar"
           }
          ],
          "carpet": [
           {
            "aaxis": {
             "endlinecolor": "#2a3f5f",
             "gridcolor": "white",
             "linecolor": "white",
             "minorgridcolor": "white",
             "startlinecolor": "#2a3f5f"
            },
            "baxis": {
             "endlinecolor": "#2a3f5f",
             "gridcolor": "white",
             "linecolor": "white",
             "minorgridcolor": "white",
             "startlinecolor": "#2a3f5f"
            },
            "type": "carpet"
           }
          ],
          "choropleth": [
           {
            "colorbar": {
             "outlinewidth": 0,
             "ticks": ""
            },
            "type": "choropleth"
           }
          ],
          "contour": [
           {
            "colorbar": {
             "outlinewidth": 0,
             "ticks": ""
            },
            "colorscale": [
             [
              0,
              "#0d0887"
             ],
             [
              0.1111111111111111,
              "#46039f"
             ],
             [
              0.2222222222222222,
              "#7201a8"
             ],
             [
              0.3333333333333333,
              "#9c179e"
             ],
             [
              0.4444444444444444,
              "#bd3786"
             ],
             [
              0.5555555555555556,
              "#d8576b"
             ],
             [
              0.6666666666666666,
              "#ed7953"
             ],
             [
              0.7777777777777778,
              "#fb9f3a"
             ],
             [
              0.8888888888888888,
              "#fdca26"
             ],
             [
              1,
              "#f0f921"
             ]
            ],
            "type": "contour"
           }
          ],
          "contourcarpet": [
           {
            "colorbar": {
             "outlinewidth": 0,
             "ticks": ""
            },
            "type": "contourcarpet"
           }
          ],
          "heatmap": [
           {
            "colorbar": {
             "outlinewidth": 0,
             "ticks": ""
            },
            "colorscale": [
             [
              0,
              "#0d0887"
             ],
             [
              0.1111111111111111,
              "#46039f"
             ],
             [
              0.2222222222222222,
              "#7201a8"
             ],
             [
              0.3333333333333333,
              "#9c179e"
             ],
             [
              0.4444444444444444,
              "#bd3786"
             ],
             [
              0.5555555555555556,
              "#d8576b"
             ],
             [
              0.6666666666666666,
              "#ed7953"
             ],
             [
              0.7777777777777778,
              "#fb9f3a"
             ],
             [
              0.8888888888888888,
              "#fdca26"
             ],
             [
              1,
              "#f0f921"
             ]
            ],
            "type": "heatmap"
           }
          ],
          "heatmapgl": [
           {
            "colorbar": {
             "outlinewidth": 0,
             "ticks": ""
            },
            "colorscale": [
             [
              0,
              "#0d0887"
             ],
             [
              0.1111111111111111,
              "#46039f"
             ],
             [
              0.2222222222222222,
              "#7201a8"
             ],
             [
              0.3333333333333333,
              "#9c179e"
             ],
             [
              0.4444444444444444,
              "#bd3786"
             ],
             [
              0.5555555555555556,
              "#d8576b"
             ],
             [
              0.6666666666666666,
              "#ed7953"
             ],
             [
              0.7777777777777778,
              "#fb9f3a"
             ],
             [
              0.8888888888888888,
              "#fdca26"
             ],
             [
              1,
              "#f0f921"
             ]
            ],
            "type": "heatmapgl"
           }
          ],
          "histogram": [
           {
            "marker": {
             "colorbar": {
              "outlinewidth": 0,
              "ticks": ""
             }
            },
            "type": "histogram"
           }
          ],
          "histogram2d": [
           {
            "colorbar": {
             "outlinewidth": 0,
             "ticks": ""
            },
            "colorscale": [
             [
              0,
              "#0d0887"
             ],
             [
              0.1111111111111111,
              "#46039f"
             ],
             [
              0.2222222222222222,
              "#7201a8"
             ],
             [
              0.3333333333333333,
              "#9c179e"
             ],
             [
              0.4444444444444444,
              "#bd3786"
             ],
             [
              0.5555555555555556,
              "#d8576b"
             ],
             [
              0.6666666666666666,
              "#ed7953"
             ],
             [
              0.7777777777777778,
              "#fb9f3a"
             ],
             [
              0.8888888888888888,
              "#fdca26"
             ],
             [
              1,
              "#f0f921"
             ]
            ],
            "type": "histogram2d"
           }
          ],
          "histogram2dcontour": [
           {
            "colorbar": {
             "outlinewidth": 0,
             "ticks": ""
            },
            "colorscale": [
             [
              0,
              "#0d0887"
             ],
             [
              0.1111111111111111,
              "#46039f"
             ],
             [
              0.2222222222222222,
              "#7201a8"
             ],
             [
              0.3333333333333333,
              "#9c179e"
             ],
             [
              0.4444444444444444,
              "#bd3786"
             ],
             [
              0.5555555555555556,
              "#d8576b"
             ],
             [
              0.6666666666666666,
              "#ed7953"
             ],
             [
              0.7777777777777778,
              "#fb9f3a"
             ],
             [
              0.8888888888888888,
              "#fdca26"
             ],
             [
              1,
              "#f0f921"
             ]
            ],
            "type": "histogram2dcontour"
           }
          ],
          "mesh3d": [
           {
            "colorbar": {
             "outlinewidth": 0,
             "ticks": ""
            },
            "type": "mesh3d"
           }
          ],
          "parcoords": [
           {
            "line": {
             "colorbar": {
              "outlinewidth": 0,
              "ticks": ""
             }
            },
            "type": "parcoords"
           }
          ],
          "pie": [
           {
            "automargin": true,
            "type": "pie"
           }
          ],
          "scatter": [
           {
            "marker": {
             "colorbar": {
              "outlinewidth": 0,
              "ticks": ""
             }
            },
            "type": "scatter"
           }
          ],
          "scatter3d": [
           {
            "line": {
             "colorbar": {
              "outlinewidth": 0,
              "ticks": ""
             }
            },
            "marker": {
             "colorbar": {
              "outlinewidth": 0,
              "ticks": ""
             }
            },
            "type": "scatter3d"
           }
          ],
          "scattercarpet": [
           {
            "marker": {
             "colorbar": {
              "outlinewidth": 0,
              "ticks": ""
             }
            },
            "type": "scattercarpet"
           }
          ],
          "scattergeo": [
           {
            "marker": {
             "colorbar": {
              "outlinewidth": 0,
              "ticks": ""
             }
            },
            "type": "scattergeo"
           }
          ],
          "scattergl": [
           {
            "marker": {
             "colorbar": {
              "outlinewidth": 0,
              "ticks": ""
             }
            },
            "type": "scattergl"
           }
          ],
          "scattermapbox": [
           {
            "marker": {
             "colorbar": {
              "outlinewidth": 0,
              "ticks": ""
             }
            },
            "type": "scattermapbox"
           }
          ],
          "scatterpolar": [
           {
            "marker": {
             "colorbar": {
              "outlinewidth": 0,
              "ticks": ""
             }
            },
            "type": "scatterpolar"
           }
          ],
          "scatterpolargl": [
           {
            "marker": {
             "colorbar": {
              "outlinewidth": 0,
              "ticks": ""
             }
            },
            "type": "scatterpolargl"
           }
          ],
          "scatterternary": [
           {
            "marker": {
             "colorbar": {
              "outlinewidth": 0,
              "ticks": ""
             }
            },
            "type": "scatterternary"
           }
          ],
          "surface": [
           {
            "colorbar": {
             "outlinewidth": 0,
             "ticks": ""
            },
            "colorscale": [
             [
              0,
              "#0d0887"
             ],
             [
              0.1111111111111111,
              "#46039f"
             ],
             [
              0.2222222222222222,
              "#7201a8"
             ],
             [
              0.3333333333333333,
              "#9c179e"
             ],
             [
              0.4444444444444444,
              "#bd3786"
             ],
             [
              0.5555555555555556,
              "#d8576b"
             ],
             [
              0.6666666666666666,
              "#ed7953"
             ],
             [
              0.7777777777777778,
              "#fb9f3a"
             ],
             [
              0.8888888888888888,
              "#fdca26"
             ],
             [
              1,
              "#f0f921"
             ]
            ],
            "type": "surface"
           }
          ],
          "table": [
           {
            "cells": {
             "fill": {
              "color": "#EBF0F8"
             },
             "line": {
              "color": "white"
             }
            },
            "header": {
             "fill": {
              "color": "#C8D4E3"
             },
             "line": {
              "color": "white"
             }
            },
            "type": "table"
           }
          ]
         },
         "layout": {
          "annotationdefaults": {
           "arrowcolor": "#2a3f5f",
           "arrowhead": 0,
           "arrowwidth": 1
          },
          "coloraxis": {
           "colorbar": {
            "outlinewidth": 0,
            "ticks": ""
           }
          },
          "colorscale": {
           "diverging": [
            [
             0,
             "#8e0152"
            ],
            [
             0.1,
             "#c51b7d"
            ],
            [
             0.2,
             "#de77ae"
            ],
            [
             0.3,
             "#f1b6da"
            ],
            [
             0.4,
             "#fde0ef"
            ],
            [
             0.5,
             "#f7f7f7"
            ],
            [
             0.6,
             "#e6f5d0"
            ],
            [
             0.7,
             "#b8e186"
            ],
            [
             0.8,
             "#7fbc41"
            ],
            [
             0.9,
             "#4d9221"
            ],
            [
             1,
             "#276419"
            ]
           ],
           "sequential": [
            [
             0,
             "#0d0887"
            ],
            [
             0.1111111111111111,
             "#46039f"
            ],
            [
             0.2222222222222222,
             "#7201a8"
            ],
            [
             0.3333333333333333,
             "#9c179e"
            ],
            [
             0.4444444444444444,
             "#bd3786"
            ],
            [
             0.5555555555555556,
             "#d8576b"
            ],
            [
             0.6666666666666666,
             "#ed7953"
            ],
            [
             0.7777777777777778,
             "#fb9f3a"
            ],
            [
             0.8888888888888888,
             "#fdca26"
            ],
            [
             1,
             "#f0f921"
            ]
           ],
           "sequentialminus": [
            [
             0,
             "#0d0887"
            ],
            [
             0.1111111111111111,
             "#46039f"
            ],
            [
             0.2222222222222222,
             "#7201a8"
            ],
            [
             0.3333333333333333,
             "#9c179e"
            ],
            [
             0.4444444444444444,
             "#bd3786"
            ],
            [
             0.5555555555555556,
             "#d8576b"
            ],
            [
             0.6666666666666666,
             "#ed7953"
            ],
            [
             0.7777777777777778,
             "#fb9f3a"
            ],
            [
             0.8888888888888888,
             "#fdca26"
            ],
            [
             1,
             "#f0f921"
            ]
           ]
          },
          "colorway": [
           "#636efa",
           "#EF553B",
           "#00cc96",
           "#ab63fa",
           "#FFA15A",
           "#19d3f3",
           "#FF6692",
           "#B6E880",
           "#FF97FF",
           "#FECB52"
          ],
          "font": {
           "color": "#2a3f5f"
          },
          "geo": {
           "bgcolor": "white",
           "lakecolor": "white",
           "landcolor": "#E5ECF6",
           "showlakes": true,
           "showland": true,
           "subunitcolor": "white"
          },
          "hoverlabel": {
           "align": "left"
          },
          "hovermode": "closest",
          "mapbox": {
           "style": "light"
          },
          "paper_bgcolor": "white",
          "plot_bgcolor": "#E5ECF6",
          "polar": {
           "angularaxis": {
            "gridcolor": "white",
            "linecolor": "white",
            "ticks": ""
           },
           "bgcolor": "#E5ECF6",
           "radialaxis": {
            "gridcolor": "white",
            "linecolor": "white",
            "ticks": ""
           }
          },
          "scene": {
           "xaxis": {
            "backgroundcolor": "#E5ECF6",
            "gridcolor": "white",
            "gridwidth": 2,
            "linecolor": "white",
            "showbackground": true,
            "ticks": "",
            "zerolinecolor": "white"
           },
           "yaxis": {
            "backgroundcolor": "#E5ECF6",
            "gridcolor": "white",
            "gridwidth": 2,
            "linecolor": "white",
            "showbackground": true,
            "ticks": "",
            "zerolinecolor": "white"
           },
           "zaxis": {
            "backgroundcolor": "#E5ECF6",
            "gridcolor": "white",
            "gridwidth": 2,
            "linecolor": "white",
            "showbackground": true,
            "ticks": "",
            "zerolinecolor": "white"
           }
          },
          "shapedefaults": {
           "line": {
            "color": "#2a3f5f"
           }
          },
          "ternary": {
           "aaxis": {
            "gridcolor": "white",
            "linecolor": "white",
            "ticks": ""
           },
           "baxis": {
            "gridcolor": "white",
            "linecolor": "white",
            "ticks": ""
           },
           "bgcolor": "#E5ECF6",
           "caxis": {
            "gridcolor": "white",
            "linecolor": "white",
            "ticks": ""
           }
          },
          "title": {
           "x": 0.05
          },
          "xaxis": {
           "automargin": true,
           "gridcolor": "white",
           "linecolor": "white",
           "ticks": "",
           "title": {
            "standoff": 15
           },
           "zerolinecolor": "white",
           "zerolinewidth": 2
          },
          "yaxis": {
           "automargin": true,
           "gridcolor": "white",
           "linecolor": "white",
           "ticks": "",
           "title": {
            "standoff": 15
           },
           "zerolinecolor": "white",
           "zerolinewidth": 2
          }
         }
        },
        "title": {
         "text": "Building Type"
        },
        "xaxis": {
         "autorange": true,
         "range": [
          -0.5,
          15.5
         ],
         "title": {
          "text": "Category"
         },
         "type": "category"
        },
        "yaxis": {
         "autorange": true,
         "range": [
          0,
          577.8947368421052
         ],
         "title": {
          "text": "Count"
         },
         "type": "linear"
        }
       }
      },
      "image/png": "[encoded data removed]",
      "text/html": [
       "<div>\n",
       "        \n",
       "        \n",
       "            <div id=\"0e58a8ad-83ac-4933-94d9-2321eac6288f\" class=\"plotly-graph-div\" style=\"height:525px; width:100%;\"></div>\n",
       "            <script type=\"text/javascript\">\n",
       "                require([\"plotly\"], function(Plotly) {\n",
       "                    window.PLOTLYENV=window.PLOTLYENV || {};\n",
       "                    \n",
       "                if (document.getElementById(\"0e58a8ad-83ac-4933-94d9-2321eac6288f\")) {\n",
       "                    Plotly.newPlot(\n",
       "                        '0e58a8ad-83ac-4933-94d9-2321eac6288f',\n",
       "                        [{\"type\": \"bar\", \"x\": [\"Education\", \"Office\", \"Entertainment/public assembly\", \"Public services\", \"Lodging/residential\", \"Other\", \"Healthcare\", \"Parking\", \"Warehouse/storage\", \"Manufacturing/industrial\", \"Retail\", \"Services\", \"Technology/science\", \"Food sales and service\", \"Utility\", \"Religious worship\"], \"y\": [549, 279, 184, 156, 147, 25, 23, 22, 13, 12, 11, 10, 6, 5, 4, 3]}],\n",
       "                        {\"bargap\": 0.05, \"template\": {\"data\": {\"bar\": [{\"error_x\": {\"color\": \"#2a3f5f\"}, \"error_y\": {\"color\": \"#2a3f5f\"}, \"marker\": {\"line\": {\"color\": \"#E5ECF6\", \"width\": 0.5}}, \"type\": \"bar\"}], \"barpolar\": [{\"marker\": {\"line\": {\"color\": \"#E5ECF6\", \"width\": 0.5}}, \"type\": \"barpolar\"}], \"carpet\": [{\"aaxis\": {\"endlinecolor\": \"#2a3f5f\", \"gridcolor\": \"white\", \"linecolor\": \"white\", \"minorgridcolor\": \"white\", \"startlinecolor\": \"#2a3f5f\"}, \"baxis\": {\"endlinecolor\": \"#2a3f5f\", \"gridcolor\": \"white\", \"linecolor\": \"white\", \"minorgridcolor\": \"white\", \"startlinecolor\": \"#2a3f5f\"}, \"type\": \"carpet\"}], \"choropleth\": [{\"colorbar\": {\"outlinewidth\": 0, \"ticks\": \"\"}, \"type\": \"choropleth\"}], \"contour\": [{\"colorbar\": {\"outlinewidth\": 0, \"ticks\": \"\"}, \"colorscale\": [[0.0, \"#0d0887\"], [0.1111111111111111, \"#46039f\"], [0.2222222222222222, \"#7201a8\"], [0.3333333333333333, \"#9c179e\"], [0.4444444444444444, \"#bd3786\"], [0.5555555555555556, \"#d8576b\"], [0.6666666666666666, \"#ed7953\"], [0.7777777777777778, \"#fb9f3a\"], [0.8888888888888888, \"#fdca26\"], [1.0, \"#f0f921\"]], \"type\": \"contour\"}], \"contourcarpet\": [{\"colorbar\": {\"outlinewidth\": 0, \"ticks\": \"\"}, \"type\": \"contourcarpet\"}], \"heatmap\": [{\"colorbar\": {\"outlinewidth\": 0, \"ticks\": \"\"}, \"colorscale\": [[0.0, \"#0d0887\"], [0.1111111111111111, \"#46039f\"], [0.2222222222222222, \"#7201a8\"], [0.3333333333333333, \"#9c179e\"], [0.4444444444444444, \"#bd3786\"], [0.5555555555555556, \"#d8576b\"], [0.6666666666666666, \"#ed7953\"], [0.7777777777777778, \"#fb9f3a\"], [0.8888888888888888, \"#fdca26\"], [1.0, \"#f0f921\"]], \"type\": \"heatmap\"}], \"heatmapgl\": [{\"colorbar\": {\"outlinewidth\": 0, \"ticks\": \"\"}, \"colorscale\": [[0.0, \"#0d0887\"], [0.1111111111111111, \"#46039f\"], [0.2222222222222222, \"#7201a8\"], [0.3333333333333333, \"#9c179e\"], [0.4444444444444444, \"#bd3786\"], [0.5555555555555556, \"#d8576b\"], [0.6666666666666666, \"#ed7953\"], [0.7777777777777778, \"#fb9f3a\"], [0.8888888888888888, \"#fdca26\"], [1.0, \"#f0f921\"]], \"type\": \"heatmapgl\"}], \"histogram\": [{\"marker\": {\"colorbar\": {\"outlinewidth\": 0, \"ticks\": \"\"}}, \"type\": \"histogram\"}], \"histogram2d\": [{\"colorbar\": {\"outlinewidth\": 0, \"ticks\": \"\"}, \"colorscale\": [[0.0, \"#0d0887\"], [0.1111111111111111, \"#46039f\"], [0.2222222222222222, \"#7201a8\"], [0.3333333333333333, \"#9c179e\"], [0.4444444444444444, \"#bd3786\"], [0.5555555555555556, \"#d8576b\"], [0.6666666666666666, \"#ed7953\"], [0.7777777777777778, \"#fb9f3a\"], [0.8888888888888888, \"#fdca26\"], [1.0, \"#f0f921\"]], \"type\": \"histogram2d\"}], \"histogram2dcontour\": [{\"colorbar\": {\"outlinewidth\": 0, \"ticks\": \"\"}, \"colorscale\": [[0.0, \"#0d0887\"], [0.1111111111111111, \"#46039f\"], [0.2222222222222222, \"#7201a8\"], [0.3333333333333333, \"#9c179e\"], [0.4444444444444444, \"#bd3786\"], [0.5555555555555556, \"#d8576b\"], [0.6666666666666666, \"#ed7953\"], [0.7777777777777778, \"#fb9f3a\"], [0.8888888888888888, \"#fdca26\"], [1.0, \"#f0f921\"]], \"type\": \"histogram2dcontour\"}], \"mesh3d\": [{\"colorbar\": {\"outlinewidth\": 0, \"ticks\": \"\"}, \"type\": \"mesh3d\"}], \"parcoords\": [{\"line\": {\"colorbar\": {\"outlinewidth\": 0, \"ticks\": \"\"}}, \"type\": \"parcoords\"}], \"pie\": [{\"automargin\": true, \"type\": \"pie\"}], \"scatter\": [{\"marker\": {\"colorbar\": {\"outlinewidth\": 0, \"ticks\": \"\"}}, \"type\": \"scatter\"}], \"scatter3d\": [{\"line\": {\"colorbar\": {\"outlinewidth\": 0, \"ticks\": \"\"}}, \"marker\": {\"colorbar\": {\"outlinewidth\": 0, \"ticks\": \"\"}}, \"type\": \"scatter3d\"}], \"scattercarpet\": [{\"marker\": {\"colorbar\": {\"outlinewidth\": 0, \"ticks\": \"\"}}, \"type\": \"scattercarpet\"}], \"scattergeo\": [{\"marker\": {\"colorbar\": {\"outlinewidth\": 0, \"ticks\": \"\"}}, \"type\": \"scattergeo\"}], \"scattergl\": [{\"marker\": {\"colorbar\": {\"outlinewidth\": 0, \"ticks\": \"\"}}, \"type\": \"scattergl\"}], \"scattermapbox\": [{\"marker\": {\"colorbar\": {\"outlinewidth\": 0, \"ticks\": \"\"}}, \"type\": \"scattermapbox\"}], \"scatterpolar\": [{\"marker\": {\"colorbar\": {\"outlinewidth\": 0, \"ticks\": \"\"}}, \"type\": \"scatterpolar\"}], \"scatterpolargl\": [{\"marker\": {\"colorbar\": {\"outlinewidth\": 0, \"ticks\": \"\"}}, \"type\": \"scatterpolargl\"}], \"scatterternary\": [{\"marker\": {\"colorbar\": {\"outlinewidth\": 0, \"ticks\": \"\"}}, \"type\": \"scatterternary\"}], \"surface\": [{\"colorbar\": {\"outlinewidth\": 0, \"ticks\": \"\"}, \"colorscale\": [[0.0, \"#0d0887\"], [0.1111111111111111, \"#46039f\"], [0.2222222222222222, \"#7201a8\"], [0.3333333333333333, \"#9c179e\"], [0.4444444444444444, \"#bd3786\"], [0.5555555555555556, \"#d8576b\"], [0.6666666666666666, \"#ed7953\"], [0.7777777777777778, \"#fb9f3a\"], [0.8888888888888888, \"#fdca26\"], [1.0, \"#f0f921\"]], \"type\": \"surface\"}], \"table\": [{\"cells\": {\"fill\": {\"color\": \"#EBF0F8\"}, \"line\": {\"color\": \"white\"}}, \"header\": {\"fill\": {\"color\": \"#C8D4E3\"}, \"line\": {\"color\": \"white\"}}, \"type\": \"table\"}]}, \"layout\": {\"annotationdefaults\": {\"arrowcolor\": \"#2a3f5f\", \"arrowhead\": 0, \"arrowwidth\": 1}, \"coloraxis\": {\"colorbar\": {\"outlinewidth\": 0, \"ticks\": \"\"}}, \"colorscale\": {\"diverging\": [[0, \"#8e0152\"], [0.1, \"#c51b7d\"], [0.2, \"#de77ae\"], [0.3, \"#f1b6da\"], [0.4, \"#fde0ef\"], [0.5, \"#f7f7f7\"], [0.6, \"#e6f5d0\"], [0.7, \"#b8e186\"], [0.8, \"#7fbc41\"], [0.9, \"#4d9221\"], [1, \"#276419\"]], \"sequential\": [[0.0, \"#0d0887\"], [0.1111111111111111, \"#46039f\"], [0.2222222222222222, \"#7201a8\"], [0.3333333333333333, \"#9c179e\"], [0.4444444444444444, \"#bd3786\"], [0.5555555555555556, \"#d8576b\"], [0.6666666666666666, \"#ed7953\"], [0.7777777777777778, \"#fb9f3a\"], [0.8888888888888888, \"#fdca26\"], [1.0, \"#f0f921\"]], \"sequentialminus\": [[0.0, \"#0d0887\"], [0.1111111111111111, \"#46039f\"], [0.2222222222222222, \"#7201a8\"], [0.3333333333333333, \"#9c179e\"], [0.4444444444444444, \"#bd3786\"], [0.5555555555555556, \"#d8576b\"], [0.6666666666666666, \"#ed7953\"], [0.7777777777777778, \"#fb9f3a\"], [0.8888888888888888, \"#fdca26\"], [1.0, \"#f0f921\"]]}, \"colorway\": [\"#636efa\", \"#EF553B\", \"#00cc96\", \"#ab63fa\", \"#FFA15A\", \"#19d3f3\", \"#FF6692\", \"#B6E880\", \"#FF97FF\", \"#FECB52\"], \"font\": {\"color\": \"#2a3f5f\"}, \"geo\": {\"bgcolor\": \"white\", \"lakecolor\": \"white\", \"landcolor\": \"#E5ECF6\", \"showlakes\": true, \"showland\": true, \"subunitcolor\": \"white\"}, \"hoverlabel\": {\"align\": \"left\"}, \"hovermode\": \"closest\", \"mapbox\": {\"style\": \"light\"}, \"paper_bgcolor\": \"white\", \"plot_bgcolor\": \"#E5ECF6\", \"polar\": {\"angularaxis\": {\"gridcolor\": \"white\", \"linecolor\": \"white\", \"ticks\": \"\"}, \"bgcolor\": \"#E5ECF6\", \"radialaxis\": {\"gridcolor\": \"white\", \"linecolor\": \"white\", \"ticks\": \"\"}}, \"scene\": {\"xaxis\": {\"backgroundcolor\": \"#E5ECF6\", \"gridcolor\": \"white\", \"gridwidth\": 2, \"linecolor\": \"white\", \"showbackground\": true, \"ticks\": \"\", \"zerolinecolor\": \"white\"}, \"yaxis\": {\"backgroundcolor\": \"#E5ECF6\", \"gridcolor\": \"white\", \"gridwidth\": 2, \"linecolor\": \"white\", \"showbackground\": true, \"ticks\": \"\", \"zerolinecolor\": \"white\"}, \"zaxis\": {\"backgroundcolor\": \"#E5ECF6\", \"gridcolor\": \"white\", \"gridwidth\": 2, \"linecolor\": \"white\", \"showbackground\": true, \"ticks\": \"\", \"zerolinecolor\": \"white\"}}, \"shapedefaults\": {\"line\": {\"color\": \"#2a3f5f\"}}, \"ternary\": {\"aaxis\": {\"gridcolor\": \"white\", \"linecolor\": \"white\", \"ticks\": \"\"}, \"baxis\": {\"gridcolor\": \"white\", \"linecolor\": \"white\", \"ticks\": \"\"}, \"bgcolor\": \"#E5ECF6\", \"caxis\": {\"gridcolor\": \"white\", \"linecolor\": \"white\", \"ticks\": \"\"}}, \"title\": {\"x\": 0.05}, \"xaxis\": {\"automargin\": true, \"gridcolor\": \"white\", \"linecolor\": \"white\", \"ticks\": \"\", \"title\": {\"standoff\": 15}, \"zerolinecolor\": \"white\", \"zerolinewidth\": 2}, \"yaxis\": {\"automargin\": true, \"gridcolor\": \"white\", \"linecolor\": \"white\", \"ticks\": \"\", \"title\": {\"standoff\": 15}, \"zerolinecolor\": \"white\", \"zerolinewidth\": 2}}}, \"title\": {\"text\": \"Building Type\"}, \"xaxis\": {\"title\": {\"text\": \"Category\"}}, \"yaxis\": {\"title\": {\"text\": \"Count\"}}},\n",
       "                        {\"responsive\": true}\n",
       "                    ).then(function(){\n",
       "                            \n",
       "var gd = document.getElementById('0e58a8ad-83ac-4933-94d9-2321eac6288f');\n",
       "var x = new MutationObserver(function (mutations, observer) {{\n",
       "        var display = window.getComputedStyle(gd).display;\n",
       "        if (!display || display === 'none') {{\n",
       "            console.log([gd, 'removed!']);\n",
       "            Plotly.purge(gd);\n",
       "            observer.disconnect();\n",
       "        }}\n",
       "}});\n",
       "\n",
       "// Listen for the removal of the full notebook cells\n",
       "var notebookContainer = gd.closest('#notebook-container');\n",
       "if (notebookContainer) {{\n",
       "    x.observe(notebookContainer, {childList: true});\n",
       "}}\n",
       "\n",
       "// Listen for the clearing of the current output cell\n",
       "var outputEl = gd.closest('.output');\n",
       "if (outputEl) {{\n",
       "    x.observe(outputEl, {childList: true});\n",
       "}}\n",
       "\n",
       "                        })\n",
       "                };\n",
       "                });\n",
       "            </script>\n",
       "        </div>"
      ]
     },
     "metadata": {},
     "output_type": "display_data"
    }
   ],
   "source": [
    "x_use = building_df['primary_use'].value_counts().index.values\n",
    "y_count = building_df['primary_use'].value_counts().values\n",
    "\n",
    "# fig = go.Figure(\n",
    "#     data=[\n",
    "#         go.Bar(x=x_use,\n",
    "#                y=y_count)\n",
    "#     ]\n",
    "# )\n",
    "\n",
    "# fig.update_layout(\n",
    "#     title_text='Category Count', # title of plot\n",
    "#     xaxis_title_text='Category', # xaxis label\n",
    "#     yaxis_title_text='Count', # yaxis label\n",
    "#     bargap=0.05, # gap between bars of adjacent location coordinates\n",
    "# #     bargroupgap=0.5 # gap between bars of the same location coordinates\n",
    "# )\n",
    "# fig\n",
    "plot_bar(x_use,\n",
    "         y_count,\n",
    "         title='Building Type',\n",
    "         x_axis='Category',\n",
    "         y_axis='Count'\n",
    "        )"
   ]
  },
  {
   "cell_type": "code",
   "execution_count": 125,
   "metadata": {},
   "outputs": [],
   "source": [
    "# year built\n",
    "years = building_df['year_built'].dropna(how='any').astype(np.int16)\n",
    "years = years.value_counts().sort_index()"
   ]
  },
  {
   "cell_type": "code",
   "execution_count": 133,
   "metadata": {},
   "outputs": [],
   "source": [
    "# plt.figure(figsize=(20,6))\n",
    "# years.plot(kind='bar', edgecolor='k')\n",
    "# plt.show()"
   ]
  },
  {
   "cell_type": "code",
   "execution_count": 127,
   "metadata": {},
   "outputs": [
    {
     "data": {
      "application/vnd.plotly.v1+json": {
       "config": {
        "plotlyServerURL": "https://plot.ly"
       },
       "data": [
        {
         "type": "bar",
         "x": [
          1900,
          1902,
          1903,
          1904,
          1905,
          1906,
          1907,
          1908,
          1909,
          1910,
          1911,
          1912,
          1913,
          1914,
          1915,
          1916,
          1917,
          1918,
          1919,
          1920,
          1921,
          1922,
          1923,
          1924,
          1925,
          1926,
          1927,
          1928,
          1929,
          1930,
          1931,
          1932,
          1933,
          1934,
          1935,
          1936,
          1937,
          1938,
          1939,
          1940,
          1941,
          1942,
          1944,
          1945,
          1946,
          1947,
          1948,
          1949,
          1950,
          1951,
          1952,
          1953,
          1954,
          1955,
          1956,
          1957,
          1958,
          1959,
          1960,
          1961,
          1962,
          1963,
          1964,
          1965,
          1966,
          1967,
          1968,
          1969,
          1970,
          1971,
          1972,
          1973,
          1974,
          1975,
          1976,
          1977,
          1978,
          1979,
          1980,
          1981,
          1982,
          1983,
          1984,
          1985,
          1986,
          1987,
          1988,
          1989,
          1990,
          1991,
          1992,
          1993,
          1994,
          1995,
          1996,
          1997,
          1998,
          1999,
          2000,
          2001,
          2002,
          2003,
          2004,
          2005,
          2006,
          2007,
          2008,
          2009,
          2010,
          2011,
          2012,
          2013,
          2014,
          2015,
          2016,
          2017
         ],
         "y": [
          5,
          1,
          3,
          2,
          1,
          2,
          3,
          3,
          5,
          5,
          4,
          6,
          6,
          4,
          2,
          1,
          3,
          1,
          17,
          2,
          2,
          1,
          8,
          3,
          2,
          1,
          3,
          3,
          4,
          10,
          6,
          6,
          4,
          1,
          4,
          1,
          1,
          1,
          3,
          5,
          5,
          5,
          1,
          4,
          1,
          1,
          5,
          4,
          4,
          5,
          2,
          6,
          2,
          5,
          8,
          5,
          7,
          10,
          13,
          5,
          5,
          7,
          15,
          6,
          23,
          10,
          18,
          7,
          12,
          5,
          1,
          3,
          6,
          13,
          55,
          3,
          5,
          4,
          4,
          6,
          4,
          4,
          2,
          4,
          5,
          2,
          2,
          9,
          7,
          4,
          2,
          4,
          3,
          5,
          6,
          4,
          2,
          8,
          5,
          12,
          11,
          5,
          14,
          10,
          13,
          13,
          5,
          4,
          12,
          7,
          4,
          9,
          12,
          3,
          7,
          1
         ]
        }
       ],
       "layout": {
        "autosize": true,
        "bargap": 0.05,
        "template": {
         "data": {
          "bar": [
           {
            "error_x": {
             "color": "#2a3f5f"
            },
            "error_y": {
             "color": "#2a3f5f"
            },
            "marker": {
             "line": {
              "color": "#E5ECF6",
              "width": 0.5
             }
            },
            "type": "bar"
           }
          ],
          "barpolar": [
           {
            "marker": {
             "line": {
              "color": "#E5ECF6",
              "width": 0.5
             }
            },
            "type": "barpolar"
           }
          ],
          "carpet": [
           {
            "aaxis": {
             "endlinecolor": "#2a3f5f",
             "gridcolor": "white",
             "linecolor": "white",
             "minorgridcolor": "white",
             "startlinecolor": "#2a3f5f"
            },
            "baxis": {
             "endlinecolor": "#2a3f5f",
             "gridcolor": "white",
             "linecolor": "white",
             "minorgridcolor": "white",
             "startlinecolor": "#2a3f5f"
            },
            "type": "carpet"
           }
          ],
          "choropleth": [
           {
            "colorbar": {
             "outlinewidth": 0,
             "ticks": ""
            },
            "type": "choropleth"
           }
          ],
          "contour": [
           {
            "colorbar": {
             "outlinewidth": 0,
             "ticks": ""
            },
            "colorscale": [
             [
              0,
              "#0d0887"
             ],
             [
              0.1111111111111111,
              "#46039f"
             ],
             [
              0.2222222222222222,
              "#7201a8"
             ],
             [
              0.3333333333333333,
              "#9c179e"
             ],
             [
              0.4444444444444444,
              "#bd3786"
             ],
             [
              0.5555555555555556,
              "#d8576b"
             ],
             [
              0.6666666666666666,
              "#ed7953"
             ],
             [
              0.7777777777777778,
              "#fb9f3a"
             ],
             [
              0.8888888888888888,
              "#fdca26"
             ],
             [
              1,
              "#f0f921"
             ]
            ],
            "type": "contour"
           }
          ],
          "contourcarpet": [
           {
            "colorbar": {
             "outlinewidth": 0,
             "ticks": ""
            },
            "type": "contourcarpet"
           }
          ],
          "heatmap": [
           {
            "colorbar": {
             "outlinewidth": 0,
             "ticks": ""
            },
            "colorscale": [
             [
              0,
              "#0d0887"
             ],
             [
              0.1111111111111111,
              "#46039f"
             ],
             [
              0.2222222222222222,
              "#7201a8"
             ],
             [
              0.3333333333333333,
              "#9c179e"
             ],
             [
              0.4444444444444444,
              "#bd3786"
             ],
             [
              0.5555555555555556,
              "#d8576b"
             ],
             [
              0.6666666666666666,
              "#ed7953"
             ],
             [
              0.7777777777777778,
              "#fb9f3a"
             ],
             [
              0.8888888888888888,
              "#fdca26"
             ],
             [
              1,
              "#f0f921"
             ]
            ],
            "type": "heatmap"
           }
          ],
          "heatmapgl": [
           {
            "colorbar": {
             "outlinewidth": 0,
             "ticks": ""
            },
            "colorscale": [
             [
              0,
              "#0d0887"
             ],
             [
              0.1111111111111111,
              "#46039f"
             ],
             [
              0.2222222222222222,
              "#7201a8"
             ],
             [
              0.3333333333333333,
              "#9c179e"
             ],
             [
              0.4444444444444444,
              "#bd3786"
             ],
             [
              0.5555555555555556,
              "#d8576b"
             ],
             [
              0.6666666666666666,
              "#ed7953"
             ],
             [
              0.7777777777777778,
              "#fb9f3a"
             ],
             [
              0.8888888888888888,
              "#fdca26"
             ],
             [
              1,
              "#f0f921"
             ]
            ],
            "type": "heatmapgl"
           }
          ],
          "histogram": [
           {
            "marker": {
             "colorbar": {
              "outlinewidth": 0,
              "ticks": ""
             }
            },
            "type": "histogram"
           }
          ],
          "histogram2d": [
           {
            "colorbar": {
             "outlinewidth": 0,
             "ticks": ""
            },
            "colorscale": [
             [
              0,
              "#0d0887"
             ],
             [
              0.1111111111111111,
              "#46039f"
             ],
             [
              0.2222222222222222,
              "#7201a8"
             ],
             [
              0.3333333333333333,
              "#9c179e"
             ],
             [
              0.4444444444444444,
              "#bd3786"
             ],
             [
              0.5555555555555556,
              "#d8576b"
             ],
             [
              0.6666666666666666,
              "#ed7953"
             ],
             [
              0.7777777777777778,
              "#fb9f3a"
             ],
             [
              0.8888888888888888,
              "#fdca26"
             ],
             [
              1,
              "#f0f921"
             ]
            ],
            "type": "histogram2d"
           }
          ],
          "histogram2dcontour": [
           {
            "colorbar": {
             "outlinewidth": 0,
             "ticks": ""
            },
            "colorscale": [
             [
              0,
              "#0d0887"
             ],
             [
              0.1111111111111111,
              "#46039f"
             ],
             [
              0.2222222222222222,
              "#7201a8"
             ],
             [
              0.3333333333333333,
              "#9c179e"
             ],
             [
              0.4444444444444444,
              "#bd3786"
             ],
             [
              0.5555555555555556,
              "#d8576b"
             ],
             [
              0.6666666666666666,
              "#ed7953"
             ],
             [
              0.7777777777777778,
              "#fb9f3a"
             ],
             [
              0.8888888888888888,
              "#fdca26"
             ],
             [
              1,
              "#f0f921"
             ]
            ],
            "type": "histogram2dcontour"
           }
          ],
          "mesh3d": [
           {
            "colorbar": {
             "outlinewidth": 0,
             "ticks": ""
            },
            "type": "mesh3d"
           }
          ],
          "parcoords": [
           {
            "line": {
             "colorbar": {
              "outlinewidth": 0,
              "ticks": ""
             }
            },
            "type": "parcoords"
           }
          ],
          "pie": [
           {
            "automargin": true,
            "type": "pie"
           }
          ],
          "scatter": [
           {
            "marker": {
             "colorbar": {
              "outlinewidth": 0,
              "ticks": ""
             }
            },
            "type": "scatter"
           }
          ],
          "scatter3d": [
           {
            "line": {
             "colorbar": {
              "outlinewidth": 0,
              "ticks": ""
             }
            },
            "marker": {
             "colorbar": {
              "outlinewidth": 0,
              "ticks": ""
             }
            },
            "type": "scatter3d"
           }
          ],
          "scattercarpet": [
           {
            "marker": {
             "colorbar": {
              "outlinewidth": 0,
              "ticks": ""
             }
            },
            "type": "scattercarpet"
           }
          ],
          "scattergeo": [
           {
            "marker": {
             "colorbar": {
              "outlinewidth": 0,
              "ticks": ""
             }
            },
            "type": "scattergeo"
           }
          ],
          "scattergl": [
           {
            "marker": {
             "colorbar": {
              "outlinewidth": 0,
              "ticks": ""
             }
            },
            "type": "scattergl"
           }
          ],
          "scattermapbox": [
           {
            "marker": {
             "colorbar": {
              "outlinewidth": 0,
              "ticks": ""
             }
            },
            "type": "scattermapbox"
           }
          ],
          "scatterpolar": [
           {
            "marker": {
             "colorbar": {
              "outlinewidth": 0,
              "ticks": ""
             }
            },
            "type": "scatterpolar"
           }
          ],
          "scatterpolargl": [
           {
            "marker": {
             "colorbar": {
              "outlinewidth": 0,
              "ticks": ""
             }
            },
            "type": "scatterpolargl"
           }
          ],
          "scatterternary": [
           {
            "marker": {
             "colorbar": {
              "outlinewidth": 0,
              "ticks": ""
             }
            },
            "type": "scatterternary"
           }
          ],
          "surface": [
           {
            "colorbar": {
             "outlinewidth": 0,
             "ticks": ""
            },
            "colorscale": [
             [
              0,
              "#0d0887"
             ],
             [
              0.1111111111111111,
              "#46039f"
             ],
             [
              0.2222222222222222,
              "#7201a8"
             ],
             [
              0.3333333333333333,
              "#9c179e"
             ],
             [
              0.4444444444444444,
              "#bd3786"
             ],
             [
              0.5555555555555556,
              "#d8576b"
             ],
             [
              0.6666666666666666,
              "#ed7953"
             ],
             [
              0.7777777777777778,
              "#fb9f3a"
             ],
             [
              0.8888888888888888,
              "#fdca26"
             ],
             [
              1,
              "#f0f921"
             ]
            ],
            "type": "surface"
           }
          ],
          "table": [
           {
            "cells": {
             "fill": {
              "color": "#EBF0F8"
             },
             "line": {
              "color": "white"
             }
            },
            "header": {
             "fill": {
              "color": "#C8D4E3"
             },
             "line": {
              "color": "white"
             }
            },
            "type": "table"
           }
          ]
         },
         "layout": {
          "annotationdefaults": {
           "arrowcolor": "#2a3f5f",
           "arrowhead": 0,
           "arrowwidth": 1
          },
          "coloraxis": {
           "colorbar": {
            "outlinewidth": 0,
            "ticks": ""
           }
          },
          "colorscale": {
           "diverging": [
            [
             0,
             "#8e0152"
            ],
            [
             0.1,
             "#c51b7d"
            ],
            [
             0.2,
             "#de77ae"
            ],
            [
             0.3,
             "#f1b6da"
            ],
            [
             0.4,
             "#fde0ef"
            ],
            [
             0.5,
             "#f7f7f7"
            ],
            [
             0.6,
             "#e6f5d0"
            ],
            [
             0.7,
             "#b8e186"
            ],
            [
             0.8,
             "#7fbc41"
            ],
            [
             0.9,
             "#4d9221"
            ],
            [
             1,
             "#276419"
            ]
           ],
           "sequential": [
            [
             0,
             "#0d0887"
            ],
            [
             0.1111111111111111,
             "#46039f"
            ],
            [
             0.2222222222222222,
             "#7201a8"
            ],
            [
             0.3333333333333333,
             "#9c179e"
            ],
            [
             0.4444444444444444,
             "#bd3786"
            ],
            [
             0.5555555555555556,
             "#d8576b"
            ],
            [
             0.6666666666666666,
             "#ed7953"
            ],
            [
             0.7777777777777778,
             "#fb9f3a"
            ],
            [
             0.8888888888888888,
             "#fdca26"
            ],
            [
             1,
             "#f0f921"
            ]
           ],
           "sequentialminus": [
            [
             0,
             "#0d0887"
            ],
            [
             0.1111111111111111,
             "#46039f"
            ],
            [
             0.2222222222222222,
             "#7201a8"
            ],
            [
             0.3333333333333333,
             "#9c179e"
            ],
            [
             0.4444444444444444,
             "#bd3786"
            ],
            [
             0.5555555555555556,
             "#d8576b"
            ],
            [
             0.6666666666666666,
             "#ed7953"
            ],
            [
             0.7777777777777778,
             "#fb9f3a"
            ],
            [
             0.8888888888888888,
             "#fdca26"
            ],
            [
             1,
             "#f0f921"
            ]
           ]
          },
          "colorway": [
           "#636efa",
           "#EF553B",
           "#00cc96",
           "#ab63fa",
           "#FFA15A",
           "#19d3f3",
           "#FF6692",
           "#B6E880",
           "#FF97FF",
           "#FECB52"
          ],
          "font": {
           "color": "#2a3f5f"
          },
          "geo": {
           "bgcolor": "white",
           "lakecolor": "white",
           "landcolor": "#E5ECF6",
           "showlakes": true,
           "showland": true,
           "subunitcolor": "white"
          },
          "hoverlabel": {
           "align": "left"
          },
          "hovermode": "closest",
          "mapbox": {
           "style": "light"
          },
          "paper_bgcolor": "white",
          "plot_bgcolor": "#E5ECF6",
          "polar": {
           "angularaxis": {
            "gridcolor": "white",
            "linecolor": "white",
            "ticks": ""
           },
           "bgcolor": "#E5ECF6",
           "radialaxis": {
            "gridcolor": "white",
            "linecolor": "white",
            "ticks": ""
           }
          },
          "scene": {
           "xaxis": {
            "backgroundcolor": "#E5ECF6",
            "gridcolor": "white",
            "gridwidth": 2,
            "linecolor": "white",
            "showbackground": true,
            "ticks": "",
            "zerolinecolor": "white"
           },
           "yaxis": {
            "backgroundcolor": "#E5ECF6",
            "gridcolor": "white",
            "gridwidth": 2,
            "linecolor": "white",
            "showbackground": true,
            "ticks": "",
            "zerolinecolor": "white"
           },
           "zaxis": {
            "backgroundcolor": "#E5ECF6",
            "gridcolor": "white",
            "gridwidth": 2,
            "linecolor": "white",
            "showbackground": true,
            "ticks": "",
            "zerolinecolor": "white"
           }
          },
          "shapedefaults": {
           "line": {
            "color": "#2a3f5f"
           }
          },
          "ternary": {
           "aaxis": {
            "gridcolor": "white",
            "linecolor": "white",
            "ticks": ""
           },
           "baxis": {
            "gridcolor": "white",
            "linecolor": "white",
            "ticks": ""
           },
           "bgcolor": "#E5ECF6",
           "caxis": {
            "gridcolor": "white",
            "linecolor": "white",
            "ticks": ""
           }
          },
          "title": {
           "x": 0.05
          },
          "xaxis": {
           "automargin": true,
           "gridcolor": "white",
           "linecolor": "white",
           "ticks": "",
           "title": {
            "standoff": 15
           },
           "zerolinecolor": "white",
           "zerolinewidth": 2
          },
          "yaxis": {
           "automargin": true,
           "gridcolor": "white",
           "linecolor": "white",
           "ticks": "",
           "title": {
            "standoff": 15
           },
           "zerolinecolor": "white",
           "zerolinewidth": 2
          }
         }
        },
        "title": {
         "text": ""
        },
        "xaxis": {
         "autorange": true,
         "range": [
          1899.5,
          2017.5
         ],
         "title": {
          "text": ""
         },
         "type": "linear"
        },
        "yaxis": {
         "autorange": true,
         "range": [
          0,
          57.89473684210526
         ],
         "title": {
          "text": ""
         },
         "type": "linear"
        }
       }
      },
      "image/png": "[encoded data removed]",
      "text/html": [
       "<div>\n",
       "        \n",
       "        \n",
       "            <div id=\"dcef2106-eebf-4b3f-8ee5-c183d602364f\" class=\"plotly-graph-div\" style=\"height:525px; width:100%;\"></div>\n",
       "            <script type=\"text/javascript\">\n",
       "                require([\"plotly\"], function(Plotly) {\n",
       "                    window.PLOTLYENV=window.PLOTLYENV || {};\n",
       "                    \n",
       "                if (document.getElementById(\"dcef2106-eebf-4b3f-8ee5-c183d602364f\")) {\n",
       "                    Plotly.newPlot(\n",
       "                        'dcef2106-eebf-4b3f-8ee5-c183d602364f',\n",
       "                        [{\"type\": \"bar\", \"x\": [1900, 1902, 1903, 1904, 1905, 1906, 1907, 1908, 1909, 1910, 1911, 1912, 1913, 1914, 1915, 1916, 1917, 1918, 1919, 1920, 1921, 1922, 1923, 1924, 1925, 1926, 1927, 1928, 1929, 1930, 1931, 1932, 1933, 1934, 1935, 1936, 1937, 1938, 1939, 1940, 1941, 1942, 1944, 1945, 1946, 1947, 1948, 1949, 1950, 1951, 1952, 1953, 1954, 1955, 1956, 1957, 1958, 1959, 1960, 1961, 1962, 1963, 1964, 1965, 1966, 1967, 1968, 1969, 1970, 1971, 1972, 1973, 1974, 1975, 1976, 1977, 1978, 1979, 1980, 1981, 1982, 1983, 1984, 1985, 1986, 1987, 1988, 1989, 1990, 1991, 1992, 1993, 1994, 1995, 1996, 1997, 1998, 1999, 2000, 2001, 2002, 2003, 2004, 2005, 2006, 2007, 2008, 2009, 2010, 2011, 2012, 2013, 2014, 2015, 2016, 2017], \"y\": [5, 1, 3, 2, 1, 2, 3, 3, 5, 5, 4, 6, 6, 4, 2, 1, 3, 1, 17, 2, 2, 1, 8, 3, 2, 1, 3, 3, 4, 10, 6, 6, 4, 1, 4, 1, 1, 1, 3, 5, 5, 5, 1, 4, 1, 1, 5, 4, 4, 5, 2, 6, 2, 5, 8, 5, 7, 10, 13, 5, 5, 7, 15, 6, 23, 10, 18, 7, 12, 5, 1, 3, 6, 13, 55, 3, 5, 4, 4, 6, 4, 4, 2, 4, 5, 2, 2, 9, 7, 4, 2, 4, 3, 5, 6, 4, 2, 8, 5, 12, 11, 5, 14, 10, 13, 13, 5, 4, 12, 7, 4, 9, 12, 3, 7, 1]}],\n",
       "                        {\"bargap\": 0.05, \"template\": {\"data\": {\"bar\": [{\"error_x\": {\"color\": \"#2a3f5f\"}, \"error_y\": {\"color\": \"#2a3f5f\"}, \"marker\": {\"line\": {\"color\": \"#E5ECF6\", \"width\": 0.5}}, \"type\": \"bar\"}], \"barpolar\": [{\"marker\": {\"line\": {\"color\": \"#E5ECF6\", \"width\": 0.5}}, \"type\": \"barpolar\"}], \"carpet\": [{\"aaxis\": {\"endlinecolor\": \"#2a3f5f\", \"gridcolor\": \"white\", \"linecolor\": \"white\", \"minorgridcolor\": \"white\", \"startlinecolor\": \"#2a3f5f\"}, \"baxis\": {\"endlinecolor\": \"#2a3f5f\", \"gridcolor\": \"white\", \"linecolor\": \"white\", \"minorgridcolor\": \"white\", \"startlinecolor\": \"#2a3f5f\"}, \"type\": \"carpet\"}], \"choropleth\": [{\"colorbar\": {\"outlinewidth\": 0, \"ticks\": \"\"}, \"type\": \"choropleth\"}], \"contour\": [{\"colorbar\": {\"outlinewidth\": 0, \"ticks\": \"\"}, \"colorscale\": [[0.0, \"#0d0887\"], [0.1111111111111111, \"#46039f\"], [0.2222222222222222, \"#7201a8\"], [0.3333333333333333, \"#9c179e\"], [0.4444444444444444, \"#bd3786\"], [0.5555555555555556, \"#d8576b\"], [0.6666666666666666, \"#ed7953\"], [0.7777777777777778, \"#fb9f3a\"], [0.8888888888888888, \"#fdca26\"], [1.0, \"#f0f921\"]], \"type\": \"contour\"}], \"contourcarpet\": [{\"colorbar\": {\"outlinewidth\": 0, \"ticks\": \"\"}, \"type\": \"contourcarpet\"}], \"heatmap\": [{\"colorbar\": {\"outlinewidth\": 0, \"ticks\": \"\"}, \"colorscale\": [[0.0, \"#0d0887\"], [0.1111111111111111, \"#46039f\"], [0.2222222222222222, \"#7201a8\"], [0.3333333333333333, \"#9c179e\"], [0.4444444444444444, \"#bd3786\"], [0.5555555555555556, \"#d8576b\"], [0.6666666666666666, \"#ed7953\"], [0.7777777777777778, \"#fb9f3a\"], [0.8888888888888888, \"#fdca26\"], [1.0, \"#f0f921\"]], \"type\": \"heatmap\"}], \"heatmapgl\": [{\"colorbar\": {\"outlinewidth\": 0, \"ticks\": \"\"}, \"colorscale\": [[0.0, \"#0d0887\"], [0.1111111111111111, \"#46039f\"], [0.2222222222222222, \"#7201a8\"], [0.3333333333333333, \"#9c179e\"], [0.4444444444444444, \"#bd3786\"], [0.5555555555555556, \"#d8576b\"], [0.6666666666666666, \"#ed7953\"], [0.7777777777777778, \"#fb9f3a\"], [0.8888888888888888, \"#fdca26\"], [1.0, \"#f0f921\"]], \"type\": \"heatmapgl\"}], \"histogram\": [{\"marker\": {\"colorbar\": {\"outlinewidth\": 0, \"ticks\": \"\"}}, \"type\": \"histogram\"}], \"histogram2d\": [{\"colorbar\": {\"outlinewidth\": 0, \"ticks\": \"\"}, \"colorscale\": [[0.0, \"#0d0887\"], [0.1111111111111111, \"#46039f\"], [0.2222222222222222, \"#7201a8\"], [0.3333333333333333, \"#9c179e\"], [0.4444444444444444, \"#bd3786\"], [0.5555555555555556, \"#d8576b\"], [0.6666666666666666, \"#ed7953\"], [0.7777777777777778, \"#fb9f3a\"], [0.8888888888888888, \"#fdca26\"], [1.0, \"#f0f921\"]], \"type\": \"histogram2d\"}], \"histogram2dcontour\": [{\"colorbar\": {\"outlinewidth\": 0, \"ticks\": \"\"}, \"colorscale\": [[0.0, \"#0d0887\"], [0.1111111111111111, \"#46039f\"], [0.2222222222222222, \"#7201a8\"], [0.3333333333333333, \"#9c179e\"], [0.4444444444444444, \"#bd3786\"], [0.5555555555555556, \"#d8576b\"], [0.6666666666666666, \"#ed7953\"], [0.7777777777777778, \"#fb9f3a\"], [0.8888888888888888, \"#fdca26\"], [1.0, \"#f0f921\"]], \"type\": \"histogram2dcontour\"}], \"mesh3d\": [{\"colorbar\": {\"outlinewidth\": 0, \"ticks\": \"\"}, \"type\": \"mesh3d\"}], \"parcoords\": [{\"line\": {\"colorbar\": {\"outlinewidth\": 0, \"ticks\": \"\"}}, \"type\": \"parcoords\"}], \"pie\": [{\"automargin\": true, \"type\": \"pie\"}], \"scatter\": [{\"marker\": {\"colorbar\": {\"outlinewidth\": 0, \"ticks\": \"\"}}, \"type\": \"scatter\"}], \"scatter3d\": [{\"line\": {\"colorbar\": {\"outlinewidth\": 0, \"ticks\": \"\"}}, \"marker\": {\"colorbar\": {\"outlinewidth\": 0, \"ticks\": \"\"}}, \"type\": \"scatter3d\"}], \"scattercarpet\": [{\"marker\": {\"colorbar\": {\"outlinewidth\": 0, \"ticks\": \"\"}}, \"type\": \"scattercarpet\"}], \"scattergeo\": [{\"marker\": {\"colorbar\": {\"outlinewidth\": 0, \"ticks\": \"\"}}, \"type\": \"scattergeo\"}], \"scattergl\": [{\"marker\": {\"colorbar\": {\"outlinewidth\": 0, \"ticks\": \"\"}}, \"type\": \"scattergl\"}], \"scattermapbox\": [{\"marker\": {\"colorbar\": {\"outlinewidth\": 0, \"ticks\": \"\"}}, \"type\": \"scattermapbox\"}], \"scatterpolar\": [{\"marker\": {\"colorbar\": {\"outlinewidth\": 0, \"ticks\": \"\"}}, \"type\": \"scatterpolar\"}], \"scatterpolargl\": [{\"marker\": {\"colorbar\": {\"outlinewidth\": 0, \"ticks\": \"\"}}, \"type\": \"scatterpolargl\"}], \"scatterternary\": [{\"marker\": {\"colorbar\": {\"outlinewidth\": 0, \"ticks\": \"\"}}, \"type\": \"scatterternary\"}], \"surface\": [{\"colorbar\": {\"outlinewidth\": 0, \"ticks\": \"\"}, \"colorscale\": [[0.0, \"#0d0887\"], [0.1111111111111111, \"#46039f\"], [0.2222222222222222, \"#7201a8\"], [0.3333333333333333, \"#9c179e\"], [0.4444444444444444, \"#bd3786\"], [0.5555555555555556, \"#d8576b\"], [0.6666666666666666, \"#ed7953\"], [0.7777777777777778, \"#fb9f3a\"], [0.8888888888888888, \"#fdca26\"], [1.0, \"#f0f921\"]], \"type\": \"surface\"}], \"table\": [{\"cells\": {\"fill\": {\"color\": \"#EBF0F8\"}, \"line\": {\"color\": \"white\"}}, \"header\": {\"fill\": {\"color\": \"#C8D4E3\"}, \"line\": {\"color\": \"white\"}}, \"type\": \"table\"}]}, \"layout\": {\"annotationdefaults\": {\"arrowcolor\": \"#2a3f5f\", \"arrowhead\": 0, \"arrowwidth\": 1}, \"coloraxis\": {\"colorbar\": {\"outlinewidth\": 0, \"ticks\": \"\"}}, \"colorscale\": {\"diverging\": [[0, \"#8e0152\"], [0.1, \"#c51b7d\"], [0.2, \"#de77ae\"], [0.3, \"#f1b6da\"], [0.4, \"#fde0ef\"], [0.5, \"#f7f7f7\"], [0.6, \"#e6f5d0\"], [0.7, \"#b8e186\"], [0.8, \"#7fbc41\"], [0.9, \"#4d9221\"], [1, \"#276419\"]], \"sequential\": [[0.0, \"#0d0887\"], [0.1111111111111111, \"#46039f\"], [0.2222222222222222, \"#7201a8\"], [0.3333333333333333, \"#9c179e\"], [0.4444444444444444, \"#bd3786\"], [0.5555555555555556, \"#d8576b\"], [0.6666666666666666, \"#ed7953\"], [0.7777777777777778, \"#fb9f3a\"], [0.8888888888888888, \"#fdca26\"], [1.0, \"#f0f921\"]], \"sequentialminus\": [[0.0, \"#0d0887\"], [0.1111111111111111, \"#46039f\"], [0.2222222222222222, \"#7201a8\"], [0.3333333333333333, \"#9c179e\"], [0.4444444444444444, \"#bd3786\"], [0.5555555555555556, \"#d8576b\"], [0.6666666666666666, \"#ed7953\"], [0.7777777777777778, \"#fb9f3a\"], [0.8888888888888888, \"#fdca26\"], [1.0, \"#f0f921\"]]}, \"colorway\": [\"#636efa\", \"#EF553B\", \"#00cc96\", \"#ab63fa\", \"#FFA15A\", \"#19d3f3\", \"#FF6692\", \"#B6E880\", \"#FF97FF\", \"#FECB52\"], \"font\": {\"color\": \"#2a3f5f\"}, \"geo\": {\"bgcolor\": \"white\", \"lakecolor\": \"white\", \"landcolor\": \"#E5ECF6\", \"showlakes\": true, \"showland\": true, \"subunitcolor\": \"white\"}, \"hoverlabel\": {\"align\": \"left\"}, \"hovermode\": \"closest\", \"mapbox\": {\"style\": \"light\"}, \"paper_bgcolor\": \"white\", \"plot_bgcolor\": \"#E5ECF6\", \"polar\": {\"angularaxis\": {\"gridcolor\": \"white\", \"linecolor\": \"white\", \"ticks\": \"\"}, \"bgcolor\": \"#E5ECF6\", \"radialaxis\": {\"gridcolor\": \"white\", \"linecolor\": \"white\", \"ticks\": \"\"}}, \"scene\": {\"xaxis\": {\"backgroundcolor\": \"#E5ECF6\", \"gridcolor\": \"white\", \"gridwidth\": 2, \"linecolor\": \"white\", \"showbackground\": true, \"ticks\": \"\", \"zerolinecolor\": \"white\"}, \"yaxis\": {\"backgroundcolor\": \"#E5ECF6\", \"gridcolor\": \"white\", \"gridwidth\": 2, \"linecolor\": \"white\", \"showbackground\": true, \"ticks\": \"\", \"zerolinecolor\": \"white\"}, \"zaxis\": {\"backgroundcolor\": \"#E5ECF6\", \"gridcolor\": \"white\", \"gridwidth\": 2, \"linecolor\": \"white\", \"showbackground\": true, \"ticks\": \"\", \"zerolinecolor\": \"white\"}}, \"shapedefaults\": {\"line\": {\"color\": \"#2a3f5f\"}}, \"ternary\": {\"aaxis\": {\"gridcolor\": \"white\", \"linecolor\": \"white\", \"ticks\": \"\"}, \"baxis\": {\"gridcolor\": \"white\", \"linecolor\": \"white\", \"ticks\": \"\"}, \"bgcolor\": \"#E5ECF6\", \"caxis\": {\"gridcolor\": \"white\", \"linecolor\": \"white\", \"ticks\": \"\"}}, \"title\": {\"x\": 0.05}, \"xaxis\": {\"automargin\": true, \"gridcolor\": \"white\", \"linecolor\": \"white\", \"ticks\": \"\", \"title\": {\"standoff\": 15}, \"zerolinecolor\": \"white\", \"zerolinewidth\": 2}, \"yaxis\": {\"automargin\": true, \"gridcolor\": \"white\", \"linecolor\": \"white\", \"ticks\": \"\", \"title\": {\"standoff\": 15}, \"zerolinecolor\": \"white\", \"zerolinewidth\": 2}}}, \"title\": {\"text\": \"\"}, \"xaxis\": {\"title\": {\"text\": \"\"}}, \"yaxis\": {\"title\": {\"text\": \"\"}}},\n",
       "                        {\"responsive\": true}\n",
       "                    ).then(function(){\n",
       "                            \n",
       "var gd = document.getElementById('dcef2106-eebf-4b3f-8ee5-c183d602364f');\n",
       "var x = new MutationObserver(function (mutations, observer) {{\n",
       "        var display = window.getComputedStyle(gd).display;\n",
       "        if (!display || display === 'none') {{\n",
       "            console.log([gd, 'removed!']);\n",
       "            Plotly.purge(gd);\n",
       "            observer.disconnect();\n",
       "        }}\n",
       "}});\n",
       "\n",
       "// Listen for the removal of the full notebook cells\n",
       "var notebookContainer = gd.closest('#notebook-container');\n",
       "if (notebookContainer) {{\n",
       "    x.observe(notebookContainer, {childList: true});\n",
       "}}\n",
       "\n",
       "// Listen for the clearing of the current output cell\n",
       "var outputEl = gd.closest('.output');\n",
       "if (outputEl) {{\n",
       "    x.observe(outputEl, {childList: true});\n",
       "}}\n",
       "\n",
       "                        })\n",
       "                };\n",
       "                });\n",
       "            </script>\n",
       "        </div>"
      ]
     },
     "metadata": {},
     "output_type": "display_data"
    }
   ],
   "source": [
    "# bar plot \n",
    "# year built\n",
    "plot_bar(x=years.index,\n",
    "         y=years.values)"
   ]
  },
  {
   "cell_type": "code",
   "execution_count": 181,
   "metadata": {},
   "outputs": [
    {
     "data": {
      "application/vnd.plotly.v1+json": {
       "config": {
        "plotlyServerURL": "https://plot.ly"
       },
       "data": [
        {
         "type": "histogram",
         "x": [
          8.913550280493675,
          7.908387159290043,
          8.589699882202986,
          10.072597215357852,
          11.66656458540186,
          8.987196820661973,
          10.23731343350214,
          11.704157207893939,
          11.015493083315233,
          10.203592144986466,
          12.823345294488677,
          10.801064264366158,
          10.521372248595526,
          11.506706165156311,
          11.365005334893606,
          11.338060041995572,
          10.908594698007377,
          9.632334782035558,
          11.62528046211101,
          9.837187480778896,
          11.610705319887602,
          8.85978949474541,
          8.18004072349016,
          11.782074354040846,
          11.566892681240171,
          11.545257118333492,
          10.201849887396012,
          10.988676820872097,
          10.877235542480735,
          11.642777597410365,
          11.449953715804188,
          11.033340076940295,
          10.78708978978675,
          10.563233056462042,
          10.662679931125757,
          10.636264016619267,
          10.88049701944499,
          10.88049701944499,
          9.454775637424682,
          11.076263764173635,
          10.201515917042054,
          11.449559589348409,
          12.330526713620594,
          10.986495389225194,
          5.645446897643238,
          9.635869511120088,
          9.109967397829395,
          10.362998829061379,
          9.166283985779263,
          10.104630863570671,
          8.454892165218858,
          12.867827193408905,
          11.576116203256401,
          11.38215596908088,
          8.970432074329242,
          9.724719673941472,
          11.003565433365848,
          11.08765042953924,
          11.331151758079107,
          11.306356296558281,
          11.309290380044061,
          10.563233056462042,
          10.662679931125757,
          10.636264016619267,
          10.88049701944499,
          10.88049701944499,
          10.525165583876873,
          10.104630863570671,
          13.096908124077425,
          12.867827193408905,
          12.867827193408905,
          12.867827193408905,
          12.867827193408905,
          12.867827193408905,
          12.867827193408905,
          11.301488127786056,
          11.766691330466527,
          10.104630863570671,
          11.241864493534683,
          10.497918760156915,
          11.958322571669738,
          8.014666370464942,
          9.282009658666542,
          7.635303886259415,
          8.303504798872783,
          10.525165583876873,
          9.299449547047958,
          8.765926513729443,
          11.245398898722012,
          11.993838123786466,
          10.988676820872097,
          11.128644382529194,
          9.285355075781629,
          10.415412571745419,
          10.29109414234298,
          12.210726798139975,
          12.210726798139975,
          12.142317817225138,
          12.210726798139975,
          7.723120092266331,
          10.104630863570671,
          9.844798556187449,
          9.672563813902956,
          9.983084006807271,
          10.721724343934895,
          10.832161297455611,
          8.589327789175437,
          11.487935808266622,
          11.30933941287155,
          10.95071882367088,
          10.233294770038556,
          11.681300215631559,
          10.379908049577942,
          11.517723933881802,
          11.847130848506017,
          11.77310272429982,
          10.525809827315793,
          9.647885373547759,
          11.837296201489055,
          11.420250809119585,
          11.13036112114825,
          11.920508329049394,
          11.327113824914775,
          11.021967825841704,
          10.553701135710886,
          9.729253205924792,
          9.977620524377356,
          10.206218323189427,
          11.54028768172604,
          11.542066704316365,
          11.049190148737244,
          11.10737535324936,
          11.327896245764677,
          11.07787190418095,
          10.811524313923938,
          11.105438313910426,
          10.941411675702279,
          11.067013292046882,
          11.680395616911554,
          10.944276500467035,
          10.82017820443161,
          10.709717852539962,
          10.722121353137489,
          10.598757478477053,
          10.962544405370902,
          9.562334377396374,
          10.36135533943734,
          11.321135221314014,
          12.0702586497481,
          11.313022252695275,
          11.09219950009401,
          10.325318014730557,
          9.239996256883693,
          9.686077533069678,
          10.447409403791308,
          10.852980925238,
          10.684668503929622,
          8.567506005289827,
          9.2237500588861,
          9.188912424562563,
          9.666878750268348,
          9.335121088873489,
          11.501146362933932,
          11.185837062139354,
          9.465602553171852,
          8.262816937670928,
          13.223492955254335,
          11.36585135373032,
          12.119751939063647,
          12.09825912371128,
          10.719383198355127,
          11.78901813903125,
          11.707175592629456,
          11.417548282921302,
          11.41751528016557,
          11.622989899832538,
          11.038721024659884,
          12.026144222904994,
          10.060149362549504,
          10.121296902259635,
          10.109932454227286,
          11.910553274865176,
          6.92951677076365,
          11.79447376423837,
          10.439132610118632,
          11.342137143989946,
          7.395721608602045,
          10.696547939065669,
          10.06683863569798,
          8.920121751872404,
          11.828028132998002,
          11.26789411389799,
          11.929244785736339,
          8.732788324973118,
          11.955570744202676,
          9.1801903950253,
          10.609822392399646,
          11.541085230764084,
          12.007371675551125,
          12.911847263363303,
          11.871250047506704,
          12.299599417826457,
          11.220994378229033,
          11.056398614611616,
          10.34009596741305,
          11.003532148295863,
          12.753722844772314,
          11.50992095594993,
          10.516075225237657,
          12.171967624880223,
          11.173922027561483,
          10.787482339609461,
          12.698498018210639,
          10.81299533211345,
          11.421610294478786,
          10.502488875205843,
          11.82821054484798,
          12.553011345697463,
          9.705707120679628,
          11.473394303632896,
          11.716617047500376,
          12.227584595415488,
          9.387230538772931,
          12.472995733522012,
          12.514578882155154,
          12.285465911592922,
          11.214249851043581,
          9.748703338735261,
          10.801777233300731,
          11.850054628624763,
          9.24319470884713,
          10.426409717249351,
          10.100081768616802,
          10.132175704105688,
          12.09607361077923,
          9.13873695311649,
          11.87816562251414,
          11.525466496464539,
          10.714795475190176,
          11.575336725091626,
          11.620020475521713,
          10.85897976660942,
          11.964720570661,
          13.23071003011369,
          11.469151200118704,
          11.390599626391937,
          12.218174126346845,
          11.07535030294383,
          10.112248163482885,
          12.097646323977335,
          11.788357814993093,
          9.455088847042777,
          8.369620826949102,
          11.09599993639729,
          12.448100755785923,
          10.801166148198302,
          9.725795264125836,
          11.233872719216501,
          11.173585119253508,
          11.257633135320098,
          11.751824248228944,
          11.405006122750734,
          9.942900554892963,
          11.381369263228375,
          11.33451624499619,
          11.68659301698385,
          10.326890805775305,
          11.187098367272093,
          11.262462103001056,
          13.604209111326652,
          10.301525144815496,
          11.176347222730618,
          8.430109084509125,
          11.851858955932778,
          10.650507198560563,
          11.168066154971923,
          11.168136742044634,
          9.454148923733976,
          11.905649752427557,
          10.807381764073732,
          11.566513624140157,
          10.270281129996023,
          10.266393046225497,
          10.857459351377972,
          12.346960041301521,
          9.996886816794678,
          10.399433013772667,
          10.425638798632033,
          9.281078386481525,
          9.17636985240503,
          10.853831824535135,
          11.41459573089702,
          10.426528267381377,
          12.9190224533863,
          9.609988594762783,
          11.331403588346838,
          9.998797732340453,
          11.1004357419251,
          10.585093387249515,
          12.782686009834167,
          11.04771035245629,
          10.843025951129974,
          10.952559395644101,
          9.67721410821299,
          12.177158635365531,
          9.063810579280286,
          10.849337086651827,
          9.29403793099775,
          8.52377150677636,
          7.633853559681768,
          9.998797732340453,
          10.819778284410283,
          8.798605650854423,
          11.550221249713925,
          12.323855681186558,
          9.935179999268618,
          11.271490643683768,
          9.686450319653678,
          11.56171562913966,
          9.480367509189243,
          11.566466231898259,
          9.674891664210184,
          10.520913922555932,
          12.55037131840085,
          9.385133662349347,
          10.988676820872097,
          10.726521993930495,
          11.5061525806828,
          10.762149171573647,
          8.049746290952191,
          11.082142548877775,
          12.573489686000809,
          11.411999546380267,
          11.00043178410354,
          10.952559395644101,
          12.341477282536376,
          10.668955394675699,
          10.013865460005738,
          10.077566902136047,
          11.171842615791332,
          7.519149957669823,
          11.970350312009105,
          9.64342064711732,
          9.998797732340453,
          11.258033215341438,
          8.88875674784872,
          9.7818282639088,
          11.237171963383721,
          9.266437111328052,
          10.716593178609457,
          11.336188286470174,
          10.983732183846053,
          11.883799128308773,
          11.50992095594993,
          11.258033215341438,
          12.114505452004684,
          8.374707543119483,
          7.600902459542082,
          11.260610536355738,
          8.502079553606189,
          11.150519846322512,
          9.48978863950086,
          9.969649754789797,
          11.146200185177994,
          11.336188286470174,
          13.616543632483626,
          9.204422898212146,
          9.93226935396158,
          9.711115659888671,
          8.768885326134862,
          9.6778408710038,
          8.622273667866745,
          10.801614313782611,
          10.746863446342765,
          12.765688433465597,
          13.65340801235493,
          13.280998273801634,
          9.433963808127244,
          10.469965456491996,
          8.945723572455398,
          11.462684248533481,
          7.527255919373784,
          10.77862290098879,
          10.215301104562837,
          9.527192821727743,
          9.821843563495618,
          9.756262832779603,
          11.554067408301403,
          10.335594591590713,
          10.95369710197607,
          10.44581184336149,
          11.374892527005109,
          10.87804719253426,
          10.992049505350737,
          8.173293438966228,
          9.09661160664784,
          9.727227587120769,
          10.897868317624576,
          11.03811027872727,
          12.100712129872347,
          9.868637275100381,
          9.446202695698167,
          7.943782692458625,
          10.809727948556782,
          8.662677858158219,
          11.31691058104427,
          7.760893195851024,
          12.692247930812231,
          9.686450319653678,
          10.558413520275876,
          11.0684024304583,
          8.722417141427496,
          11.608235644774552,
          9.605014129006127,
          10.501966846976991,
          10.629319711713425,
          8.86488793377419,
          11.150519846322512,
          11.3634969514783,
          12.510980498647022,
          11.307093696274613,
          9.33025446864152,
          9.074062353683555,
          6.876264611890766,
          10.389825792650848,
          12.220118538503534,
          11.52682837013922,
          9.565844630930576,
          7.241366283322318,
          9.387146748082028,
          10.082386592528753,
          7.473069088032197,
          11.544424132029599,
          10.045637944640806,
          10.584055950889214,
          10.306148733311558,
          9.653358136136932,
          9.36314729221994,
          10.506764728667031,
          11.038190661348592,
          10.464045753403807,
          8.09162741160107,
          11.16761427968181,
          11.59910316121128,
          9.468464892185638,
          10.620107089281216,
          10.69176307818765,
          9.974505039771408,
          12.703083280262437,
          9.816839745810455,
          11.66883459781235,
          8.519789817263504,
          11.951825349164631,
          10.121618562026793,
          9.71571114505921,
          10.281649978116283,
          9.555701556014641,
          11.286024864778307,
          8.431417414394833,
          10.51173022600563,
          9.79406323525484,
          11.147642146494896,
          9.129780864117766,
          10.126631103850338,
          9.191768986390747,
          8.764053269347762,
          10.021270588192511,
          10.767199954191426,
          10.596634733096073,
          9.47608353690921,
          10.11123316167024,
          12.043553716032399,
          11.147642146494896,
          10.736548837807,
          9.225327501784431,
          13.070396171779075,
          7.004881989712859,
          9.980448593672257,
          10.350830097988764,
          10.690921662285279,
          10.308952660644293,
          11.554969112967909,
          12.884106188280072,
          12.240474072247506,
          9.798127036878302,
          9.998797732340453,
          11.36645356106997,
          11.106459856528481,
          11.150519846322512,
          11.350865253774536,
          11.501864517610803,
          11.106459856528481,
          12.174581978438804,
          12.553202176625375,
          11.195471234184778,
          10.768484990022733,
          9.692766521220475,
          8.953122840328222,
          9.60521627853008,
          12.838691918346727,
          11.51267543371502,
          11.103512574613967,
          8.701180027529253,
          9.283776690049365,
          11.631028449437531,
          10.851703217194657,
          10.44581184336149,
          11.021101494211369,
          11.628777749035867,
          9.266531651625925,
          8.429672593886743,
          9.41865450904439,
          8.517193191416238,
          11.628777749035867,
          9.453286550586572,
          11.065074640365626,
          9.104979856318357,
          7.700747794511798,
          13.227161134743392,
          13.042555808750112,
          10.225571051705241,
          9.392661928770137,
          8.987196820661973,
          9.182557990963732,
          11.806445463522216,
          9.111845125227083,
          8.940629184845639,
          9.147613542067878,
          9.318566777047053,
          9.583213415483687,
          11.877568578558138,
          11.130243831133892,
          8.872487182278038,
          9.38429367909962,
          6.8001700683022,
          9.615805480084347,
          7.581719640125308,
          11.200950699949402,
          9.210340371976184,
          7.29505641646263,
          11.388495386592052,
          7.856319571406588,
          11.11095424611632,
          6.68586094706836,
          11.61548205329532,
          9.994378892724196,
          12.89921982609012,
          10.0817592530548,
          9.191463316206494,
          9.453600226875217,
          9.680344001221918,
          10.326301298978905,
          9.908972482766698,
          10.54006438160768,
          10.173018383403459,
          10.01681623784313,
          13.017002861746503,
          9.852194258148577,
          11.399924725882984,
          10.799453120615684,
          12.736700896592344,
          12.594730635321957,
          12.367340793126296,
          10.352841946214014,
          11.399924725882984,
          9.637306011530349,
          7.605890001053122,
          11.32261205824672,
          9.557469903071384,
          11.363160155335496,
          12.171491552673848,
          10.777997497061715,
          11.452910032560242,
          10.07807091323496,
          10.939213288149046,
          10.409310684679328,
          11.367494986760022,
          11.64034194959485,
          11.184338061192443,
          8.95944014361693,
          11.55230001244425,
          10.043771097983184,
          9.584796293210003,
          12.23589354934243,
          11.833602177978094,
          11.793537604237645,
          12.022834668951852,
          10.882452568938104,
          9.99268819799443,
          12.628945358293372,
          9.049702026013371,
          10.990802937461941,
          11.701013695825184,
          11.100481058118849,
          12.08549132331937,
          12.507705698918365,
          9.824119617152556,
          12.151748446799575,
          11.13751903414526,
          10.16569795901424,
          10.69607274530213,
          9.385133662349347,
          12.38029902460977,
          10.277221166482795,
          9.043458999670106,
          10.839972991695802,
          10.06185788850757,
          10.458090798648007,
          11.729624293600416,
          11.859779339701147,
          10.314271822121892,
          11.7607694337224,
          11.252274731569479,
          7.173958319756794,
          12.129191601194217,
          11.942757929526687,
          11.676862388638906,
          12.116929907895182,
          11.905183745591112,
          11.129407741344888,
          12.304573185265266,
          5.958424693029782,
          11.724902906671694,
          10.807462758687635,
          10.74082165340857,
          10.92442654647573,
          11.779749002851904,
          10.944417760863153,
          10.614130780712824,
          10.617294835792377,
          11.4448607340561,
          10.06615897040696,
          10.628545137085586,
          11.498207687883278,
          8.294049640102028,
          8.870943863837724,
          8.789355452209982,
          8.340217320947035,
          8.974618038455112,
          9.583557732534226,
          10.496261758949286,
          11.604483158450593,
          10.322230781590136,
          11.616555484182403,
          12.472624284541237,
          12.625877775618145,
          10.980757028431103,
          11.373192022188952,
          11.949281820553717,
          11.6623880298824,
          11.228278781061968,
          12.631797792645699,
          11.924286491276778,
          12.950114916204871,
          10.689897363555763,
          12.312385707371801,
          8.660254034256889,
          11.599754325304707,
          10.344158916378912,
          9.636000187369866,
          8.602820277383675,
          8.912877287669296,
          9.455401958591324,
          10.954116851182086,
          10.809566319333866,
          9.079434102128383,
          9.396404915048972,
          9.662370949231669,
          10.763736893526659,
          8.469682208745185,
          9.82395721357932,
          8.934455109403913,
          8.752897524775305,
          10.499765839127752,
          11.916415290157625,
          8.256607344626158,
          11.41527955948123,
          8.863898604317479,
          11.018252022874206,
          10.678214720088496,
          9.195125206169703,
          10.642109884868974,
          11.069026134343924,
          8.444622498581403,
          11.934729693011723,
          12.506303155978435,
          9.40968291310444,
          10.497394340112052,
          10.864789890239631,
          9.345046074828474,
          9.874522074243114,
          10.660712210469299,
          8.91139510724569,
          10.958426563414267,
          10.329180034324262,
          11.704058090042732,
          9.85434982797458,
          9.836118362165275,
          9.542445945729886,
          11.448536266016879,
          9.346966969508008,
          11.765099523663016,
          10.096213132628804,
          10.450539024706163,
          9.743905482711662,
          10.069213832980386,
          10.228646029257067,
          9.329899607033822,
          11.536925154618109,
          10.04615830370029,
          9.399968503952575,
          9.643031466337938,
          10.041029641554612,
          9.61400385813772,
          9.074520648833648,
          10.049879640751199,
          10.525809827315793,
          10.269033036643048,
          10.16068464397519,
          10.252840757844124,
          9.8092867571373,
          11.707430830145817,
          10.362019381580984,
          11.983166566017303,
          11.394772360846956,
          9.531626451841742,
          11.699952599812502,
          11.843041831488538,
          10.31890299149746,
          9.752083098376895,
          11.744394265030428,
          10.280175885872874,
          11.100239348018722,
          11.481734030710028,
          10.246758057051174,
          11.956373340806152,
          11.458025674988566,
          9.601706555704846,
          11.466179709572318,
          11.82807191487669,
          10.544683327463973,
          9.548596730390898,
          10.368133102880323,
          9.407960966059306,
          10.792242634215762,
          9.511333458487636,
          9.79138211875182,
          10.32649783986004,
          10.39714667138021,
          10.489494857538169,
          10.490996401073076,
          10.531696131937162,
          10.562845244106652,
          10.585523228341355,
          10.629513261662012,
          10.64849161863629,
          10.699913082549575,
          10.753916221110412,
          10.758051805772519,
          10.789710752787888,
          10.819578264407616,
          10.869215858012614,
          10.890255387214118,
          10.907734215168517,
          10.973477433741559,
          10.977841301057458,
          11.07933862154504,
          11.156850341103464,
          11.237553972095531,
          11.25497046539134,
          11.293836183984059,
          11.325523022308786,
          11.381232381619347,
          11.443714712606106,
          11.44571671527678,
          11.555553827025852,
          11.558539160930586,
          11.569220728625433,
          11.593020478968073,
          11.635143097694478,
          11.702189533330758,
          11.76012923383326,
          11.770230800763294,
          11.871368844304921,
          12.15907013255978,
          12.429216196844383,
          12.456831363877356,
          12.53823202370482,
          12.903592750902307,
          11.075706497243841,
          11.363392440675852,
          11.923013205563837,
          12.717940725749578,
          11.923013205563837,
          13.50346065350853,
          12.86747112777554,
          12.328476101696141,
          13.546633229467746,
          12.921538892339385,
          13.175773330089346,
          11.075706497243841,
          13.090616743603746,
          12.579789055323758,
          12.117164926164834,
          12.076066460624565,
          8.070906088787819,
          10.264408469559651,
          8.006367567650246,
          9.143880005275912,
          6.253828811575473,
          8.22389538017882,
          8.48632152774915,
          9.199683791787654,
          8.635864721133736,
          8.382747094863314,
          6.501289670540389,
          5.87493073085203,
          6.891625897052253,
          8.201934351194222,
          8.756367559802975,
          6.473890696352274,
          7.845807502637805,
          5.902633333401366,
          10.47030591100205,
          8.964439833539357,
          8.18646442942209,
          9.875396672369602,
          8.672314828283538,
          11.54242601308785,
          9.672752760526098,
          9.623773649733524,
          8.310169021981912,
          10.185164128035991,
          8.76280248744611,
          8.503905297089302,
          9.753826777981722,
          9.007979359844501,
          10.411689738095404,
          9.82086652384779,
          9.557469903071384,
          10.642109884868974,
          8.644706511715198,
          8.894533135798554,
          8.59044365315583,
          8.845633256340186,
          6.756932389247553,
          6.175867270105761,
          9.138092207768558,
          9.053920452704881,
          8.771525284186465,
          10.260812285316357,
          9.722085572801557,
          9.287301413112312,
          10.184711314926863,
          11.432669401204567,
          10.785186839640664,
          7.991592282068092,
          8.294049640102028,
          7.356279876550748,
          8.294049640102028,
          9.414015640094995,
          8.360773272144936,
          10.227019277881606,
          9.894598158690211,
          9.716193654115616,
          9.22759072538271,
          9.22759072538271,
          11.09609096962448,
          11.002099841204238,
          13.681979165339751,
          6.626717749249025,
          7.336936913707618,
          8.196161139282902,
          10.600178446719438,
          12.110689963097597,
          12.087897032825504,
          10.919442607523228,
          8.987696695703624,
          10.627188186139529,
          11.610369729631081,
          11.968595608860628,
          12.750714017290814,
          10.57497688594327,
          12.897545925900564,
          10.560955740639056,
          10.613909658640255,
          11.153374962000273,
          11.152730045709548,
          11.831539183290127,
          11.74464811039237,
          12.220650865029416,
          10.8365567356491,
          13.085697318341788,
          10.76195847542619,
          11.528355802625587,
          10.916669032639797,
          12.41161011537413,
          10.53940278714094,
          11.07827353542708,
          12.323917901473058,
          11.622882400885027,
          11.587383375888239,
          9.586102000710904,
          12.527405863308584,
          10.307651814911244,
          10.587795784428868,
          10.587821006063988,
          10.704681637179208,
          11.421402106100423,
          11.099241675837533,
          11.003698562567935,
          12.386884730310923,
          10.869691627102307,
          13.12960509277329,
          12.345717189710086,
          12.231452826569225,
          10.854720627607847,
          12.378773067280074,
          11.012396646681605,
          10.349230507142863,
          11.357709217627498,
          12.476717912272495,
          11.899581452091338,
          10.126311052639412,
          12.43824729344999,
          10.904211340385112,
          10.167120242980383,
          13.522039763141764,
          12.095783336635595,
          12.204210913582225,
          9.94831750445392,
          12.28326514136008,
          12.362807127321497,
          9.050758302151717,
          12.04711794485093,
          9.688746104486063,
          9.336973022909548,
          9.24435525056346,
          9.32607687045878,
          8.993551586299981,
          8.997023381479709,
          8.997023381479709,
          10.956649094966853,
          8.645058562414134,
          12.872981081353213,
          12.714235727876515,
          12.085124606530634,
          11.425503094443416,
          9.921916688004496,
          11.371200597317179,
          9.683588731386807,
          11.551415141750752,
          12.292360427454694,
          13.242422930937527,
          12.628801212260086,
          12.198483923881497,
          11.364042552726982,
          11.61904069575893,
          12.366570283594093,
          11.76396429972317,
          10.935550410654034,
          11.956854589752682,
          13.10805753506706,
          10.709606211755235,
          11.779718370054898,
          10.716327056014078,
          12.882912582815388,
          11.689078032618655,
          11.94470138786819,
          12.174184582666095,
          12.754355890654592,
          12.615884957507,
          12.550201211800305,
          12.175407231219289,
          12.136572502545645,
          12.96330199311399,
          10.993697977523398,
          9.086702731518004,
          12.462616156076939,
          10.865840922736847,
          10.45791849378284,
          12.02607837849531,
          12.830448358662908,
          11.712775824048476,
          12.274908171305604,
          10.456165040324679,
          10.43623121160305,
          12.02211975884087,
          10.104917050943584,
          12.03585355752385,
          11.325860676819078,
          10.964934347972234,
          10.849006935070413,
          12.968389015365508,
          11.593509564526267,
          10.74138421698227,
          11.259734992303722,
          10.54988373840662,
          12.063811833579448,
          11.640262713431424,
          11.70475170877843,
          8.407824654360873,
          11.995160237878547,
          11.459007676978688,
          11.223722236146509,
          10.178274337002176,
          10.20166436208055,
          10.643828385423177,
          11.217480001900613,
          9.993876552263808,
          9.343033913701648,
          11.084355483146966,
          10.048107242146072,
          11.118058992371832,
          10.67113905526418,
          8.435332164935916,
          9.220587688427733,
          11.601513099013726,
          12.138007914616045,
          10.591320638272304,
          10.003378135350923,
          12.272618525574073,
          11.342682665391472,
          11.38481932899077,
          10.89405052878487,
          10.859652630053144,
          11.390531816756162,
          10.476301573636187,
          11.307007694321086,
          11.935306685454705,
          11.127704063339106,
          11.442567376283932,
          11.75690640215091,
          11.68257540824441,
          8.27052509505507,
          9.587748882301822,
          10.90056533037994,
          9.083075020930307,
          9.194007717355285,
          10.31463647711259,
          11.751627355200291,
          8.996280439395015,
          10.293737494837812,
          10.23598762483351,
          11.922867204661026,
          10.420195839460273,
          12.2127999662796,
          12.440955026389753,
          12.526742101933621,
          11.455285758857144,
          10.829589991794276,
          10.254355669441074,
          10.721172680656162,
          9.97961491292368,
          12.230755501975393,
          11.370370626087977,
          11.197639212091788,
          10.18005812023319,
          11.342682665391472,
          11.662947634213706,
          11.181723317004527,
          10.696887224985165,
          11.095028399318974,
          10.97090152903382,
          11.784569614724237,
          9.405249044275608,
          10.929529148369403,
          11.741661349996177,
          11.634753641335221,
          9.94578046472638,
          12.34907715119716,
          9.248117736310213,
          12.628067055589549,
          12.176185439369965,
          11.405985925532484,
          11.194220452283124,
          11.670390645765316,
          9.875807983429386,
          11.295241980325379,
          9.559940347242952,
          12.241029473539205,
          9.347490210123416,
          10.957695047227332,
          11.521022594557683,
          11.719305286857255,
          10.974677255626265,
          11.877381060977815,
          10.943216410966887,
          12.569305042302645,
          11.048299350937146,
          12.62822114207827,
          12.360256181960505,
          11.56330484186238,
          10.770125748505212,
          11.168348473372488,
          10.38145935143104,
          11.335854101758402,
          11.967466410724985,
          11.788623515019328,
          12.715549359926852,
          12.072106872862014,
          11.183532113813309,
          11.375810516214353,
          10.0817592530548,
          12.204681678584032,
          10.410756860099342,
          11.430619364421151,
          12.123223503501105,
          13.429280268920879,
          11.534598890251692,
          10.208948146339551,
          11.124892529791104,
          12.157255230989454,
          10.416341118636355,
          11.079215191421762,
          10.646091341808665,
          9.365718869155696,
          11.62109802312786,
          10.20084764153918,
          11.691146961325291,
          11.156821786399789,
          11.358981430457023,
          11.342907902632438,
          11.440290253925106,
          11.94014554168142,
          12.51168795199198,
          11.18902191050487,
          11.37516801226265,
          10.980246111835637,
          11.798856004383204,
          12.543348130889296,
          10.144981697062931,
          11.551434386398336,
          11.318150687706462,
          11.937840196899707,
          11.921007146861546,
          11.287053194084761,
          10.220194304028526,
          10.59633468808707,
          12.726799093973426,
          11.96070265686401,
          9.951610827717856,
          11.549430956782537,
          11.478458236087981,
          11.933686327637512,
          10.468829770273567,
          11.32846161510424,
          12.365108516215043,
          13.66645819294862,
          12.5913010321369,
          12.186089301905781,
          12.49700941570245,
          11.685684782260491,
          11.401502163266427,
          12.476695025398497,
          9.855294709934643,
          12.468394601410361,
          10.521560910043119,
          12.594093144031964,
          13.41727971931403,
          11.292341136050942,
          10.879498968386217,
          11.197639212091788,
          11.3376073268886,
          12.427041834631279,
          10.274740715974103,
          11.063053820541235,
          10.87328113592759,
          13.265772573499497,
          11.954008650680139,
          10.993328148817113,
          10.948189089173493,
          11.064244875235472,
          9.479680250180099,
          10.227308671603781,
          11.306786512471842,
          11.86830356837466,
          9.925444719888171,
          11.79864561410847,
          11.872193045121298,
          11.463546127272155,
          11.012149177057239,
          11.106234605936246,
          12.02488644397647,
          11.21968128597653,
          11.771683233843607,
          11.964446844837077,
          11.709429309335544,
          10.521264426071296,
          11.494883686469464,
          10.591798055204546,
          12.16604200447382,
          10.68251421973945,
          11.576003545182923,
          10.486512900336537,
          9.709417248707625,
          10.954326659732555,
          10.83075778845329,
          11.352334088312983,
          9.264733855806515,
          13.209184903039997,
          11.206359543016655,
          9.729431740159207,
          11.839361795648259,
          10.555343878678192,
          12.091054533945908,
          11.512385319117719,
          11.217789010857615,
          11.708368885642159,
          11.659516211808384,
          11.434963923500517,
          11.461505846814694,
          12.37799868905864,
          10.583144142913573,
          12.182993355834277,
          11.516200097503885,
          9.633579908183512,
          11.198817278281926,
          12.500531702260979,
          11.422081297669504,
          12.851134538436856,
          10.27718675788064,
          12.139793944490785,
          10.861706866436679,
          10.063946862472948,
          11.717872458567768,
          10.239781201782993,
          11.25030016643631,
          11.998734773759884,
          10.227236331024303,
          10.022336686374508,
          9.489486113405677,
          12.10806282497273,
          10.67227545855449,
          10.737200699982965,
          12.536702850667753,
          11.030946415761818,
          10.663241426590055,
          11.773033339549789,
          10.351373376528244,
          11.202002059645364,
          12.176582040963115,
          10.080419612045645,
          12.378781481141068,
          11.46715374072406,
          10.473166819095828,
          10.826296991397399,
          11.15447752162512,
          11.264489746368644,
          11.979071663888659,
          12.355091609168008,
          11.557937070799577,
          11.663489721262067,
          11.811161646360539,
          10.125790750852646,
          10.073314711748393,
          10.543154839315235,
          11.023110888393703,
          12.518083849887079,
          11.17167382517569,
          11.36737932633889,
          10.667605646966653,
          11.082142548877775,
          11.491068328614919,
          10.404626410712575,
          10.480241356416226,
          9.508146027598816,
          11.842063730795651,
          10.669118172124406,
          10.940011648890817,
          9.828278974938373,
          9.930129483482549,
          12.419048682408569,
          11.553001581392563,
          9.745487807887239,
          11.6454088085832,
          10.89414336636559,
          10.719736930230058,
          11.28914421036649,
          11.078180865609573,
          11.288531131754366,
          11.543823176298073,
          9.433483923290392,
          11.245529563019485,
          13.000055620619028,
          11.775804981288069,
          12.233065050593774,
          11.011753098232376,
          12.008877016136763,
          12.177884054120863,
          12.208280207072175,
          12.378116567912993,
          10.97157190283528,
          10.848773821251536,
          9.658162296163171,
          11.658548458648143,
          9.086589564540008,
          9.974365313169566,
          12.04990994294196,
          10.142543822310387,
          10.150699131184039,
          11.03878529201209,
          11.412121220393614,
          12.206072645530174,
          11.422595861478557,
          10.540143743537802,
          10.899919448775261,
          11.097606971309549,
          11.039379569300081,
          10.968904936346597,
          10.955602047544657,
          11.109368535131365,
          11.225243392518447,
          11.13658702691299,
          11.209290146837182,
          11.32405048130643,
          10.8192781593686,
          12.105179912230284,
          11.204877406565574,
          12.568696360393183,
          10.450596888379366,
          12.821323147381637,
          12.022684520154112,
          11.375959609897071,
          11.346729194097769,
          11.952321679872872,
          10.757498543639837,
          11.49399745508471,
          12.541973290252429,
          11.0037651205233,
          12.066712872274172,
          12.049465618016209,
          10.766335312700145,
          10.351884428027805,
          11.781378845393471,
          11.826399545455681,
          10.343450701051859,
          9.59859149934966,
          10.355040764837048,
          11.852877354855691,
          11.621941291830666,
          9.81694879111889,
          11.668680571302371,
          11.611684236993492,
          11.740116812890934,
          9.946977983610656,
          10.459525519123666,
          12.683365270386224,
          11.785019167655236,
          8.977020214210413,
          11.9168026463231,
          10.611794244853895,
          10.663241426590055,
          10.007892611890918,
          10.053285917624523,
          10.831054468604599,
          11.421391147616639,
          9.981281579976148,
          11.025800091647431,
          11.730364778007617,
          11.622048891988582,
          12.362490752799834,
          11.643848458678184,
          11.969926171441298,
          11.2242028513432,
          11.7727017681683,
          11.384830695662552,
          10.425104737380318,
          12.201246016072096,
          10.881700887014485,
          8.470730317005897,
          10.83125220648391,
          9.698245312357605,
          11.56584044371661,
          11.980814359740398,
          11.655188624518198,
          12.38850252978983,
          11.21988238127627,
          12.276088327101844,
          10.810798082829503,
          12.22601741958577,
          11.345866834842186,
          12.401112974731904,
          11.567527280161812,
          10.950262539222262,
          11.732229655361717,
          11.314901264448983,
          12.13908312314156,
          10.724698078160014,
          9.747067633264827,
          11.446871128898794,
          11.13740258073377,
          11.240499753476396,
          11.930977688583864,
          9.702044336534586,
          11.499069918679787,
          11.47559735970423,
          9.90268723236536,
          9.917932716967623,
          12.024634698238335,
          9.960245886354738,
          12.036416542187018,
          11.802560628896549,
          11.270063782789915,
          12.039368499631296,
          11.869907361794104,
          11.824241052781487,
          11.328293240639033,
          10.266740811834984,
          10.797144051901348,
          9.35218709620442,
          9.117237753713859,
          10.585017513755883,
          11.097394869378626,
          11.092290879929589,
          10.608859702718643,
          10.627066940216276,
          10.60784664405992,
          10.628666203926738,
          10.612237376323481,
          11.46246340395984,
          10.777580343710097,
          9.897268252722212,
          9.813398717754442,
          10.09009159305939,
          8.31164394850298,
          9.645364282325891,
          12.104178337848834,
          10.255270550394432,
          10.608093826184968,
          10.883747893748222,
          11.620523475568246,
          11.987126522674853,
          10.24295529813714,
          10.408737661968933,
          9.164505835632383,
          9.33273498018979,
          11.621941291830666,
          11.598837070766487,
          10.941942818379685,
          11.920348654784554,
          10.313708002728152,
          11.50832489857466,
          10.604379663543519,
          9.884253763420828,
          8.365905077202456,
          9.329455852866344,
          10.3014243942235,
          11.432485178272625
         ]
        }
       ],
       "layout": {
        "autosize": true,
        "template": {
         "data": {
          "bar": [
           {
            "error_x": {
             "color": "#2a3f5f"
            },
            "error_y": {
             "color": "#2a3f5f"
            },
            "marker": {
             "line": {
              "color": "#E5ECF6",
              "width": 0.5
             }
            },
            "type": "bar"
           }
          ],
          "barpolar": [
           {
            "marker": {
             "line": {
              "color": "#E5ECF6",
              "width": 0.5
             }
            },
            "type": "barpolar"
           }
          ],
          "carpet": [
           {
            "aaxis": {
             "endlinecolor": "#2a3f5f",
             "gridcolor": "white",
             "linecolor": "white",
             "minorgridcolor": "white",
             "startlinecolor": "#2a3f5f"
            },
            "baxis": {
             "endlinecolor": "#2a3f5f",
             "gridcolor": "white",
             "linecolor": "white",
             "minorgridcolor": "white",
             "startlinecolor": "#2a3f5f"
            },
            "type": "carpet"
           }
          ],
          "choropleth": [
           {
            "colorbar": {
             "outlinewidth": 0,
             "ticks": ""
            },
            "type": "choropleth"
           }
          ],
          "contour": [
           {
            "colorbar": {
             "outlinewidth": 0,
             "ticks": ""
            },
            "colorscale": [
             [
              0,
              "#0d0887"
             ],
             [
              0.1111111111111111,
              "#46039f"
             ],
             [
              0.2222222222222222,
              "#7201a8"
             ],
             [
              0.3333333333333333,
              "#9c179e"
             ],
             [
              0.4444444444444444,
              "#bd3786"
             ],
             [
              0.5555555555555556,
              "#d8576b"
             ],
             [
              0.6666666666666666,
              "#ed7953"
             ],
             [
              0.7777777777777778,
              "#fb9f3a"
             ],
             [
              0.8888888888888888,
              "#fdca26"
             ],
             [
              1,
              "#f0f921"
             ]
            ],
            "type": "contour"
           }
          ],
          "contourcarpet": [
           {
            "colorbar": {
             "outlinewidth": 0,
             "ticks": ""
            },
            "type": "contourcarpet"
           }
          ],
          "heatmap": [
           {
            "colorbar": {
             "outlinewidth": 0,
             "ticks": ""
            },
            "colorscale": [
             [
              0,
              "#0d0887"
             ],
             [
              0.1111111111111111,
              "#46039f"
             ],
             [
              0.2222222222222222,
              "#7201a8"
             ],
             [
              0.3333333333333333,
              "#9c179e"
             ],
             [
              0.4444444444444444,
              "#bd3786"
             ],
             [
              0.5555555555555556,
              "#d8576b"
             ],
             [
              0.6666666666666666,
              "#ed7953"
             ],
             [
              0.7777777777777778,
              "#fb9f3a"
             ],
             [
              0.8888888888888888,
              "#fdca26"
             ],
             [
              1,
              "#f0f921"
             ]
            ],
            "type": "heatmap"
           }
          ],
          "heatmapgl": [
           {
            "colorbar": {
             "outlinewidth": 0,
             "ticks": ""
            },
            "colorscale": [
             [
              0,
              "#0d0887"
             ],
             [
              0.1111111111111111,
              "#46039f"
             ],
             [
              0.2222222222222222,
              "#7201a8"
             ],
             [
              0.3333333333333333,
              "#9c179e"
             ],
             [
              0.4444444444444444,
              "#bd3786"
             ],
             [
              0.5555555555555556,
              "#d8576b"
             ],
             [
              0.6666666666666666,
              "#ed7953"
             ],
             [
              0.7777777777777778,
              "#fb9f3a"
             ],
             [
              0.8888888888888888,
              "#fdca26"
             ],
             [
              1,
              "#f0f921"
             ]
            ],
            "type": "heatmapgl"
           }
          ],
          "histogram": [
           {
            "marker": {
             "colorbar": {
              "outlinewidth": 0,
              "ticks": ""
             }
            },
            "type": "histogram"
           }
          ],
          "histogram2d": [
           {
            "colorbar": {
             "outlinewidth": 0,
             "ticks": ""
            },
            "colorscale": [
             [
              0,
              "#0d0887"
             ],
             [
              0.1111111111111111,
              "#46039f"
             ],
             [
              0.2222222222222222,
              "#7201a8"
             ],
             [
              0.3333333333333333,
              "#9c179e"
             ],
             [
              0.4444444444444444,
              "#bd3786"
             ],
             [
              0.5555555555555556,
              "#d8576b"
             ],
             [
              0.6666666666666666,
              "#ed7953"
             ],
             [
              0.7777777777777778,
              "#fb9f3a"
             ],
             [
              0.8888888888888888,
              "#fdca26"
             ],
             [
              1,
              "#f0f921"
             ]
            ],
            "type": "histogram2d"
           }
          ],
          "histogram2dcontour": [
           {
            "colorbar": {
             "outlinewidth": 0,
             "ticks": ""
            },
            "colorscale": [
             [
              0,
              "#0d0887"
             ],
             [
              0.1111111111111111,
              "#46039f"
             ],
             [
              0.2222222222222222,
              "#7201a8"
             ],
             [
              0.3333333333333333,
              "#9c179e"
             ],
             [
              0.4444444444444444,
              "#bd3786"
             ],
             [
              0.5555555555555556,
              "#d8576b"
             ],
             [
              0.6666666666666666,
              "#ed7953"
             ],
             [
              0.7777777777777778,
              "#fb9f3a"
             ],
             [
              0.8888888888888888,
              "#fdca26"
             ],
             [
              1,
              "#f0f921"
             ]
            ],
            "type": "histogram2dcontour"
           }
          ],
          "mesh3d": [
           {
            "colorbar": {
             "outlinewidth": 0,
             "ticks": ""
            },
            "type": "mesh3d"
           }
          ],
          "parcoords": [
           {
            "line": {
             "colorbar": {
              "outlinewidth": 0,
              "ticks": ""
             }
            },
            "type": "parcoords"
           }
          ],
          "pie": [
           {
            "automargin": true,
            "type": "pie"
           }
          ],
          "scatter": [
           {
            "marker": {
             "colorbar": {
              "outlinewidth": 0,
              "ticks": ""
             }
            },
            "type": "scatter"
           }
          ],
          "scatter3d": [
           {
            "line": {
             "colorbar": {
              "outlinewidth": 0,
              "ticks": ""
             }
            },
            "marker": {
             "colorbar": {
              "outlinewidth": 0,
              "ticks": ""
             }
            },
            "type": "scatter3d"
           }
          ],
          "scattercarpet": [
           {
            "marker": {
             "colorbar": {
              "outlinewidth": 0,
              "ticks": ""
             }
            },
            "type": "scattercarpet"
           }
          ],
          "scattergeo": [
           {
            "marker": {
             "colorbar": {
              "outlinewidth": 0,
              "ticks": ""
             }
            },
            "type": "scattergeo"
           }
          ],
          "scattergl": [
           {
            "marker": {
             "colorbar": {
              "outlinewidth": 0,
              "ticks": ""
             }
            },
            "type": "scattergl"
           }
          ],
          "scattermapbox": [
           {
            "marker": {
             "colorbar": {
              "outlinewidth": 0,
              "ticks": ""
             }
            },
            "type": "scattermapbox"
           }
          ],
          "scatterpolar": [
           {
            "marker": {
             "colorbar": {
              "outlinewidth": 0,
              "ticks": ""
             }
            },
            "type": "scatterpolar"
           }
          ],
          "scatterpolargl": [
           {
            "marker": {
             "colorbar": {
              "outlinewidth": 0,
              "ticks": ""
             }
            },
            "type": "scatterpolargl"
           }
          ],
          "scatterternary": [
           {
            "marker": {
             "colorbar": {
              "outlinewidth": 0,
              "ticks": ""
             }
            },
            "type": "scatterternary"
           }
          ],
          "surface": [
           {
            "colorbar": {
             "outlinewidth": 0,
             "ticks": ""
            },
            "colorscale": [
             [
              0,
              "#0d0887"
             ],
             [
              0.1111111111111111,
              "#46039f"
             ],
             [
              0.2222222222222222,
              "#7201a8"
             ],
             [
              0.3333333333333333,
              "#9c179e"
             ],
             [
              0.4444444444444444,
              "#bd3786"
             ],
             [
              0.5555555555555556,
              "#d8576b"
             ],
             [
              0.6666666666666666,
              "#ed7953"
             ],
             [
              0.7777777777777778,
              "#fb9f3a"
             ],
             [
              0.8888888888888888,
              "#fdca26"
             ],
             [
              1,
              "#f0f921"
             ]
            ],
            "type": "surface"
           }
          ],
          "table": [
           {
            "cells": {
             "fill": {
              "color": "#EBF0F8"
             },
             "line": {
              "color": "white"
             }
            },
            "header": {
             "fill": {
              "color": "#C8D4E3"
             },
             "line": {
              "color": "white"
             }
            },
            "type": "table"
           }
          ]
         },
         "layout": {
          "annotationdefaults": {
           "arrowcolor": "#2a3f5f",
           "arrowhead": 0,
           "arrowwidth": 1
          },
          "coloraxis": {
           "colorbar": {
            "outlinewidth": 0,
            "ticks": ""
           }
          },
          "colorscale": {
           "diverging": [
            [
             0,
             "#8e0152"
            ],
            [
             0.1,
             "#c51b7d"
            ],
            [
             0.2,
             "#de77ae"
            ],
            [
             0.3,
             "#f1b6da"
            ],
            [
             0.4,
             "#fde0ef"
            ],
            [
             0.5,
             "#f7f7f7"
            ],
            [
             0.6,
             "#e6f5d0"
            ],
            [
             0.7,
             "#b8e186"
            ],
            [
             0.8,
             "#7fbc41"
            ],
            [
             0.9,
             "#4d9221"
            ],
            [
             1,
             "#276419"
            ]
           ],
           "sequential": [
            [
             0,
             "#0d0887"
            ],
            [
             0.1111111111111111,
             "#46039f"
            ],
            [
             0.2222222222222222,
             "#7201a8"
            ],
            [
             0.3333333333333333,
             "#9c179e"
            ],
            [
             0.4444444444444444,
             "#bd3786"
            ],
            [
             0.5555555555555556,
             "#d8576b"
            ],
            [
             0.6666666666666666,
             "#ed7953"
            ],
            [
             0.7777777777777778,
             "#fb9f3a"
            ],
            [
             0.8888888888888888,
             "#fdca26"
            ],
            [
             1,
             "#f0f921"
            ]
           ],
           "sequentialminus": [
            [
             0,
             "#0d0887"
            ],
            [
             0.1111111111111111,
             "#46039f"
            ],
            [
             0.2222222222222222,
             "#7201a8"
            ],
            [
             0.3333333333333333,
             "#9c179e"
            ],
            [
             0.4444444444444444,
             "#bd3786"
            ],
            [
             0.5555555555555556,
             "#d8576b"
            ],
            [
             0.6666666666666666,
             "#ed7953"
            ],
            [
             0.7777777777777778,
             "#fb9f3a"
            ],
            [
             0.8888888888888888,
             "#fdca26"
            ],
            [
             1,
             "#f0f921"
            ]
           ]
          },
          "colorway": [
           "#636efa",
           "#EF553B",
           "#00cc96",
           "#ab63fa",
           "#FFA15A",
           "#19d3f3",
           "#FF6692",
           "#B6E880",
           "#FF97FF",
           "#FECB52"
          ],
          "font": {
           "color": "#2a3f5f"
          },
          "geo": {
           "bgcolor": "white",
           "lakecolor": "white",
           "landcolor": "#E5ECF6",
           "showlakes": true,
           "showland": true,
           "subunitcolor": "white"
          },
          "hoverlabel": {
           "align": "left"
          },
          "hovermode": "closest",
          "mapbox": {
           "style": "light"
          },
          "paper_bgcolor": "white",
          "plot_bgcolor": "#E5ECF6",
          "polar": {
           "angularaxis": {
            "gridcolor": "white",
            "linecolor": "white",
            "ticks": ""
           },
           "bgcolor": "#E5ECF6",
           "radialaxis": {
            "gridcolor": "white",
            "linecolor": "white",
            "ticks": ""
           }
          },
          "scene": {
           "xaxis": {
            "backgroundcolor": "#E5ECF6",
            "gridcolor": "white",
            "gridwidth": 2,
            "linecolor": "white",
            "showbackground": true,
            "ticks": "",
            "zerolinecolor": "white"
           },
           "yaxis": {
            "backgroundcolor": "#E5ECF6",
            "gridcolor": "white",
            "gridwidth": 2,
            "linecolor": "white",
            "showbackground": true,
            "ticks": "",
            "zerolinecolor": "white"
           },
           "zaxis": {
            "backgroundcolor": "#E5ECF6",
            "gridcolor": "white",
            "gridwidth": 2,
            "linecolor": "white",
            "showbackground": true,
            "ticks": "",
            "zerolinecolor": "white"
           }
          },
          "shapedefaults": {
           "line": {
            "color": "#2a3f5f"
           }
          },
          "ternary": {
           "aaxis": {
            "gridcolor": "white",
            "linecolor": "white",
            "ticks": ""
           },
           "baxis": {
            "gridcolor": "white",
            "linecolor": "white",
            "ticks": ""
           },
           "bgcolor": "#E5ECF6",
           "caxis": {
            "gridcolor": "white",
            "linecolor": "white",
            "ticks": ""
           }
          },
          "title": {
           "x": 0.05
          },
          "xaxis": {
           "automargin": true,
           "gridcolor": "white",
           "linecolor": "white",
           "ticks": "",
           "title": {
            "standoff": 15
           },
           "zerolinecolor": "white",
           "zerolinewidth": 2
          },
          "yaxis": {
           "automargin": true,
           "gridcolor": "white",
           "linecolor": "white",
           "ticks": "",
           "title": {
            "standoff": 15
           },
           "zerolinecolor": "white",
           "zerolinewidth": 2
          }
         }
        },
        "xaxis": {
         "autorange": true,
         "range": [
          5.600000000000001,
          13.799999999999981
         ],
         "type": "linear"
        },
        "yaxis": {
         "autorange": true,
         "range": [
          0,
          112.63157894736842
         ]
        }
       }
      },
      "image/png": "[encoded data removed]",
      "text/html": [
       "<div>\n",
       "        \n",
       "        \n",
       "            <div id=\"3eb12c1d-0a83-4db4-81c0-d82bfa4ad4d1\" class=\"plotly-graph-div\" style=\"height:525px; width:100%;\"></div>\n",
       "            <script type=\"text/javascript\">\n",
       "                require([\"plotly\"], function(Plotly) {\n",
       "                    window.PLOTLYENV=window.PLOTLYENV || {};\n",
       "                    \n",
       "                if (document.getElementById(\"3eb12c1d-0a83-4db4-81c0-d82bfa4ad4d1\")) {\n",
       "                    Plotly.newPlot(\n",
       "                        '3eb12c1d-0a83-4db4-81c0-d82bfa4ad4d1',\n",
       "                        [{\"type\": \"histogram\", \"x\": [8.913550280493675, 7.908387159290043, 8.589699882202986, 10.072597215357852, 11.66656458540186, 8.987196820661973, 10.23731343350214, 11.704157207893939, 11.015493083315233, 10.203592144986466, 12.823345294488677, 10.801064264366158, 10.521372248595526, 11.506706165156311, 11.365005334893606, 11.338060041995572, 10.908594698007377, 9.632334782035558, 11.62528046211101, 9.837187480778896, 11.610705319887602, 8.85978949474541, 8.18004072349016, 11.782074354040846, 11.566892681240171, 11.545257118333492, 10.201849887396012, 10.988676820872097, 10.877235542480735, 11.642777597410365, 11.449953715804188, 11.033340076940295, 10.78708978978675, 10.563233056462042, 10.662679931125757, 10.636264016619267, 10.88049701944499, 10.88049701944499, 9.454775637424682, 11.076263764173635, 10.201515917042054, 11.449559589348409, 12.330526713620594, 10.986495389225194, 5.645446897643238, 9.635869511120088, 9.109967397829395, 10.362998829061379, 9.166283985779263, 10.104630863570671, 8.454892165218858, 12.867827193408905, 11.576116203256401, 11.38215596908088, 8.970432074329242, 9.724719673941472, 11.003565433365848, 11.08765042953924, 11.331151758079107, 11.306356296558281, 11.309290380044061, 10.563233056462042, 10.662679931125757, 10.636264016619267, 10.88049701944499, 10.88049701944499, 10.525165583876873, 10.104630863570671, 13.096908124077425, 12.867827193408905, 12.867827193408905, 12.867827193408905, 12.867827193408905, 12.867827193408905, 12.867827193408905, 11.301488127786056, 11.766691330466527, 10.104630863570671, 11.241864493534683, 10.497918760156915, 11.958322571669738, 8.014666370464942, 9.282009658666542, 7.635303886259415, 8.303504798872783, 10.525165583876873, 9.299449547047958, 8.765926513729443, 11.245398898722012, 11.993838123786466, 10.988676820872097, 11.128644382529194, 9.285355075781629, 10.415412571745419, 10.29109414234298, 12.210726798139975, 12.210726798139975, 12.142317817225138, 12.210726798139975, 7.723120092266331, 10.104630863570671, 9.844798556187449, 9.672563813902956, 9.983084006807271, 10.721724343934895, 10.832161297455611, 8.589327789175437, 11.487935808266622, 11.30933941287155, 10.95071882367088, 10.233294770038556, 11.681300215631559, 10.379908049577942, 11.517723933881802, 11.847130848506017, 11.77310272429982, 10.525809827315793, 9.647885373547759, 11.837296201489055, 11.420250809119585, 11.13036112114825, 11.920508329049394, 11.327113824914775, 11.021967825841704, 10.553701135710886, 9.729253205924792, 9.977620524377356, 10.206218323189427, 11.54028768172604, 11.542066704316365, 11.049190148737244, 11.10737535324936, 11.327896245764677, 11.07787190418095, 10.811524313923938, 11.105438313910426, 10.941411675702279, 11.067013292046882, 11.680395616911554, 10.944276500467035, 10.82017820443161, 10.709717852539962, 10.722121353137489, 10.598757478477053, 10.962544405370902, 9.562334377396374, 10.36135533943734, 11.321135221314014, 12.0702586497481, 11.313022252695275, 11.09219950009401, 10.325318014730557, 9.239996256883693, 9.686077533069678, 10.447409403791308, 10.852980925238, 10.684668503929622, 8.567506005289827, 9.2237500588861, 9.188912424562563, 9.666878750268348, 9.335121088873489, 11.501146362933932, 11.185837062139354, 9.465602553171852, 8.262816937670928, 13.223492955254335, 11.36585135373032, 12.119751939063647, 12.09825912371128, 10.719383198355127, 11.78901813903125, 11.707175592629456, 11.417548282921302, 11.41751528016557, 11.622989899832538, 11.038721024659884, 12.026144222904994, 10.060149362549504, 10.121296902259635, 10.109932454227286, 11.910553274865176, 6.92951677076365, 11.79447376423837, 10.439132610118632, 11.342137143989946, 7.395721608602045, 10.696547939065669, 10.06683863569798, 8.920121751872404, 11.828028132998002, 11.26789411389799, 11.929244785736339, 8.732788324973118, 11.955570744202676, 9.1801903950253, 10.609822392399646, 11.541085230764084, 12.007371675551125, 12.911847263363303, 11.871250047506704, 12.299599417826457, 11.220994378229033, 11.056398614611616, 10.34009596741305, 11.003532148295863, 12.753722844772314, 11.50992095594993, 10.516075225237657, 12.171967624880223, 11.173922027561483, 10.787482339609461, 12.698498018210639, 10.81299533211345, 11.421610294478786, 10.502488875205843, 11.82821054484798, 12.553011345697463, 9.705707120679628, 11.473394303632896, 11.716617047500376, 12.227584595415488, 9.387230538772931, 12.472995733522012, 12.514578882155154, 12.285465911592922, 11.214249851043581, 9.748703338735261, 10.801777233300731, 11.850054628624763, 9.24319470884713, 10.426409717249351, 10.100081768616802, 10.132175704105688, 12.09607361077923, 9.13873695311649, 11.87816562251414, 11.525466496464539, 10.714795475190176, 11.575336725091626, 11.620020475521713, 10.85897976660942, 11.964720570661, 13.23071003011369, 11.469151200118704, 11.390599626391937, 12.218174126346845, 11.07535030294383, 10.112248163482885, 12.097646323977335, 11.788357814993093, 9.455088847042777, 8.369620826949102, 11.09599993639729, 12.448100755785923, 10.801166148198302, 9.725795264125836, 11.233872719216501, 11.173585119253508, 11.257633135320098, 11.751824248228944, 11.405006122750734, 9.942900554892963, 11.381369263228375, 11.33451624499619, 11.68659301698385, 10.326890805775305, 11.187098367272093, 11.262462103001056, 13.604209111326652, 10.301525144815496, 11.176347222730618, 8.430109084509125, 11.851858955932778, 10.650507198560563, 11.168066154971923, 11.168136742044634, 9.454148923733976, 11.905649752427557, 10.807381764073732, 11.566513624140157, 10.270281129996023, 10.266393046225497, 10.857459351377972, 12.346960041301521, 9.996886816794678, 10.399433013772667, 10.425638798632033, 9.281078386481525, 9.17636985240503, 10.853831824535135, 11.41459573089702, 10.426528267381377, 12.9190224533863, 9.609988594762783, 11.331403588346838, 9.998797732340453, 11.1004357419251, 10.585093387249515, 12.782686009834167, 11.04771035245629, 10.843025951129974, 10.952559395644101, 9.67721410821299, 12.177158635365531, 9.063810579280286, 10.849337086651827, 9.29403793099775, 8.52377150677636, 7.633853559681768, 9.998797732340453, 10.819778284410283, 8.798605650854423, 11.550221249713925, 12.323855681186558, 9.935179999268618, 11.271490643683768, 9.686450319653678, 11.56171562913966, 9.480367509189243, 11.566466231898259, 9.674891664210184, 10.520913922555932, 12.55037131840085, 9.385133662349347, 10.988676820872097, 10.726521993930495, 11.5061525806828, 10.762149171573647, 8.049746290952191, 11.082142548877775, 12.573489686000809, 11.411999546380267, 11.00043178410354, 10.952559395644101, 12.341477282536376, 10.668955394675699, 10.013865460005738, 10.077566902136047, 11.171842615791332, 7.519149957669823, 11.970350312009105, 9.64342064711732, 9.998797732340453, 11.258033215341438, 8.88875674784872, 9.7818282639088, 11.237171963383721, 9.266437111328052, 10.716593178609457, 11.336188286470174, 10.983732183846053, 11.883799128308773, 11.50992095594993, 11.258033215341438, 12.114505452004684, 8.374707543119483, 7.600902459542082, 11.260610536355738, 8.502079553606189, 11.150519846322512, 9.48978863950086, 9.969649754789797, 11.146200185177994, 11.336188286470174, 13.616543632483626, 9.204422898212146, 9.93226935396158, 9.711115659888671, 8.768885326134862, 9.6778408710038, 8.622273667866745, 10.801614313782611, 10.746863446342765, 12.765688433465597, 13.65340801235493, 13.280998273801634, 9.433963808127244, 10.469965456491996, 8.945723572455398, 11.462684248533481, 7.527255919373784, 10.77862290098879, 10.215301104562837, 9.527192821727743, 9.821843563495618, 9.756262832779603, 11.554067408301403, 10.335594591590713, 10.95369710197607, 10.44581184336149, 11.374892527005109, 10.87804719253426, 10.992049505350737, 8.173293438966228, 9.09661160664784, 9.727227587120769, 10.897868317624576, 11.03811027872727, 12.100712129872347, 9.868637275100381, 9.446202695698167, 7.943782692458625, 10.809727948556782, 8.662677858158219, 11.31691058104427, 7.760893195851024, 12.692247930812231, 9.686450319653678, 10.558413520275876, 11.0684024304583, 8.722417141427496, 11.608235644774552, 9.605014129006127, 10.501966846976991, 10.629319711713425, 8.86488793377419, 11.150519846322512, 11.3634969514783, 12.510980498647022, 11.307093696274613, 9.33025446864152, 9.074062353683555, 6.876264611890766, 10.389825792650848, 12.220118538503534, 11.52682837013922, 9.565844630930576, 7.241366283322318, 9.387146748082028, 10.082386592528753, 7.473069088032197, 11.544424132029599, 10.045637944640806, 10.584055950889214, 10.306148733311558, 9.653358136136932, 9.36314729221994, 10.506764728667031, 11.038190661348592, 10.464045753403807, 8.09162741160107, 11.16761427968181, 11.59910316121128, 9.468464892185638, 10.620107089281216, 10.69176307818765, 9.974505039771408, 12.703083280262437, 9.816839745810455, 11.66883459781235, 8.519789817263504, 11.951825349164631, 10.121618562026793, 9.71571114505921, 10.281649978116283, 9.555701556014641, 11.286024864778307, 8.431417414394833, 10.51173022600563, 9.79406323525484, 11.147642146494896, 9.129780864117766, 10.126631103850338, 9.191768986390747, 8.764053269347762, 10.021270588192511, 10.767199954191426, 10.596634733096073, 9.47608353690921, 10.11123316167024, 12.043553716032399, 11.147642146494896, 10.736548837807, 9.225327501784431, 13.070396171779075, 7.004881989712859, 9.980448593672257, 10.350830097988764, 10.690921662285279, 10.308952660644293, 11.554969112967909, 12.884106188280072, 12.240474072247506, 9.798127036878302, 9.998797732340453, 11.36645356106997, 11.106459856528481, 11.150519846322512, 11.350865253774536, 11.501864517610803, 11.106459856528481, 12.174581978438804, 12.553202176625375, 11.195471234184778, 10.768484990022733, 9.692766521220475, 8.953122840328222, 9.60521627853008, 12.838691918346727, 11.51267543371502, 11.103512574613967, 8.701180027529253, 9.283776690049365, 11.631028449437531, 10.851703217194657, 10.44581184336149, 11.021101494211369, 11.628777749035867, 9.266531651625925, 8.429672593886743, 9.41865450904439, 8.517193191416238, 11.628777749035867, 9.453286550586572, 11.065074640365626, 9.104979856318357, 7.700747794511798, 13.227161134743392, 13.042555808750112, 10.225571051705241, 9.392661928770137, 8.987196820661973, 9.182557990963732, 11.806445463522216, 9.111845125227083, 8.940629184845639, 9.147613542067878, 9.318566777047053, 9.583213415483687, 11.877568578558138, 11.130243831133892, 8.872487182278038, 9.38429367909962, 6.8001700683022, 9.615805480084347, 7.581719640125308, 11.200950699949402, 9.210340371976184, 7.29505641646263, 11.388495386592052, 7.856319571406588, 11.11095424611632, 6.68586094706836, 11.61548205329532, 9.994378892724196, 12.89921982609012, 10.0817592530548, 9.191463316206494, 9.453600226875217, 9.680344001221918, 10.326301298978905, 9.908972482766698, 10.54006438160768, 10.173018383403459, 10.01681623784313, 13.017002861746503, 9.852194258148577, 11.399924725882984, 10.799453120615684, 12.736700896592344, 12.594730635321957, 12.367340793126296, 10.352841946214014, 11.399924725882984, 9.637306011530349, 7.605890001053122, 11.32261205824672, 9.557469903071384, 11.363160155335496, 12.171491552673848, 10.777997497061715, 11.452910032560242, 10.07807091323496, 10.939213288149046, 10.409310684679328, 11.367494986760022, 11.64034194959485, 11.184338061192443, 8.95944014361693, 11.55230001244425, 10.043771097983184, 9.584796293210003, 12.23589354934243, 11.833602177978094, 11.793537604237645, 12.022834668951852, 10.882452568938104, 9.99268819799443, 12.628945358293372, 9.049702026013371, 10.990802937461941, 11.701013695825184, 11.100481058118849, 12.08549132331937, 12.507705698918365, 9.824119617152556, 12.151748446799575, 11.13751903414526, 10.16569795901424, 10.69607274530213, 9.385133662349347, 12.38029902460977, 10.277221166482795, 9.043458999670106, 10.839972991695802, 10.06185788850757, 10.458090798648007, 11.729624293600416, 11.859779339701147, 10.314271822121892, 11.7607694337224, 11.252274731569479, 7.173958319756794, 12.129191601194217, 11.942757929526687, 11.676862388638906, 12.116929907895182, 11.905183745591112, 11.129407741344888, 12.304573185265266, 5.958424693029782, 11.724902906671694, 10.807462758687635, 10.74082165340857, 10.92442654647573, 11.779749002851904, 10.944417760863153, 10.614130780712824, 10.617294835792377, 11.4448607340561, 10.06615897040696, 10.628545137085586, 11.498207687883278, 8.294049640102028, 8.870943863837724, 8.789355452209982, 8.340217320947035, 8.974618038455112, 9.583557732534226, 10.496261758949286, 11.604483158450593, 10.322230781590136, 11.616555484182403, 12.472624284541237, 12.625877775618145, 10.980757028431103, 11.373192022188952, 11.949281820553717, 11.6623880298824, 11.228278781061968, 12.631797792645699, 11.924286491276778, 12.950114916204871, 10.689897363555763, 12.312385707371801, 8.660254034256889, 11.599754325304707, 10.344158916378912, 9.636000187369866, 8.602820277383675, 8.912877287669296, 9.455401958591324, 10.954116851182086, 10.809566319333866, 9.079434102128383, 9.396404915048972, 9.662370949231669, 10.763736893526659, 8.469682208745185, 9.82395721357932, 8.934455109403913, 8.752897524775305, 10.499765839127752, 11.916415290157625, 8.256607344626158, 11.41527955948123, 8.863898604317479, 11.018252022874206, 10.678214720088496, 9.195125206169703, 10.642109884868974, 11.069026134343924, 8.444622498581403, 11.934729693011723, 12.506303155978435, 9.40968291310444, 10.497394340112052, 10.864789890239631, 9.345046074828474, 9.874522074243114, 10.660712210469299, 8.91139510724569, 10.958426563414267, 10.329180034324262, 11.704058090042732, 9.85434982797458, 9.836118362165275, 9.542445945729886, 11.448536266016879, 9.346966969508008, 11.765099523663016, 10.096213132628804, 10.450539024706163, 9.743905482711662, 10.069213832980386, 10.228646029257067, 9.329899607033822, 11.536925154618109, 10.04615830370029, 9.399968503952575, 9.643031466337938, 10.041029641554612, 9.61400385813772, 9.074520648833648, 10.049879640751199, 10.525809827315793, 10.269033036643048, 10.16068464397519, 10.252840757844124, 9.8092867571373, 11.707430830145817, 10.362019381580984, 11.983166566017303, 11.394772360846956, 9.531626451841742, 11.699952599812502, 11.843041831488538, 10.31890299149746, 9.752083098376895, 11.744394265030428, 10.280175885872874, 11.100239348018722, 11.481734030710028, 10.246758057051174, 11.956373340806152, 11.458025674988566, 9.601706555704846, 11.466179709572318, 11.82807191487669, 10.544683327463973, 9.548596730390898, 10.368133102880323, 9.407960966059306, 10.792242634215762, 9.511333458487636, 9.79138211875182, 10.32649783986004, 10.39714667138021, 10.489494857538169, 10.490996401073076, 10.531696131937162, 10.562845244106652, 10.585523228341355, 10.629513261662012, 10.64849161863629, 10.699913082549575, 10.753916221110412, 10.758051805772519, 10.789710752787888, 10.819578264407616, 10.869215858012614, 10.890255387214118, 10.907734215168517, 10.973477433741559, 10.977841301057458, 11.07933862154504, 11.156850341103464, 11.237553972095531, 11.25497046539134, 11.293836183984059, 11.325523022308786, 11.381232381619347, 11.443714712606106, 11.44571671527678, 11.555553827025852, 11.558539160930586, 11.569220728625433, 11.593020478968073, 11.635143097694478, 11.702189533330758, 11.76012923383326, 11.770230800763294, 11.871368844304921, 12.15907013255978, 12.429216196844383, 12.456831363877356, 12.53823202370482, 12.903592750902307, 11.075706497243841, 11.363392440675852, 11.923013205563837, 12.717940725749578, 11.923013205563837, 13.50346065350853, 12.86747112777554, 12.328476101696141, 13.546633229467746, 12.921538892339385, 13.175773330089346, 11.075706497243841, 13.090616743603746, 12.579789055323758, 12.117164926164834, 12.076066460624565, 8.070906088787819, 10.264408469559651, 8.006367567650246, 9.143880005275912, 6.253828811575473, 8.22389538017882, 8.48632152774915, 9.199683791787654, 8.635864721133736, 8.382747094863314, 6.501289670540389, 5.87493073085203, 6.891625897052253, 8.201934351194222, 8.756367559802975, 6.473890696352274, 7.845807502637805, 5.902633333401366, 10.47030591100205, 8.964439833539357, 8.18646442942209, 9.875396672369602, 8.672314828283538, 11.54242601308785, 9.672752760526098, 9.623773649733524, 8.310169021981912, 10.185164128035991, 8.76280248744611, 8.503905297089302, 9.753826777981722, 9.007979359844501, 10.411689738095404, 9.82086652384779, 9.557469903071384, 10.642109884868974, 8.644706511715198, 8.894533135798554, 8.59044365315583, 8.845633256340186, 6.756932389247553, 6.175867270105761, 9.138092207768558, 9.053920452704881, 8.771525284186465, 10.260812285316357, 9.722085572801557, 9.287301413112312, 10.184711314926863, 11.432669401204567, 10.785186839640664, 7.991592282068092, 8.294049640102028, 7.356279876550748, 8.294049640102028, 9.414015640094995, 8.360773272144936, 10.227019277881606, 9.894598158690211, 9.716193654115616, 9.22759072538271, 9.22759072538271, 11.09609096962448, 11.002099841204238, 13.681979165339751, 6.626717749249025, 7.336936913707618, 8.196161139282902, 10.600178446719438, 12.110689963097597, 12.087897032825504, 10.919442607523228, 8.987696695703624, 10.627188186139529, 11.610369729631081, 11.968595608860628, 12.750714017290814, 10.57497688594327, 12.897545925900564, 10.560955740639056, 10.613909658640255, 11.153374962000273, 11.152730045709548, 11.831539183290127, 11.74464811039237, 12.220650865029416, 10.8365567356491, 13.085697318341788, 10.76195847542619, 11.528355802625587, 10.916669032639797, 12.41161011537413, 10.53940278714094, 11.07827353542708, 12.323917901473058, 11.622882400885027, 11.587383375888239, 9.586102000710904, 12.527405863308584, 10.307651814911244, 10.587795784428868, 10.587821006063988, 10.704681637179208, 11.421402106100423, 11.099241675837533, 11.003698562567935, 12.386884730310923, 10.869691627102307, 13.12960509277329, 12.345717189710086, 12.231452826569225, 10.854720627607847, 12.378773067280074, 11.012396646681605, 10.349230507142863, 11.357709217627498, 12.476717912272495, 11.899581452091338, 10.126311052639412, 12.43824729344999, 10.904211340385112, 10.167120242980383, 13.522039763141764, 12.095783336635595, 12.204210913582225, 9.94831750445392, 12.28326514136008, 12.362807127321497, 9.050758302151717, 12.04711794485093, 9.688746104486063, 9.336973022909548, 9.24435525056346, 9.32607687045878, 8.993551586299981, 8.997023381479709, 8.997023381479709, 10.956649094966853, 8.645058562414134, 12.872981081353213, 12.714235727876515, 12.085124606530634, 11.425503094443416, 9.921916688004496, 11.371200597317179, 9.683588731386807, 11.551415141750752, 12.292360427454694, 13.242422930937527, 12.628801212260086, 12.198483923881497, 11.364042552726982, 11.61904069575893, 12.366570283594093, 11.76396429972317, 10.935550410654034, 11.956854589752682, 13.10805753506706, 10.709606211755235, 11.779718370054898, 10.716327056014078, 12.882912582815388, 11.689078032618655, 11.94470138786819, 12.174184582666095, 12.754355890654592, 12.615884957507, 12.550201211800305, 12.175407231219289, 12.136572502545645, 12.96330199311399, 10.993697977523398, 9.086702731518004, 12.462616156076939, 10.865840922736847, 10.45791849378284, 12.02607837849531, 12.830448358662908, 11.712775824048476, 12.274908171305604, 10.456165040324679, 10.43623121160305, 12.02211975884087, 10.104917050943584, 12.03585355752385, 11.325860676819078, 10.964934347972234, 10.849006935070413, 12.968389015365508, 11.593509564526267, 10.74138421698227, 11.259734992303722, 10.54988373840662, 12.063811833579448, 11.640262713431424, 11.70475170877843, 8.407824654360873, 11.995160237878547, 11.459007676978688, 11.223722236146509, 10.178274337002176, 10.20166436208055, 10.643828385423177, 11.217480001900613, 9.993876552263808, 9.343033913701648, 11.084355483146966, 10.048107242146072, 11.118058992371832, 10.67113905526418, 8.435332164935916, 9.220587688427733, 11.601513099013726, 12.138007914616045, 10.591320638272304, 10.003378135350923, 12.272618525574073, 11.342682665391472, 11.38481932899077, 10.89405052878487, 10.859652630053144, 11.390531816756162, 10.476301573636187, 11.307007694321086, 11.935306685454705, 11.127704063339106, 11.442567376283932, 11.75690640215091, 11.68257540824441, 8.27052509505507, 9.587748882301822, 10.90056533037994, 9.083075020930307, 9.194007717355285, 10.31463647711259, 11.751627355200291, 8.996280439395015, 10.293737494837812, 10.23598762483351, 11.922867204661026, 10.420195839460273, 12.2127999662796, 12.440955026389753, 12.526742101933621, 11.455285758857144, 10.829589991794276, 10.254355669441074, 10.721172680656162, 9.97961491292368, 12.230755501975393, 11.370370626087977, 11.197639212091788, 10.18005812023319, 11.342682665391472, 11.662947634213706, 11.181723317004527, 10.696887224985165, 11.095028399318974, 10.97090152903382, 11.784569614724237, 9.405249044275608, 10.929529148369403, 11.741661349996177, 11.634753641335221, 9.94578046472638, 12.34907715119716, 9.248117736310213, 12.628067055589549, 12.176185439369965, 11.405985925532484, 11.194220452283124, 11.670390645765316, 9.875807983429386, 11.295241980325379, 9.559940347242952, 12.241029473539205, 9.347490210123416, 10.957695047227332, 11.521022594557683, 11.719305286857255, 10.974677255626265, 11.877381060977815, 10.943216410966887, 12.569305042302645, 11.048299350937146, 12.62822114207827, 12.360256181960505, 11.56330484186238, 10.770125748505212, 11.168348473372488, 10.38145935143104, 11.335854101758402, 11.967466410724985, 11.788623515019328, 12.715549359926852, 12.072106872862014, 11.183532113813309, 11.375810516214353, 10.0817592530548, 12.204681678584032, 10.410756860099342, 11.430619364421151, 12.123223503501105, 13.429280268920879, 11.534598890251692, 10.208948146339551, 11.124892529791104, 12.157255230989454, 10.416341118636355, 11.079215191421762, 10.646091341808665, 9.365718869155696, 11.62109802312786, 10.20084764153918, 11.691146961325291, 11.156821786399789, 11.358981430457023, 11.342907902632438, 11.440290253925106, 11.94014554168142, 12.51168795199198, 11.18902191050487, 11.37516801226265, 10.980246111835637, 11.798856004383204, 12.543348130889296, 10.144981697062931, 11.551434386398336, 11.318150687706462, 11.937840196899707, 11.921007146861546, 11.287053194084761, 10.220194304028526, 10.59633468808707, 12.726799093973426, 11.96070265686401, 9.951610827717856, 11.549430956782537, 11.478458236087981, 11.933686327637512, 10.468829770273567, 11.32846161510424, 12.365108516215043, 13.66645819294862, 12.5913010321369, 12.186089301905781, 12.49700941570245, 11.685684782260491, 11.401502163266427, 12.476695025398497, 9.855294709934643, 12.468394601410361, 10.521560910043119, 12.594093144031964, 13.41727971931403, 11.292341136050942, 10.879498968386217, 11.197639212091788, 11.3376073268886, 12.427041834631279, 10.274740715974103, 11.063053820541235, 10.87328113592759, 13.265772573499497, 11.954008650680139, 10.993328148817113, 10.948189089173493, 11.064244875235472, 9.479680250180099, 10.227308671603781, 11.306786512471842, 11.86830356837466, 9.925444719888171, 11.79864561410847, 11.872193045121298, 11.463546127272155, 11.012149177057239, 11.106234605936246, 12.02488644397647, 11.21968128597653, 11.771683233843607, 11.964446844837077, 11.709429309335544, 10.521264426071296, 11.494883686469464, 10.591798055204546, 12.16604200447382, 10.68251421973945, 11.576003545182923, 10.486512900336537, 9.709417248707625, 10.954326659732555, 10.83075778845329, 11.352334088312983, 9.264733855806515, 13.209184903039997, 11.206359543016655, 9.729431740159207, 11.839361795648259, 10.555343878678192, 12.091054533945908, 11.512385319117719, 11.217789010857615, 11.708368885642159, 11.659516211808384, 11.434963923500517, 11.461505846814694, 12.37799868905864, 10.583144142913573, 12.182993355834277, 11.516200097503885, 9.633579908183512, 11.198817278281926, 12.500531702260979, 11.422081297669504, 12.851134538436856, 10.27718675788064, 12.139793944490785, 10.861706866436679, 10.063946862472948, 11.717872458567768, 10.239781201782993, 11.25030016643631, 11.998734773759884, 10.227236331024303, 10.022336686374508, 9.489486113405677, 12.10806282497273, 10.67227545855449, 10.737200699982965, 12.536702850667753, 11.030946415761818, 10.663241426590055, 11.773033339549789, 10.351373376528244, 11.202002059645364, 12.176582040963115, 10.080419612045645, 12.378781481141068, 11.46715374072406, 10.473166819095828, 10.826296991397399, 11.15447752162512, 11.264489746368644, 11.979071663888659, 12.355091609168008, 11.557937070799577, 11.663489721262067, 11.811161646360539, 10.125790750852646, 10.073314711748393, 10.543154839315235, 11.023110888393703, 12.518083849887079, 11.17167382517569, 11.36737932633889, 10.667605646966653, 11.082142548877775, 11.491068328614919, 10.404626410712575, 10.480241356416226, 9.508146027598816, 11.842063730795651, 10.669118172124406, 10.940011648890817, 9.828278974938373, 9.930129483482549, 12.419048682408569, 11.553001581392563, 9.745487807887239, 11.6454088085832, 10.89414336636559, 10.719736930230058, 11.28914421036649, 11.078180865609573, 11.288531131754366, 11.543823176298073, 9.433483923290392, 11.245529563019485, 13.000055620619028, 11.775804981288069, 12.233065050593774, 11.011753098232376, 12.008877016136763, 12.177884054120863, 12.208280207072175, 12.378116567912993, 10.97157190283528, 10.848773821251536, 9.658162296163171, 11.658548458648143, 9.086589564540008, 9.974365313169566, 12.04990994294196, 10.142543822310387, 10.150699131184039, 11.03878529201209, 11.412121220393614, 12.206072645530174, 11.422595861478557, 10.540143743537802, 10.899919448775261, 11.097606971309549, 11.039379569300081, 10.968904936346597, 10.955602047544657, 11.109368535131365, 11.225243392518447, 11.13658702691299, 11.209290146837182, 11.32405048130643, 10.8192781593686, 12.105179912230284, 11.204877406565574, 12.568696360393183, 10.450596888379366, 12.821323147381637, 12.022684520154112, 11.375959609897071, 11.346729194097769, 11.952321679872872, 10.757498543639837, 11.49399745508471, 12.541973290252429, 11.0037651205233, 12.066712872274172, 12.049465618016209, 10.766335312700145, 10.351884428027805, 11.781378845393471, 11.826399545455681, 10.343450701051859, 9.59859149934966, 10.355040764837048, 11.852877354855691, 11.621941291830666, 9.81694879111889, 11.668680571302371, 11.611684236993492, 11.740116812890934, 9.946977983610656, 10.459525519123666, 12.683365270386224, 11.785019167655236, 8.977020214210413, 11.9168026463231, 10.611794244853895, 10.663241426590055, 10.007892611890918, 10.053285917624523, 10.831054468604599, 11.421391147616639, 9.981281579976148, 11.025800091647431, 11.730364778007617, 11.622048891988582, 12.362490752799834, 11.643848458678184, 11.969926171441298, 11.2242028513432, 11.7727017681683, 11.384830695662552, 10.425104737380318, 12.201246016072096, 10.881700887014485, 8.470730317005897, 10.83125220648391, 9.698245312357605, 11.56584044371661, 11.980814359740398, 11.655188624518198, 12.38850252978983, 11.21988238127627, 12.276088327101844, 10.810798082829503, 12.22601741958577, 11.345866834842186, 12.401112974731904, 11.567527280161812, 10.950262539222262, 11.732229655361717, 11.314901264448983, 12.13908312314156, 10.724698078160014, 9.747067633264827, 11.446871128898794, 11.13740258073377, 11.240499753476396, 11.930977688583864, 9.702044336534586, 11.499069918679787, 11.47559735970423, 9.90268723236536, 9.917932716967623, 12.024634698238335, 9.960245886354738, 12.036416542187018, 11.802560628896549, 11.270063782789915, 12.039368499631296, 11.869907361794104, 11.824241052781487, 11.328293240639033, 10.266740811834984, 10.797144051901348, 9.35218709620442, 9.117237753713859, 10.585017513755883, 11.097394869378626, 11.092290879929589, 10.608859702718643, 10.627066940216276, 10.60784664405992, 10.628666203926738, 10.612237376323481, 11.46246340395984, 10.777580343710097, 9.897268252722212, 9.813398717754442, 10.09009159305939, 8.31164394850298, 9.645364282325891, 12.104178337848834, 10.255270550394432, 10.608093826184968, 10.883747893748222, 11.620523475568246, 11.987126522674853, 10.24295529813714, 10.408737661968933, 9.164505835632383, 9.33273498018979, 11.621941291830666, 11.598837070766487, 10.941942818379685, 11.920348654784554, 10.313708002728152, 11.50832489857466, 10.604379663543519, 9.884253763420828, 8.365905077202456, 9.329455852866344, 10.3014243942235, 11.432485178272625]}],\n",
       "                        {\"template\": {\"data\": {\"bar\": [{\"error_x\": {\"color\": \"#2a3f5f\"}, \"error_y\": {\"color\": \"#2a3f5f\"}, \"marker\": {\"line\": {\"color\": \"#E5ECF6\", \"width\": 0.5}}, \"type\": \"bar\"}], \"barpolar\": [{\"marker\": {\"line\": {\"color\": \"#E5ECF6\", \"width\": 0.5}}, \"type\": \"barpolar\"}], \"carpet\": [{\"aaxis\": {\"endlinecolor\": \"#2a3f5f\", \"gridcolor\": \"white\", \"linecolor\": \"white\", \"minorgridcolor\": \"white\", \"startlinecolor\": \"#2a3f5f\"}, \"baxis\": {\"endlinecolor\": \"#2a3f5f\", \"gridcolor\": \"white\", \"linecolor\": \"white\", \"minorgridcolor\": \"white\", \"startlinecolor\": \"#2a3f5f\"}, \"type\": \"carpet\"}], \"choropleth\": [{\"colorbar\": {\"outlinewidth\": 0, \"ticks\": \"\"}, \"type\": \"choropleth\"}], \"contour\": [{\"colorbar\": {\"outlinewidth\": 0, \"ticks\": \"\"}, \"colorscale\": [[0.0, \"#0d0887\"], [0.1111111111111111, \"#46039f\"], [0.2222222222222222, \"#7201a8\"], [0.3333333333333333, \"#9c179e\"], [0.4444444444444444, \"#bd3786\"], [0.5555555555555556, \"#d8576b\"], [0.6666666666666666, \"#ed7953\"], [0.7777777777777778, \"#fb9f3a\"], [0.8888888888888888, \"#fdca26\"], [1.0, \"#f0f921\"]], \"type\": \"contour\"}], \"contourcarpet\": [{\"colorbar\": {\"outlinewidth\": 0, \"ticks\": \"\"}, \"type\": \"contourcarpet\"}], \"heatmap\": [{\"colorbar\": {\"outlinewidth\": 0, \"ticks\": \"\"}, \"colorscale\": [[0.0, \"#0d0887\"], [0.1111111111111111, \"#46039f\"], [0.2222222222222222, \"#7201a8\"], [0.3333333333333333, \"#9c179e\"], [0.4444444444444444, \"#bd3786\"], [0.5555555555555556, \"#d8576b\"], [0.6666666666666666, \"#ed7953\"], [0.7777777777777778, \"#fb9f3a\"], [0.8888888888888888, \"#fdca26\"], [1.0, \"#f0f921\"]], \"type\": \"heatmap\"}], \"heatmapgl\": [{\"colorbar\": {\"outlinewidth\": 0, \"ticks\": \"\"}, \"colorscale\": [[0.0, \"#0d0887\"], [0.1111111111111111, \"#46039f\"], [0.2222222222222222, \"#7201a8\"], [0.3333333333333333, \"#9c179e\"], [0.4444444444444444, \"#bd3786\"], [0.5555555555555556, \"#d8576b\"], [0.6666666666666666, \"#ed7953\"], [0.7777777777777778, \"#fb9f3a\"], [0.8888888888888888, \"#fdca26\"], [1.0, \"#f0f921\"]], \"type\": \"heatmapgl\"}], \"histogram\": [{\"marker\": {\"colorbar\": {\"outlinewidth\": 0, \"ticks\": \"\"}}, \"type\": \"histogram\"}], \"histogram2d\": [{\"colorbar\": {\"outlinewidth\": 0, \"ticks\": \"\"}, \"colorscale\": [[0.0, \"#0d0887\"], [0.1111111111111111, \"#46039f\"], [0.2222222222222222, \"#7201a8\"], [0.3333333333333333, \"#9c179e\"], [0.4444444444444444, \"#bd3786\"], [0.5555555555555556, \"#d8576b\"], [0.6666666666666666, \"#ed7953\"], [0.7777777777777778, \"#fb9f3a\"], [0.8888888888888888, \"#fdca26\"], [1.0, \"#f0f921\"]], \"type\": \"histogram2d\"}], \"histogram2dcontour\": [{\"colorbar\": {\"outlinewidth\": 0, \"ticks\": \"\"}, \"colorscale\": [[0.0, \"#0d0887\"], [0.1111111111111111, \"#46039f\"], [0.2222222222222222, \"#7201a8\"], [0.3333333333333333, \"#9c179e\"], [0.4444444444444444, \"#bd3786\"], [0.5555555555555556, \"#d8576b\"], [0.6666666666666666, \"#ed7953\"], [0.7777777777777778, \"#fb9f3a\"], [0.8888888888888888, \"#fdca26\"], [1.0, \"#f0f921\"]], \"type\": \"histogram2dcontour\"}], \"mesh3d\": [{\"colorbar\": {\"outlinewidth\": 0, \"ticks\": \"\"}, \"type\": \"mesh3d\"}], \"parcoords\": [{\"line\": {\"colorbar\": {\"outlinewidth\": 0, \"ticks\": \"\"}}, \"type\": \"parcoords\"}], \"pie\": [{\"automargin\": true, \"type\": \"pie\"}], \"scatter\": [{\"marker\": {\"colorbar\": {\"outlinewidth\": 0, \"ticks\": \"\"}}, \"type\": \"scatter\"}], \"scatter3d\": [{\"line\": {\"colorbar\": {\"outlinewidth\": 0, \"ticks\": \"\"}}, \"marker\": {\"colorbar\": {\"outlinewidth\": 0, \"ticks\": \"\"}}, \"type\": \"scatter3d\"}], \"scattercarpet\": [{\"marker\": {\"colorbar\": {\"outlinewidth\": 0, \"ticks\": \"\"}}, \"type\": \"scattercarpet\"}], \"scattergeo\": [{\"marker\": {\"colorbar\": {\"outlinewidth\": 0, \"ticks\": \"\"}}, \"type\": \"scattergeo\"}], \"scattergl\": [{\"marker\": {\"colorbar\": {\"outlinewidth\": 0, \"ticks\": \"\"}}, \"type\": \"scattergl\"}], \"scattermapbox\": [{\"marker\": {\"colorbar\": {\"outlinewidth\": 0, \"ticks\": \"\"}}, \"type\": \"scattermapbox\"}], \"scatterpolar\": [{\"marker\": {\"colorbar\": {\"outlinewidth\": 0, \"ticks\": \"\"}}, \"type\": \"scatterpolar\"}], \"scatterpolargl\": [{\"marker\": {\"colorbar\": {\"outlinewidth\": 0, \"ticks\": \"\"}}, \"type\": \"scatterpolargl\"}], \"scatterternary\": [{\"marker\": {\"colorbar\": {\"outlinewidth\": 0, \"ticks\": \"\"}}, \"type\": \"scatterternary\"}], \"surface\": [{\"colorbar\": {\"outlinewidth\": 0, \"ticks\": \"\"}, \"colorscale\": [[0.0, \"#0d0887\"], [0.1111111111111111, \"#46039f\"], [0.2222222222222222, \"#7201a8\"], [0.3333333333333333, \"#9c179e\"], [0.4444444444444444, \"#bd3786\"], [0.5555555555555556, \"#d8576b\"], [0.6666666666666666, \"#ed7953\"], [0.7777777777777778, \"#fb9f3a\"], [0.8888888888888888, \"#fdca26\"], [1.0, \"#f0f921\"]], \"type\": \"surface\"}], \"table\": [{\"cells\": {\"fill\": {\"color\": \"#EBF0F8\"}, \"line\": {\"color\": \"white\"}}, \"header\": {\"fill\": {\"color\": \"#C8D4E3\"}, \"line\": {\"color\": \"white\"}}, \"type\": \"table\"}]}, \"layout\": {\"annotationdefaults\": {\"arrowcolor\": \"#2a3f5f\", \"arrowhead\": 0, \"arrowwidth\": 1}, \"coloraxis\": {\"colorbar\": {\"outlinewidth\": 0, \"ticks\": \"\"}}, \"colorscale\": {\"diverging\": [[0, \"#8e0152\"], [0.1, \"#c51b7d\"], [0.2, \"#de77ae\"], [0.3, \"#f1b6da\"], [0.4, \"#fde0ef\"], [0.5, \"#f7f7f7\"], [0.6, \"#e6f5d0\"], [0.7, \"#b8e186\"], [0.8, \"#7fbc41\"], [0.9, \"#4d9221\"], [1, \"#276419\"]], \"sequential\": [[0.0, \"#0d0887\"], [0.1111111111111111, \"#46039f\"], [0.2222222222222222, \"#7201a8\"], [0.3333333333333333, \"#9c179e\"], [0.4444444444444444, \"#bd3786\"], [0.5555555555555556, \"#d8576b\"], [0.6666666666666666, \"#ed7953\"], [0.7777777777777778, \"#fb9f3a\"], [0.8888888888888888, \"#fdca26\"], [1.0, \"#f0f921\"]], \"sequentialminus\": [[0.0, \"#0d0887\"], [0.1111111111111111, \"#46039f\"], [0.2222222222222222, \"#7201a8\"], [0.3333333333333333, \"#9c179e\"], [0.4444444444444444, \"#bd3786\"], [0.5555555555555556, \"#d8576b\"], [0.6666666666666666, \"#ed7953\"], [0.7777777777777778, \"#fb9f3a\"], [0.8888888888888888, \"#fdca26\"], [1.0, \"#f0f921\"]]}, \"colorway\": [\"#636efa\", \"#EF553B\", \"#00cc96\", \"#ab63fa\", \"#FFA15A\", \"#19d3f3\", \"#FF6692\", \"#B6E880\", \"#FF97FF\", \"#FECB52\"], \"font\": {\"color\": \"#2a3f5f\"}, \"geo\": {\"bgcolor\": \"white\", \"lakecolor\": \"white\", \"landcolor\": \"#E5ECF6\", \"showlakes\": true, \"showland\": true, \"subunitcolor\": \"white\"}, \"hoverlabel\": {\"align\": \"left\"}, \"hovermode\": \"closest\", \"mapbox\": {\"style\": \"light\"}, \"paper_bgcolor\": \"white\", \"plot_bgcolor\": \"#E5ECF6\", \"polar\": {\"angularaxis\": {\"gridcolor\": \"white\", \"linecolor\": \"white\", \"ticks\": \"\"}, \"bgcolor\": \"#E5ECF6\", \"radialaxis\": {\"gridcolor\": \"white\", \"linecolor\": \"white\", \"ticks\": \"\"}}, \"scene\": {\"xaxis\": {\"backgroundcolor\": \"#E5ECF6\", \"gridcolor\": \"white\", \"gridwidth\": 2, \"linecolor\": \"white\", \"showbackground\": true, \"ticks\": \"\", \"zerolinecolor\": \"white\"}, \"yaxis\": {\"backgroundcolor\": \"#E5ECF6\", \"gridcolor\": \"white\", \"gridwidth\": 2, \"linecolor\": \"white\", \"showbackground\": true, \"ticks\": \"\", \"zerolinecolor\": \"white\"}, \"zaxis\": {\"backgroundcolor\": \"#E5ECF6\", \"gridcolor\": \"white\", \"gridwidth\": 2, \"linecolor\": \"white\", \"showbackground\": true, \"ticks\": \"\", \"zerolinecolor\": \"white\"}}, \"shapedefaults\": {\"line\": {\"color\": \"#2a3f5f\"}}, \"ternary\": {\"aaxis\": {\"gridcolor\": \"white\", \"linecolor\": \"white\", \"ticks\": \"\"}, \"baxis\": {\"gridcolor\": \"white\", \"linecolor\": \"white\", \"ticks\": \"\"}, \"bgcolor\": \"#E5ECF6\", \"caxis\": {\"gridcolor\": \"white\", \"linecolor\": \"white\", \"ticks\": \"\"}}, \"title\": {\"x\": 0.05}, \"xaxis\": {\"automargin\": true, \"gridcolor\": \"white\", \"linecolor\": \"white\", \"ticks\": \"\", \"title\": {\"standoff\": 15}, \"zerolinecolor\": \"white\", \"zerolinewidth\": 2}, \"yaxis\": {\"automargin\": true, \"gridcolor\": \"white\", \"linecolor\": \"white\", \"ticks\": \"\", \"title\": {\"standoff\": 15}, \"zerolinecolor\": \"white\", \"zerolinewidth\": 2}}}},\n",
       "                        {\"responsive\": true}\n",
       "                    ).then(function(){\n",
       "                            \n",
       "var gd = document.getElementById('3eb12c1d-0a83-4db4-81c0-d82bfa4ad4d1');\n",
       "var x = new MutationObserver(function (mutations, observer) {{\n",
       "        var display = window.getComputedStyle(gd).display;\n",
       "        if (!display || display === 'none') {{\n",
       "            console.log([gd, 'removed!']);\n",
       "            Plotly.purge(gd);\n",
       "            observer.disconnect();\n",
       "        }}\n",
       "}});\n",
       "\n",
       "// Listen for the removal of the full notebook cells\n",
       "var notebookContainer = gd.closest('#notebook-container');\n",
       "if (notebookContainer) {{\n",
       "    x.observe(notebookContainer, {childList: true});\n",
       "}}\n",
       "\n",
       "// Listen for the clearing of the current output cell\n",
       "var outputEl = gd.closest('.output');\n",
       "if (outputEl) {{\n",
       "    x.observe(outputEl, {childList: true});\n",
       "}}\n",
       "\n",
       "                        })\n",
       "                };\n",
       "                });\n",
       "            </script>\n",
       "        </div>"
      ]
     },
     "metadata": {},
     "output_type": "display_data"
    }
   ],
   "source": [
    "x = np.log(building_df.square_feet.values)\n",
    "data=go.Histogram(x=x)\n",
    "fig = go.Figure()\n",
    "fig.add_trace(data)"
   ]
  },
  {
   "cell_type": "code",
   "execution_count": null,
   "metadata": {},
   "outputs": [],
   "source": [
    "fig = go.Figure()\n",
    "data = go.Histogram(x=train_df['meter_reading'].values)\n",
    "fig.add_trace(data)"
   ]
  },
  {
   "cell_type": "code",
   "execution_count": null,
   "metadata": {},
   "outputs": [],
   "source": []
  }
 ],
 "metadata": {
  "kernelspec": {
   "display_name": "Python 3",
   "language": "python",
   "name": "python3"
  },
  "language_info": {
   "codemirror_mode": {
    "name": "ipython",
    "version": 3
   },
   "file_extension": ".py",
   "mimetype": "text/x-python",
   "name": "python",
   "nbconvert_exporter": "python",
   "pygments_lexer": "ipython3",
   "version": "3.8.1"
  }
 },
 "nbformat": 4,
 "nbformat_minor": 4
}
