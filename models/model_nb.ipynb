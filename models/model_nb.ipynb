{
 "cells": [
  {
   "cell_type": "markdown",
   "metadata": {},
   "source": [
    "# Compare ML Models"
   ]
  },
  {
   "cell_type": "code",
   "execution_count": 1,
   "metadata": {},
   "outputs": [],
   "source": [
    "import pandas as pd\n",
    "import numpy as np\n",
    "\n",
    "import lightgbm as lgbm\n",
    "\n",
    "from sklearn.preprocessing import LabelEncoder, OneHotEncoder\n",
    "from sklearn.model_selection import KFold, train_test_split\n",
    "from sklearn.metrics import mean_squared_error as MSE\n",
    "\n",
    "from sklearn.pipeline import make_pipeline\n",
    "from sklearn.ensemble import RandomForestRegressor, BaggingRegressor\n",
    "\n",
    "import datetime\n",
    "import gc\n",
    "\n",
    "from pandas.api.types import is_datetime64_any_dtype as is_datetime\n",
    "from pandas.api.types import is_categorical_dtype"
   ]
  },
  {
   "cell_type": "code",
   "execution_count": 2,
   "metadata": {},
   "outputs": [],
   "source": [
    "# format float in pandas\n",
    "pd.options.display.float_format = '{:.4f}'.format\n",
    "pd.options.display.max_columns = 30\n",
    "pd.options.display.max_rows = 50\n",
    "pd.options.display.width = 100"
   ]
  },
  {
   "cell_type": "code",
   "execution_count": 3,
   "metadata": {},
   "outputs": [],
   "source": [
    "# Load data\n",
    "train_df = pd.read_csv('../data/train.csv')\n",
    "# test_df = pd.read_csv('../data/test.csv')\n",
    "building_df = pd.read_csv('../data/building_metadata.csv')\n",
    "weather_df = pd.read_csv('../data/weather_train.csv')\n",
    "# weather_test_df = pd.read_csv('../data/weather_test.csv')"
   ]
  },
  {
   "cell_type": "code",
   "execution_count": 4,
   "metadata": {},
   "outputs": [],
   "source": [
    "def nan_val_summary(df):\n",
    "    \"\"\"Summarize the counts of missing values\"\"\"\n",
    "    nan_arr = np.count_nonzero(df.isnull(), axis=0)\n",
    "    frac = nan_arr / df.shape[0]\n",
    "    nan_df = pd.DataFrame(\n",
    "        {'columns': df.columns,\n",
    "         'nan_count': nan_arr,\n",
    "         'fraction_missing': frac}\n",
    "                 )\n",
    "    return nan_df\n",
    "def reduce_mem_usage(df, use_float16=False):\n",
    "    \"\"\"\n",
    "    Original function code is from:\n",
    "        https://www.kaggle.com/aitude/ashrae-kfold-lightgbm-without-leak-1-08\n",
    "\n",
    "\n",
    "    Iterate through all the columns of a dataframe and modify the data type\n",
    "    to reduce memory usage.\n",
    "    \"\"\"\n",
    "\n",
    "    start_mem = df.memory_usage().sum() / 1024**2\n",
    "    print(\"Memory usage of dataframe is {:.2f} MB\".format(start_mem))\n",
    "\n",
    "    for col in df.columns:\n",
    "        if is_datetime(df[col]) or is_categorical_dtype(df[col]):\n",
    "            continue\n",
    "        col_type = df[col].dtype\n",
    "\n",
    "        if col_type != object:\n",
    "            c_min = df[col].min()\n",
    "            c_max = df[col].max()\n",
    "            if str(col_type)[:3] == \"int\":\n",
    "                if c_min > np.iinfo(np.int8).min and c_max < np.iinfo(np.int8).max:\n",
    "                    df[col] = df[col].astype(np.int8)\n",
    "                elif c_min > np.iinfo(np.int16).min and c_max < np.iinfo(np.int16).max:\n",
    "                    df[col] = df[col].astype(np.int16)\n",
    "                elif c_min > np.iinfo(np.int32).min and c_max < np.iinfo(np.int32).max:\n",
    "                    df[col] = df[col].astype(np.int32)\n",
    "                elif c_min > np.iinfo(np.int64).min and c_max < np.iinfo(np.int64).max:\n",
    "                    df[col] = df[col].astype(np.int64)\n",
    "            else:\n",
    "                if use_float16 and c_min > np.finfo(np.float16).min and c_max < np.finfo(np.float16).max:\n",
    "                    df[col] = df[col].astype(np.float16)\n",
    "                elif c_min > np.finfo(np.float32).min and c_max < np.finfo(np.float32).max:\n",
    "                    df[col] = df[col].astype(np.float32)\n",
    "                else:\n",
    "                    df[col] = df[col].astype(np.float64)\n",
    "        else:\n",
    "            df[col] = df[col].astype(\"category\")\n",
    "\n",
    "    end_mem = df.memory_usage().sum() / 1024**2\n",
    "    print(\"Memory usage after optimization is: {:.2f} MB\".format(end_mem))\n",
    "    print(\"Decreased by {:.1f}%\".format(100 * (start_mem - end_mem) / start_mem))\n",
    "\n",
    "    return df"
   ]
  },
  {
   "cell_type": "markdown",
   "metadata": {},
   "source": [
    "# Convert to Datetime"
   ]
  },
  {
   "cell_type": "code",
   "execution_count": 5,
   "metadata": {},
   "outputs": [],
   "source": [
    "dt_format = \"%Y-%m-%d %H:%M:%S\"\n",
    "train_df['timestamp'] = pd.to_datetime(train_df['timestamp'], format=dt_format)\n",
    "weather_df['timestamp'] = pd.to_datetime(weather_df['timestamp'], format=dt_format)"
   ]
  },
  {
   "cell_type": "markdown",
   "metadata": {},
   "source": [
    "# Merge Data"
   ]
  },
  {
   "cell_type": "code",
   "execution_count": 6,
   "metadata": {},
   "outputs": [],
   "source": [
    "tb_df = pd.merge(train_df, building_df, on='building_id')\n",
    "all_df = pd.merge(tb_df, weather_df, on=['site_id', 'timestamp'])\n",
    "del train_df, building_df, weather_df"
   ]
  },
  {
   "cell_type": "code",
   "execution_count": 7,
   "metadata": {},
   "outputs": [],
   "source": [
    "# nan_val_summary(all_df)"
   ]
  },
  {
   "cell_type": "markdown",
   "metadata": {},
   "source": [
    "# Fill Missing Values"
   ]
  },
  {
   "cell_type": "code",
   "execution_count": 8,
   "metadata": {},
   "outputs": [],
   "source": [
    "def get_nan_idx(column, df):\n",
    "    \"\"\"\n",
    "    Returns the indices of missing values in given \n",
    "    column and DataFrame.\n",
    "    \"\"\"\n",
    "    return df[df[column].isna()].index.values \n",
    "\n",
    "def get_nan_columns(df):\n",
    "    \"\"\"\n",
    "    Extract name of columns which have missing values.\n",
    "    \"\"\"\n",
    "    df = nan_val_summary(df)\n",
    "    return df[df['fraction_missing'] > 0]['columns'].values\n",
    "\n",
    "\n",
    "\n",
    "\n",
    "def fill_weather_nans(column, df, agg_func='median'):\n",
    "    \"\"\"\n",
    "    Fills in missing values in Weather data. Column name must be provided.\n",
    "    Function fills missing values inplace and therefore returns nothing.\n",
    "    \n",
    "    Uses the following method to fill NaNs:\n",
    "        1. Groupby three variables, `site_id`, `month`, and `day`\n",
    "        2. Compute `agg_func`, this will be used to fill missing values\n",
    "        3. Check for missing values in aggregated data\n",
    "            - If missing values present\n",
    "                - Use interpolation to fill those missing values\n",
    "        4. Set index of DataFrame `df`  such that it matches the aggregated \n",
    "        DataFrame index\n",
    "        5. Update DataFrame `df` and fill missing values\n",
    "        6. Reset index of `df`\n",
    "    \n",
    "    Params:\n",
    "    -------\n",
    "        column: str\n",
    "            Name of column to fill\n",
    "            \n",
    "    Returns:\n",
    "    --------\n",
    "        None\n",
    "        DataFrame is updated inplace.\n",
    "    \"\"\"\n",
    "    # aggregate data to obtain median value for a particular site, month, and day\n",
    "    agg_weather_df = pd.DataFrame(df.groupby(['site_id', 'month', 'day'])[column].agg(agg_func))\n",
    "    \n",
    "    # check for missing values in the aggregated data\n",
    "    if agg_weather_df[column].isnull().any():\n",
    "        # fill NaNs using interpolation\n",
    "        agg_df = agg_weather_df[column].interpolate(limit_direction='both',\n",
    "                                                    inplace=True)\n",
    "        agg_weather_df.update(agg_df, overwrite=False)\n",
    "        \n",
    "    # set index before updating input DataFrame\n",
    "    df.set_index(['site_id', 'month', 'day'], inplace=True)\n",
    "    df.update(agg_weather_df, overwrite=False)\n",
    "    \n",
    "    # reset index\n",
    "    df.reset_index(inplace=True)\n",
    "    \n",
    "def fill_nans(df):\n",
    "    \"\"\"\n",
    "    Fill missing values\n",
    "    \"\"\"\n",
    "    nan_cols = get_nan_columns(df)\n",
    "    [fill_weather_nans(col, df) for col in nan_cols]\n",
    "    \n",
    "    \n",
    "def add_features(df):\n",
    "    \n",
    "    df['month'] = df['timestamp'].dt.month\n",
    "    df['hour'] = df['timestamp'].dt.hour\n",
    "    df['day'] = df['timestamp'].dt.day\n",
    "    df['log_square_ft'] = np.log1p(df['square_feet'])\n",
    "\n",
    "def get_sample(df, n=0.5):\n",
    "    n_sample = np.int32(df.shape[0] * n)\n",
    "    return df.sample(n_sample)"
   ]
  },
  {
   "cell_type": "markdown",
   "metadata": {},
   "source": [
    "## Drop Building 1099"
   ]
  },
  {
   "cell_type": "code",
   "execution_count": 9,
   "metadata": {},
   "outputs": [],
   "source": [
    "# drop indices with building 1099\n",
    "\n",
    "# idx = np.where(all_df['building_id'] == 1099)[0]\n",
    "# # all_df.loc[idx]\n",
    "# df_no1099 = all_df.drop(idx, axis=0)"
   ]
  },
  {
   "cell_type": "markdown",
   "metadata": {},
   "source": [
    "# KFold Split"
   ]
  },
  {
   "cell_type": "code",
   "execution_count": 10,
   "metadata": {},
   "outputs": [
    {
     "name": "stdout",
     "output_type": "stream",
     "text": [
      "Memory usage of dataframe is 55.28 MB\n",
      "Memory usage after optimization is: 21.50 MB\n",
      "Decreased by 61.1%\n"
     ]
    },
    {
     "data": {
      "text/plain": [
       "49"
      ]
     },
     "execution_count": 10,
     "metadata": {},
     "output_type": "execute_result"
    }
   ],
   "source": [
    "all_df = get_sample(all_df, 0.02)\n",
    "\n",
    "# add features\n",
    "add_features(all_df)\n",
    "\n",
    "# sample DF to reduce time\n",
    "# all_df = get_sample(all_df, n=0.2)\n",
    "\n",
    "# drop features\n",
    "drop_cols = ['timestamp', 'year_built', 'floor_count']\n",
    "all_df.drop(drop_cols, axis=1, inplace=True)\n",
    "\n",
    "# reduce memory usage\n",
    "all_df = reduce_mem_usage(all_df)\n",
    "\n",
    "# define feature space X, and target y\n",
    "X = all_df.drop('meter_reading', axis=1)\n",
    "y = all_df['meter_reading']\n",
    "\n",
    "del all_df\n",
    "\n",
    "gc.collect()"
   ]
  },
  {
   "cell_type": "markdown",
   "metadata": {},
   "source": [
    "## LightGBM"
   ]
  },
  {
   "cell_type": "code",
   "execution_count": 13,
   "metadata": {
    "collapsed": true,
    "jupyter": {
     "outputs_hidden": true
    }
   },
   "outputs": [
    {
     "name": "stdout",
     "output_type": "stream",
     "text": [
      "X train shape: (10062802, 15)\n",
      "y train shape: (10062802,)\n",
      "Filling missing training data...\n",
      "\n",
      "Filling missing test data...\n",
      "\n",
      "Training model...\n",
      "\n"
     ]
    },
    {
     "name": "stderr",
     "output_type": "stream",
     "text": [
      "C:\\Users\\smouz\\Anaconda3\\envs\\ashrae\\lib\\site-packages\\lightgbm\\basic.py:1291: UserWarning: Using categorical_feature in Dataset.\n",
      "  warnings.warn('Using categorical_feature in Dataset.')\n"
     ]
    },
    {
     "name": "stdout",
     "output_type": "stream",
     "text": [
      "Training until validation scores don't improve for 50 rounds\n",
      "[25]\ttraining's rmse: 82627.3\tvalid_1's rmse: 12174\n",
      "[50]\ttraining's rmse: 41915.9\tvalid_1's rmse: 24638.1\n",
      "Early stopping, best iteration is:\n",
      "[15]\ttraining's rmse: 119221\tvalid_1's rmse: 5183.54\n"
     ]
    },
    {
     "ename": "ValueError",
     "evalue": "Found input variables with inconsistent numbers of samples: [10062802, 10062803]",
     "output_type": "error",
     "traceback": [
      "\u001b[1;31m---------------------------------------------------------------------------\u001b[0m",
      "\u001b[1;31mValueError\u001b[0m                                Traceback (most recent call last)",
      "\u001b[1;32m<ipython-input-13-bc7c101c82e7>\u001b[0m in \u001b[0;36m<module>\u001b[1;34m\u001b[0m\n\u001b[0;32m     63\u001b[0m \u001b[1;33m\u001b[0m\u001b[0m\n\u001b[0;32m     64\u001b[0m     \u001b[1;31m# score predictions\u001b[0m\u001b[1;33m\u001b[0m\u001b[1;33m\u001b[0m\u001b[1;33m\u001b[0m\u001b[0m\n\u001b[1;32m---> 65\u001b[1;33m     \u001b[0mprint\u001b[0m\u001b[1;33m(\u001b[0m\u001b[1;34m'RMSE:'\u001b[0m\u001b[1;33m,\u001b[0m \u001b[0mMSE\u001b[0m\u001b[1;33m(\u001b[0m\u001b[0my_train\u001b[0m\u001b[1;33m,\u001b[0m \u001b[0my_pred\u001b[0m\u001b[1;33m,\u001b[0m \u001b[0msquared\u001b[0m\u001b[1;33m=\u001b[0m\u001b[1;32mFalse\u001b[0m\u001b[1;33m)\u001b[0m\u001b[1;33m)\u001b[0m\u001b[1;33m\u001b[0m\u001b[1;33m\u001b[0m\u001b[0m\n\u001b[0m\u001b[0;32m     66\u001b[0m \u001b[1;33m\u001b[0m\u001b[0m\n\u001b[0;32m     67\u001b[0m     \u001b[0mmodels\u001b[0m\u001b[1;33m.\u001b[0m\u001b[0mappend\u001b[0m\u001b[1;33m(\u001b[0m\u001b[0mmodel\u001b[0m\u001b[1;33m)\u001b[0m\u001b[1;33m\u001b[0m\u001b[1;33m\u001b[0m\u001b[0m\n",
      "\u001b[1;32m~\\Anaconda3\\envs\\ashrae\\lib\\site-packages\\sklearn\\metrics\\_regression.py\u001b[0m in \u001b[0;36mmean_squared_error\u001b[1;34m(y_true, y_pred, sample_weight, multioutput, squared)\u001b[0m\n\u001b[0;32m    250\u001b[0m     \"\"\"\n\u001b[0;32m    251\u001b[0m     y_type, y_true, y_pred, multioutput = _check_reg_targets(\n\u001b[1;32m--> 252\u001b[1;33m         y_true, y_pred, multioutput)\n\u001b[0m\u001b[0;32m    253\u001b[0m     \u001b[0mcheck_consistent_length\u001b[0m\u001b[1;33m(\u001b[0m\u001b[0my_true\u001b[0m\u001b[1;33m,\u001b[0m \u001b[0my_pred\u001b[0m\u001b[1;33m,\u001b[0m \u001b[0msample_weight\u001b[0m\u001b[1;33m)\u001b[0m\u001b[1;33m\u001b[0m\u001b[1;33m\u001b[0m\u001b[0m\n\u001b[0;32m    254\u001b[0m     output_errors = np.average((y_true - y_pred) ** 2, axis=0,\n",
      "\u001b[1;32m~\\Anaconda3\\envs\\ashrae\\lib\\site-packages\\sklearn\\metrics\\_regression.py\u001b[0m in \u001b[0;36m_check_reg_targets\u001b[1;34m(y_true, y_pred, multioutput, dtype)\u001b[0m\n\u001b[0;32m     82\u001b[0m \u001b[1;33m\u001b[0m\u001b[0m\n\u001b[0;32m     83\u001b[0m     \"\"\"\n\u001b[1;32m---> 84\u001b[1;33m     \u001b[0mcheck_consistent_length\u001b[0m\u001b[1;33m(\u001b[0m\u001b[0my_true\u001b[0m\u001b[1;33m,\u001b[0m \u001b[0my_pred\u001b[0m\u001b[1;33m)\u001b[0m\u001b[1;33m\u001b[0m\u001b[1;33m\u001b[0m\u001b[0m\n\u001b[0m\u001b[0;32m     85\u001b[0m     \u001b[0my_true\u001b[0m \u001b[1;33m=\u001b[0m \u001b[0mcheck_array\u001b[0m\u001b[1;33m(\u001b[0m\u001b[0my_true\u001b[0m\u001b[1;33m,\u001b[0m \u001b[0mensure_2d\u001b[0m\u001b[1;33m=\u001b[0m\u001b[1;32mFalse\u001b[0m\u001b[1;33m,\u001b[0m \u001b[0mdtype\u001b[0m\u001b[1;33m=\u001b[0m\u001b[0mdtype\u001b[0m\u001b[1;33m)\u001b[0m\u001b[1;33m\u001b[0m\u001b[1;33m\u001b[0m\u001b[0m\n\u001b[0;32m     86\u001b[0m     \u001b[0my_pred\u001b[0m \u001b[1;33m=\u001b[0m \u001b[0mcheck_array\u001b[0m\u001b[1;33m(\u001b[0m\u001b[0my_pred\u001b[0m\u001b[1;33m,\u001b[0m \u001b[0mensure_2d\u001b[0m\u001b[1;33m=\u001b[0m\u001b[1;32mFalse\u001b[0m\u001b[1;33m,\u001b[0m \u001b[0mdtype\u001b[0m\u001b[1;33m=\u001b[0m\u001b[0mdtype\u001b[0m\u001b[1;33m)\u001b[0m\u001b[1;33m\u001b[0m\u001b[1;33m\u001b[0m\u001b[0m\n",
      "\u001b[1;32m~\\Anaconda3\\envs\\ashrae\\lib\\site-packages\\sklearn\\utils\\validation.py\u001b[0m in \u001b[0;36mcheck_consistent_length\u001b[1;34m(*arrays)\u001b[0m\n\u001b[0;32m    210\u001b[0m     \u001b[1;32mif\u001b[0m \u001b[0mlen\u001b[0m\u001b[1;33m(\u001b[0m\u001b[0muniques\u001b[0m\u001b[1;33m)\u001b[0m \u001b[1;33m>\u001b[0m \u001b[1;36m1\u001b[0m\u001b[1;33m:\u001b[0m\u001b[1;33m\u001b[0m\u001b[1;33m\u001b[0m\u001b[0m\n\u001b[0;32m    211\u001b[0m         raise ValueError(\"Found input variables with inconsistent numbers of\"\n\u001b[1;32m--> 212\u001b[1;33m                          \" samples: %r\" % [int(l) for l in lengths])\n\u001b[0m\u001b[0;32m    213\u001b[0m \u001b[1;33m\u001b[0m\u001b[0m\n\u001b[0;32m    214\u001b[0m \u001b[1;33m\u001b[0m\u001b[0m\n",
      "\u001b[1;31mValueError\u001b[0m: Found input variables with inconsistent numbers of samples: [10062802, 10062803]"
     ]
    }
   ],
   "source": [
    "# # create splits\n",
    "# kf = KFold(n_splits=2)\n",
    "\n",
    "# categorical_features = [\"building_id\", \"site_id\", \"meter\", \"primary_use\",]\n",
    "# params = {\n",
    "#         \"objective\": \"regression\",\n",
    "#         \"boosting\": \"gbdt\",\n",
    "#         \"num_leaves\": 1280,\n",
    "#         \"learning_rate\": 0.05,\n",
    "#         \"feature_fraction\": 0.85,\n",
    "#         \"reg_lambda\": 2,\n",
    "#         \"metric\": \"rmse\",\n",
    "#     }                        \n",
    "\n",
    "# models = []\n",
    "# for train_idx, test_idx in kf.split(X):\n",
    "    \n",
    "#     # define train data\n",
    "#     X_train = X.loc[train_idx]\n",
    "#     y_train = y.loc[train_idx]\n",
    "    \n",
    "#     print('X train shape:', X_train.shape)\n",
    "#     print('y train shape:', y_train.shape)\n",
    "\n",
    "#     # define test data\n",
    "#     X_test = X.loc[test_idx]\n",
    "#     y_test= y.loc[test_idx]\n",
    "    \n",
    "#     # fill missing data\n",
    "#     print('Filling missing training data...\\n')\n",
    "#     fill_nans(X_train)\n",
    "    \n",
    "#     # fill missing data\n",
    "#     print('Filling missing test data...\\n')\n",
    "#     fill_nans(X_test)\n",
    "    \n",
    "#     # lgbm train data\n",
    "#     d_training = lgbm.Dataset(X_train,\n",
    "#                              label=y_train,\n",
    "#                              categorical_feature=categorical_features,\n",
    "#                              free_raw_data=False\n",
    "#                              )\n",
    "#     # lgbm test data\n",
    "#     d_test = lgbm.Dataset(X_test,\n",
    "#                          label=y_test,\n",
    "#                          categorical_feature=categorical_features,\n",
    "#                          free_raw_data=False\n",
    "#                          )\n",
    "    \n",
    "#     # train model\n",
    "#     print('Training model...\\n')\n",
    "#     model = lgbm.train(params,\n",
    "#                       train_set=d_training,\n",
    "#                       num_boost_round=1000,\n",
    "#                       valid_sets=[d_training, d_test],\n",
    "#                       verbose_eval=25,\n",
    "#                       early_stopping_rounds=50)\n",
    "    \n",
    "#     # make predictions\n",
    "#     y_pred = model.predict(X_test, num_iteration=model.best_iteration)\n",
    "    \n",
    "#     # score predictions\n",
    "#     print('RMSE:', MSE(y_test, y_pred, squared=False))\n",
    "    \n",
    "#     models.append(model)\n",
    "#     print('=' * 75)"
   ]
  },
  {
   "cell_type": "code",
   "execution_count": 23,
   "metadata": {},
   "outputs": [],
   "source": [
    "def RMSLE(y_true, y_pred):\n",
    "    return 'RMSLE', np.sqrt(np.mean(np.power(np.log1p(y_pred) - np.log1p(y_true), 2))), False"
   ]
  },
  {
   "cell_type": "code",
   "execution_count": 12,
   "metadata": {},
   "outputs": [
    {
     "name": "stderr",
     "output_type": "stream",
     "text": [
      "C:\\Users\\smouz\\AppData\\Roaming\\Python\\Python37\\site-packages\\pandas\\core\\frame.py:5797: SettingWithCopyWarning: \n",
      "A value is trying to be set on a copy of a slice from a DataFrame.\n",
      "Try using .loc[row_indexer,col_indexer] = value instead\n",
      "\n",
      "See the caveats in the documentation: http://pandas.pydata.org/pandas-docs/stable/user_guide/indexing.html#returning-a-view-versus-a-copy\n",
      "  self[col] = expressions.where(mask, this, that)\n"
     ]
    }
   ],
   "source": [
    "X_train, X_test, y_train, y_test = train_test_split(X, y, test_size=0.15)\n",
    "\n",
    "fill_nans(X_train)\n",
    "fill_nans(X_test)"
   ]
  },
  {
   "cell_type": "markdown",
   "metadata": {},
   "source": [
    "## LihtGBM, V.2"
   ]
  },
  {
   "cell_type": "code",
   "execution_count": 19,
   "metadata": {},
   "outputs": [],
   "source": [
    "params = [{\n",
    "    \"objective\": \"regression\",\n",
    "    \"boosting\": \"gbdt\",\n",
    "    \"num_leaves\": 1700,\n",
    "    \"learning_rate\": 0.05,\n",
    "    \"feature_fraction\": 0.85,\n",
    "    \"reg_lambda\": 2,\n",
    "    \"metric\": \"rmse\",\n",
    "}]\n",
    "    \n",
    "params = [\n",
    "\n",
    "    {\n",
    "        **params[0],\n",
    "        \"num_leaves\": 1760,\n",
    "    },\n",
    "    {\n",
    "        **params[0],\n",
    "        \"num_leaves\": 1820,\n",
    "    }\n",
    "]"
   ]
  },
  {
   "cell_type": "code",
   "execution_count": 24,
   "metadata": {},
   "outputs": [
    {
     "name": "stdout",
     "output_type": "stream",
     "text": [
      "Training model 0 ...\n",
      "\n",
      "num leaves: 1760\n",
      "RMSLE: ('RMSLE', 1.6707997857668624, False)\n",
      "===========================================================================\n"
     ]
    },
    {
     "name": "stderr",
     "output_type": "stream",
     "text": [
      "C:\\Users\\smouz\\Anaconda3\\envs\\ashrae\\lib\\site-packages\\ipykernel_launcher.py:2: RuntimeWarning: invalid value encountered in log1p\n",
      "  \n"
     ]
    }
   ],
   "source": [
    "all_models = []\n",
    "for i in np.arange(1):\n",
    "    print(f'Training model {i} ...\\n')\n",
    "\n",
    "    # instantiate model\n",
    "    model = lgbm.LGBMRegressor(**params[i])\n",
    "    \n",
    "    # train model\n",
    "    model.fit(X_train, y_train)\n",
    "    \n",
    "    # make predictions\n",
    "    y_pred = model.predict(X_test)\n",
    "    \n",
    "    # print params and metric\n",
    "    print('num leaves:', params[i]['num_leaves'])\n",
    "    print('RMSLE:', RMSLE(y_test, y_pred))\n",
    "    print('=' * 75)\n",
    "    \n",
    "#     all_models.append(model)"
   ]
  },
  {
   "cell_type": "markdown",
   "metadata": {},
   "source": [
    "## RandomForest"
   ]
  },
  {
   "cell_type": "code",
   "execution_count": 31,
   "metadata": {},
   "outputs": [],
   "source": [
    "# OneHotEncoder??\n",
    "# X.primary_use.cat.codes\n"
   ]
  },
  {
   "cell_type": "code",
   "execution_count": 32,
   "metadata": {},
   "outputs": [
    {
     "ename": "KeyError",
     "evalue": "0",
     "output_type": "error",
     "traceback": [
      "\u001b[1;31m---------------------------------------------------------------------------\u001b[0m",
      "\u001b[1;31mKeyError\u001b[0m                                  Traceback (most recent call last)",
      "\u001b[1;32m<ipython-input-32-5e2ccba1f2bb>\u001b[0m in \u001b[0;36m<module>\u001b[1;34m\u001b[0m\n\u001b[0;32m     12\u001b[0m     },\n\u001b[0;32m     13\u001b[0m     {\n\u001b[1;32m---> 14\u001b[1;33m         \u001b[1;33m**\u001b[0m\u001b[0mparams\u001b[0m\u001b[1;33m[\u001b[0m\u001b[1;36m0\u001b[0m\u001b[1;33m]\u001b[0m\u001b[1;33m,\u001b[0m\u001b[1;33m\u001b[0m\u001b[1;33m\u001b[0m\u001b[0m\n\u001b[0m\u001b[0;32m     15\u001b[0m         \u001b[1;34m\"n_estimators\"\u001b[0m\u001b[1;33m:\u001b[0m \u001b[1;36m50\u001b[0m\u001b[1;33m,\u001b[0m\u001b[1;33m\u001b[0m\u001b[1;33m\u001b[0m\u001b[0m\n\u001b[0;32m     16\u001b[0m     },\n",
      "\u001b[1;31mKeyError\u001b[0m: 0"
     ]
    }
   ],
   "source": [
    "params = {\n",
    "        \"n_estimators\": 100,\n",
    "        'n_jobs': -1,\n",
    "        'random_state': 11\n",
    "    }\n",
    "\n",
    "params = [\n",
    "    {\n",
    "        \"n_estimators\": 100,\n",
    "        'n_jobs': -1,\n",
    "        'random_state': 11\n",
    "    },\n",
    "    {\n",
    "        **params[0],\n",
    "        \"n_estimators\": 50,\n",
    "    },\n",
    "    {\n",
    "        **params[0],\n",
    "        \"n_estimators\": 150,\n",
    "    }\n",
    "]"
   ]
  },
  {
   "cell_type": "code",
   "execution_count": null,
   "metadata": {},
   "outputs": [
    {
     "name": "stdout",
     "output_type": "stream",
     "text": [
      "Training model 0 ...\n",
      "\n"
     ]
    }
   ],
   "source": [
    "X_train = X_train.drop(['primary_use'], axis=1)\n",
    "for i in np.arange(1):\n",
    "    print(f'Training model {i} ...\\n')\n",
    "\n",
    "    # instantiate model\n",
    "    model = make_pipeline(\n",
    "        OneHotEncoder(),\n",
    "        RandomForestRegressor(**params[i])\n",
    "    )\n",
    "    \n",
    "    \n",
    "    # train model\n",
    "    model.fit(X_train, y_train)\n",
    "    \n",
    "    # make predictions\n",
    "    y_pred = model.predict(X_test)\n",
    "    \n",
    "    # print params and metric\n",
    "    print('num leaves:', params[i]['n_estimators'])\n",
    "    print('RMSLE:', RMSLE(y_test, y_pred))\n",
    "    print('=' * 75)"
   ]
  },
  {
   "cell_type": "code",
   "execution_count": null,
   "metadata": {},
   "outputs": [],
   "source": []
  }
 ],
 "metadata": {
  "kernelspec": {
   "display_name": "Python 3",
   "language": "python",
   "name": "python3"
  },
  "language_info": {
   "codemirror_mode": {
    "name": "ipython",
    "version": 3
   },
   "file_extension": ".py",
   "mimetype": "text/x-python",
   "name": "python",
   "nbconvert_exporter": "python",
   "pygments_lexer": "ipython3",
   "version": "3.7.5"
  }
 },
 "nbformat": 4,
 "nbformat_minor": 4
}
