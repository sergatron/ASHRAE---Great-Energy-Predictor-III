{
 "cells": [
  {
   "cell_type": "markdown",
   "metadata": {},
   "source": [
    "# Compare ML Models"
   ]
  },
  {
   "cell_type": "code",
   "execution_count": 1,
   "metadata": {},
   "outputs": [],
   "source": [
    "import pandas as pd\n",
    "import numpy as np\n",
    "\n",
    "import lightgbm as lgbm\n",
    "\n",
    "from sklearn.preprocessing import LabelEncoder, OneHotEncoder\n",
    "from sklearn.model_selection import KFold, train_test_split, cross_val_score\n",
    "from sklearn.metrics import mean_squared_error as MSE\n",
    "\n",
    "from sklearn.pipeline import make_pipeline\n",
    "from sklearn.ensemble import RandomForestRegressor, BaggingRegressor\n",
    "from sklearn.decomposition import PCA\n",
    "\n",
    "import datetime\n",
    "import gc\n",
    "\n",
    "from pandas.api.types import is_datetime64_any_dtype as is_datetime\n",
    "from pandas.api.types import is_categorical_dtype"
   ]
  },
  {
   "cell_type": "code",
   "execution_count": 14,
   "metadata": {},
   "outputs": [
    {
     "data": {
      "text/plain": [
       "1.4142135623730951"
      ]
     },
     "execution_count": 14,
     "metadata": {},
     "output_type": "execute_result"
    }
   ],
   "source": [
    "# L-2 Norm\n",
    "arr1 = np.array([1,2,4,5,8])\n",
    "arr2 = np.array([2,2,4,5,9])\n",
    "\n",
    "# np.sqrt(np.sum(np.square(arr1 - arr2)))\n",
    "\n",
    "np.linalg.norm(arr1 - arr2)"
   ]
  },
  {
   "cell_type": "code",
   "execution_count": 57,
   "metadata": {},
   "outputs": [],
   "source": [
    "# format float in pandas\n",
    "pd.options.display.float_format = '{:.4f}'.format\n",
    "pd.options.display.max_columns = 30\n",
    "pd.options.display.max_rows = 50\n",
    "pd.options.display.width = 100"
   ]
  },
  {
   "cell_type": "code",
   "execution_count": 58,
   "metadata": {},
   "outputs": [],
   "source": [
    "# Load data\n",
    "train_df = pd.read_csv('../data/train.csv')\n",
    "# test_df = pd.read_csv('../data/test.csv')\n",
    "building_df = pd.read_csv('../data/building_metadata.csv')\n",
    "weather_df = pd.read_csv('../data/weather_train.csv')\n",
    "# weather_test_df = pd.read_csv('../data/weather_test.csv')"
   ]
  },
  {
   "cell_type": "code",
   "execution_count": 59,
   "metadata": {},
   "outputs": [],
   "source": [
    "def nan_val_summary(df):\n",
    "    \"\"\"Summarize the counts of missing values\"\"\"\n",
    "    nan_arr = np.count_nonzero(df.isnull(), axis=0)\n",
    "    frac = nan_arr / df.shape[0]\n",
    "    nan_df = pd.DataFrame(\n",
    "        {'columns': df.columns,\n",
    "         'nan_count': nan_arr,\n",
    "         'fraction_missing': frac}\n",
    "                 )\n",
    "    return nan_df\n",
    "def reduce_mem_usage(df, use_float16=False):\n",
    "    \"\"\"\n",
    "    Original function code is from:\n",
    "        https://www.kaggle.com/aitude/ashrae-kfold-lightgbm-without-leak-1-08\n",
    "\n",
    "\n",
    "    Iterate through all the columns of a dataframe and modify the data type\n",
    "    to reduce memory usage.\n",
    "    \"\"\"\n",
    "\n",
    "    start_mem = df.memory_usage().sum() / 1024**2\n",
    "    print(\"Memory usage of dataframe is {:.2f} MB\".format(start_mem))\n",
    "\n",
    "    for col in df.columns:\n",
    "        if is_datetime(df[col]) or is_categorical_dtype(df[col]):\n",
    "            continue\n",
    "        col_type = df[col].dtype\n",
    "\n",
    "        if col_type != object:\n",
    "            c_min = df[col].min()\n",
    "            c_max = df[col].max()\n",
    "            if str(col_type)[:3] == \"int\":\n",
    "                if c_min > np.iinfo(np.int8).min and c_max < np.iinfo(np.int8).max:\n",
    "                    df[col] = df[col].astype(np.int8)\n",
    "                elif c_min > np.iinfo(np.int16).min and c_max < np.iinfo(np.int16).max:\n",
    "                    df[col] = df[col].astype(np.int16)\n",
    "                elif c_min > np.iinfo(np.int32).min and c_max < np.iinfo(np.int32).max:\n",
    "                    df[col] = df[col].astype(np.int32)\n",
    "                elif c_min > np.iinfo(np.int64).min and c_max < np.iinfo(np.int64).max:\n",
    "                    df[col] = df[col].astype(np.int64)\n",
    "            else:\n",
    "                if use_float16 and c_min > np.finfo(np.float16).min and c_max < np.finfo(np.float16).max:\n",
    "                    df[col] = df[col].astype(np.float16)\n",
    "                elif c_min > np.finfo(np.float32).min and c_max < np.finfo(np.float32).max:\n",
    "                    df[col] = df[col].astype(np.float32)\n",
    "                else:\n",
    "                    df[col] = df[col].astype(np.float64)\n",
    "        else:\n",
    "            df[col] = df[col].astype(\"category\")\n",
    "\n",
    "    end_mem = df.memory_usage().sum() / 1024**2\n",
    "    print(\"Memory usage after optimization is: {:.2f} MB\".format(end_mem))\n",
    "    print(\"Decreased by {:.1f}%\".format(100 * (start_mem - end_mem) / start_mem))\n",
    "\n",
    "    return df"
   ]
  },
  {
   "cell_type": "markdown",
   "metadata": {},
   "source": [
    "# Convert to Datetime"
   ]
  },
  {
   "cell_type": "code",
   "execution_count": 60,
   "metadata": {},
   "outputs": [],
   "source": [
    "dt_format = \"%Y-%m-%d %H:%M:%S\"\n",
    "train_df['timestamp'] = pd.to_datetime(train_df['timestamp'], format=dt_format)\n",
    "weather_df['timestamp'] = pd.to_datetime(weather_df['timestamp'], format=dt_format)"
   ]
  },
  {
   "cell_type": "markdown",
   "metadata": {},
   "source": [
    "# Merge Data"
   ]
  },
  {
   "cell_type": "code",
   "execution_count": 61,
   "metadata": {},
   "outputs": [],
   "source": [
    "tb_df = pd.merge(train_df, building_df, on='building_id')\n",
    "all_df = pd.merge(tb_df, weather_df, on=['site_id', 'timestamp'])\n",
    "del train_df, building_df, weather_df"
   ]
  },
  {
   "cell_type": "code",
   "execution_count": 62,
   "metadata": {},
   "outputs": [],
   "source": [
    "# nan_val_summary(all_df)"
   ]
  },
  {
   "cell_type": "markdown",
   "metadata": {},
   "source": [
    "# Fill Missing Values"
   ]
  },
  {
   "cell_type": "code",
   "execution_count": 63,
   "metadata": {},
   "outputs": [],
   "source": [
    "def get_nan_idx(column, df):\n",
    "    \"\"\"\n",
    "    Returns the indices of missing values in given \n",
    "    column and DataFrame.\n",
    "    \"\"\"\n",
    "    return df[df[column].isna()].index.values \n",
    "\n",
    "def get_nan_columns(df):\n",
    "    \"\"\"\n",
    "    Extract name of columns which have missing values.\n",
    "    \"\"\"\n",
    "    df = nan_val_summary(df)\n",
    "    return df[df['fraction_missing'] > 0]['columns'].values\n",
    "\n",
    "\n",
    "\n",
    "\n",
    "def fill_weather_nans(column, df, agg_func='median'):\n",
    "    \"\"\"\n",
    "    Fills in missing values in Weather data. Column name must be provided.\n",
    "    Function fills missing values inplace and therefore returns nothing.\n",
    "    \n",
    "    Uses the following method to fill NaNs:\n",
    "        1. Groupby three variables, `site_id`, `month`, and `day`\n",
    "        2. Compute `agg_func`, this will be used to fill missing values\n",
    "        3. Check for missing values in aggregated data\n",
    "            - If missing values present\n",
    "                - Use interpolation to fill those missing values\n",
    "        4. Set index of DataFrame `df`  such that it matches the aggregated \n",
    "        DataFrame index\n",
    "        5. Update DataFrame `df` and fill missing values\n",
    "        6. Reset index of `df`\n",
    "    \n",
    "    Params:\n",
    "    -------\n",
    "        column: str\n",
    "            Name of column to fill\n",
    "            \n",
    "    Returns:\n",
    "    --------\n",
    "        None\n",
    "        DataFrame is updated inplace.\n",
    "    \"\"\"\n",
    "    # aggregate data to obtain median value for a particular site, month, and day\n",
    "    agg_weather_df = pd.DataFrame(df.groupby(['site_id', 'month', 'day'])[column].agg(agg_func))\n",
    "    \n",
    "    # check for missing values in the aggregated data\n",
    "    if agg_weather_df[column].isnull().any():\n",
    "        # fill NaNs using interpolation\n",
    "        agg_df = agg_weather_df[column].interpolate(limit_direction='both',\n",
    "                                                    inplace=True)\n",
    "        agg_weather_df.update(agg_df, overwrite=False)\n",
    "        \n",
    "    # set index before updating input DataFrame\n",
    "    df.set_index(['site_id', 'month', 'day'], inplace=True)\n",
    "    df.update(agg_weather_df, overwrite=False)\n",
    "    \n",
    "    # reset index\n",
    "    df.reset_index(inplace=True)\n",
    "    \n",
    "def fill_nans(df):\n",
    "    \"\"\"\n",
    "    Fill missing values\n",
    "    \"\"\"\n",
    "    nan_cols = get_nan_columns(df)\n",
    "    [fill_weather_nans(col, df) for col in nan_cols]\n",
    "    \n",
    "    \n",
    "def add_features(df):\n",
    "    \n",
    "    df['month'] = df['timestamp'].dt.month\n",
    "    df['hour'] = df['timestamp'].dt.hour\n",
    "    df['day'] = df['timestamp'].dt.day\n",
    "    df['log_square_ft'] = np.log1p(df['square_feet'])\n",
    "\n",
    "def get_sample(df, n=0.5):\n",
    "    n_sample = np.int32(df.shape[0] * n)\n",
    "    return df.sample(n_sample)"
   ]
  },
  {
   "cell_type": "markdown",
   "metadata": {},
   "source": [
    "## Drop Building 1099"
   ]
  },
  {
   "cell_type": "code",
   "execution_count": 64,
   "metadata": {},
   "outputs": [],
   "source": [
    "# drop indices with building 1099\n",
    "\n",
    "# idx = np.where(all_df['building_id'] == 1099)[0]\n",
    "# # all_df.loc[idx]\n",
    "# df_no1099 = all_df.drop(idx, axis=0)"
   ]
  },
  {
   "cell_type": "markdown",
   "metadata": {},
   "source": [
    "# KFold Split"
   ]
  },
  {
   "cell_type": "code",
   "execution_count": null,
   "metadata": {},
   "outputs": [],
   "source": [
    "def get_X_y(df=all_df, n=1.0):\n",
    "\n",
    "    if n < 1.0:\n",
    "        # take sample from data\n",
    "        df = get_sample(df, n)\n",
    "\n",
    "    # reset index\n",
    "    df.reset_index(drop=True, inplace=True)\n",
    "\n",
    "    # add features\n",
    "    add_features(df)\n",
    "\n",
    "\n",
    "    # drop features\n",
    "    drop_cols = ['timestamp', 'year_built', 'floor_count']\n",
    "    df.drop(drop_cols, axis=1, inplace=True)\n",
    "\n",
    "    # reduce memory usage\n",
    "    df = reduce_mem_usage(df)\n",
    "\n",
    "    # define feature space X, and target y\n",
    "    X = df.drop('meter_reading', axis=1)\n",
    "    y = df['meter_reading']\n",
    "\n",
    "\n",
    "    del df\n",
    "\n",
    "    gc.collect()\n",
    "\n",
    "    return X, y"
   ]
  },
  {
   "cell_type": "code",
   "execution_count": 65,
   "metadata": {},
   "outputs": [
    {
     "name": "stdout",
     "output_type": "stream",
     "text": [
      "Memory usage of dataframe is 261.03 MB\n",
      "Memory usage after optimization is: 92.13 MB\n",
      "Decreased by 64.7%\n"
     ]
    },
    {
     "data": {
      "text/plain": [
       "511"
      ]
     },
     "execution_count": 65,
     "metadata": {},
     "output_type": "execute_result"
    }
   ],
   "source": [
    "# define feature space and target\n",
    "X, y = get_X_y(n=0.1)\n",
    "# X_train, X_test, y_train, y_test = train_test_split(X, y, test_size=0.15)\n",
    "\n",
    "# print(\"Dropping features: [primary_use]\")\n",
    "# X.drop(['primary_use'], axis=1, inplace=True)\n",
    "\n",
    "print('X-shape:', X.shape)\n",
    "print('\\n')"
   ]
  },
  {
   "cell_type": "markdown",
   "metadata": {},
   "source": [
    "## LightGBM"
   ]
  },
  {
   "cell_type": "code",
   "execution_count": 67,
   "metadata": {},
   "outputs": [],
   "source": [
    "def RMSLE(y_true, y_pred):\n",
    "    return 'RMSLE', np.sqrt(np.mean(np.power(np.log1p(y_pred) - np.log1p(y_true), 2))), False"
   ]
  },
  {
   "cell_type": "code",
   "execution_count": 68,
   "metadata": {
    "collapsed": true,
    "jupyter": {
     "outputs_hidden": true
    }
   },
   "outputs": [
    {
     "name": "stdout",
     "output_type": "stream",
     "text": [
      "X train shape: (1610048, 16)\n",
      "y train shape: (1610048,)\n",
      "Filling missing training data...\n",
      "\n",
      "Filling missing test data...\n",
      "\n",
      "Training model...\n",
      "\n"
     ]
    },
    {
     "name": "stderr",
     "output_type": "stream",
     "text": [
      "C:\\Users\\smouz\\Anaconda3\\envs\\ashrae\\lib\\site-packages\\lightgbm\\basic.py:1291: UserWarning: Using categorical_feature in Dataset.\n",
      "  warnings.warn('Using categorical_feature in Dataset.')\n"
     ]
    },
    {
     "name": "stdout",
     "output_type": "stream",
     "text": [
      "Training until validation scores don't improve for 50 rounds\n",
      "[25]\ttraining's rmse: 72527.5\tvalid_1's rmse: 88006.7\n",
      "[50]\ttraining's rmse: 45636.9\tvalid_1's rmse: 68647.9\n",
      "[75]\ttraining's rmse: 36765.3\tvalid_1's rmse: 65751.7\n",
      "[100]\ttraining's rmse: 31292.9\tvalid_1's rmse: 64619.1\n",
      "[125]\ttraining's rmse: 27113.3\tvalid_1's rmse: 64494.4\n",
      "[150]\ttraining's rmse: 24036.4\tvalid_1's rmse: 64320.1\n",
      "[175]\ttraining's rmse: 21420.7\tvalid_1's rmse: 64300.5\n",
      "[200]\ttraining's rmse: 19262.5\tvalid_1's rmse: 64197.8\n",
      "[225]\ttraining's rmse: 17404.7\tvalid_1's rmse: 64058.1\n",
      "[250]\ttraining's rmse: 15838.4\tvalid_1's rmse: 64143.9\n",
      "[275]\ttraining's rmse: 14429\tvalid_1's rmse: 64088.8\n",
      "Early stopping, best iteration is:\n",
      "[225]\ttraining's rmse: 17404.7\tvalid_1's rmse: 64058.1\n",
      "RMSE: 64058.132132645755\n",
      "RMSLE: ('RMSLE', 1.2720285328158312, False)\n",
      "===========================================================================\n"
     ]
    },
    {
     "name": "stderr",
     "output_type": "stream",
     "text": [
      "C:\\Users\\smouz\\Anaconda3\\envs\\ashrae\\lib\\site-packages\\ipykernel_launcher.py:2: RuntimeWarning: invalid value encountered in log1p\n",
      "  \n"
     ]
    },
    {
     "name": "stdout",
     "output_type": "stream",
     "text": [
      "X train shape: (1610048, 16)\n",
      "y train shape: (1610048,)\n",
      "Filling missing training data...\n",
      "\n",
      "Filling missing test data...\n",
      "\n",
      "Training model...\n",
      "\n"
     ]
    },
    {
     "name": "stderr",
     "output_type": "stream",
     "text": [
      "C:\\Users\\smouz\\Anaconda3\\envs\\ashrae\\lib\\site-packages\\lightgbm\\basic.py:1291: UserWarning: Using categorical_feature in Dataset.\n",
      "  warnings.warn('Using categorical_feature in Dataset.')\n"
     ]
    },
    {
     "name": "stdout",
     "output_type": "stream",
     "text": [
      "Training until validation scores don't improve for 50 rounds\n",
      "[25]\ttraining's rmse: 72999.8\tvalid_1's rmse: 89432.5\n",
      "[50]\ttraining's rmse: 46811.1\tvalid_1's rmse: 61372\n",
      "[75]\ttraining's rmse: 38910.4\tvalid_1's rmse: 55615.5\n",
      "[100]\ttraining's rmse: 33705.1\tvalid_1's rmse: 53887.7\n",
      "[125]\ttraining's rmse: 29717.3\tvalid_1's rmse: 53133\n",
      "[150]\ttraining's rmse: 26561.4\tvalid_1's rmse: 53144.5\n",
      "[175]\ttraining's rmse: 23949.6\tvalid_1's rmse: 52853.4\n",
      "[200]\ttraining's rmse: 21748.4\tvalid_1's rmse: 52694.6\n",
      "[225]\ttraining's rmse: 19910.2\tvalid_1's rmse: 52766.8\n",
      "[250]\ttraining's rmse: 18212.9\tvalid_1's rmse: 52750.7\n",
      "Early stopping, best iteration is:\n",
      "[208]\ttraining's rmse: 21131.9\tvalid_1's rmse: 52573.6\n",
      "RMSE: 52573.64951566667\n",
      "RMSLE: ('RMSLE', 1.2728272689357498, False)\n",
      "===========================================================================\n"
     ]
    },
    {
     "name": "stderr",
     "output_type": "stream",
     "text": [
      "C:\\Users\\smouz\\Anaconda3\\envs\\ashrae\\lib\\site-packages\\ipykernel_launcher.py:2: RuntimeWarning: invalid value encountered in log1p\n",
      "  \n"
     ]
    },
    {
     "name": "stdout",
     "output_type": "stream",
     "text": [
      "X train shape: (1610048, 16)\n",
      "y train shape: (1610048,)\n",
      "Filling missing training data...\n",
      "\n",
      "Filling missing test data...\n",
      "\n",
      "Training model...\n",
      "\n"
     ]
    },
    {
     "name": "stderr",
     "output_type": "stream",
     "text": [
      "C:\\Users\\smouz\\Anaconda3\\envs\\ashrae\\lib\\site-packages\\lightgbm\\basic.py:1291: UserWarning: Using categorical_feature in Dataset.\n",
      "  warnings.warn('Using categorical_feature in Dataset.')\n"
     ]
    },
    {
     "name": "stdout",
     "output_type": "stream",
     "text": [
      "Training until validation scores don't improve for 50 rounds\n",
      "[25]\ttraining's rmse: 75722.9\tvalid_1's rmse: 77480.2\n",
      "[50]\ttraining's rmse: 49004.3\tvalid_1's rmse: 57713.6\n",
      "[75]\ttraining's rmse: 40473.3\tvalid_1's rmse: 54522.5\n",
      "[100]\ttraining's rmse: 34838.6\tvalid_1's rmse: 52800.9\n",
      "[125]\ttraining's rmse: 30747.6\tvalid_1's rmse: 52067.7\n",
      "[150]\ttraining's rmse: 27455.8\tvalid_1's rmse: 51871.9\n",
      "[175]\ttraining's rmse: 24702.7\tvalid_1's rmse: 51832.9\n",
      "[200]\ttraining's rmse: 22594.8\tvalid_1's rmse: 51818\n",
      "[225]\ttraining's rmse: 20742.4\tvalid_1's rmse: 51767.5\n",
      "[250]\ttraining's rmse: 19119.8\tvalid_1's rmse: 51849.9\n",
      "Early stopping, best iteration is:\n",
      "[207]\ttraining's rmse: 22015.8\tvalid_1's rmse: 51714.6\n",
      "RMSE: 51714.634733870625\n",
      "RMSLE: ('RMSLE', 1.2770190110276676, False)\n",
      "===========================================================================\n"
     ]
    },
    {
     "name": "stderr",
     "output_type": "stream",
     "text": [
      "C:\\Users\\smouz\\Anaconda3\\envs\\ashrae\\lib\\site-packages\\ipykernel_launcher.py:2: RuntimeWarning: invalid value encountered in log1p\n",
      "  \n"
     ]
    },
    {
     "name": "stdout",
     "output_type": "stream",
     "text": [
      "X train shape: (1610048, 16)\n",
      "y train shape: (1610048,)\n",
      "Filling missing training data...\n",
      "\n",
      "Filling missing test data...\n",
      "\n",
      "Training model...\n",
      "\n"
     ]
    },
    {
     "name": "stderr",
     "output_type": "stream",
     "text": [
      "C:\\Users\\smouz\\Anaconda3\\envs\\ashrae\\lib\\site-packages\\lightgbm\\basic.py:1291: UserWarning: Using categorical_feature in Dataset.\n",
      "  warnings.warn('Using categorical_feature in Dataset.')\n"
     ]
    },
    {
     "name": "stdout",
     "output_type": "stream",
     "text": [
      "Training until validation scores don't improve for 50 rounds\n",
      "[25]\ttraining's rmse: 74714.2\tvalid_1's rmse: 87991.1\n",
      "[50]\ttraining's rmse: 48163.4\tvalid_1's rmse: 63879.1\n",
      "[75]\ttraining's rmse: 40123.8\tvalid_1's rmse: 57660.2\n",
      "[100]\ttraining's rmse: 34981.7\tvalid_1's rmse: 56090.7\n",
      "[125]\ttraining's rmse: 30696.9\tvalid_1's rmse: 55300.1\n",
      "[150]\ttraining's rmse: 27486.1\tvalid_1's rmse: 54988.2\n",
      "[175]\ttraining's rmse: 24769.9\tvalid_1's rmse: 54639.5\n",
      "[200]\ttraining's rmse: 22542.6\tvalid_1's rmse: 54613.8\n",
      "[225]\ttraining's rmse: 20640.3\tvalid_1's rmse: 54627.8\n",
      "[250]\ttraining's rmse: 19030.5\tvalid_1's rmse: 54810.9\n",
      "[275]\ttraining's rmse: 17589.3\tvalid_1's rmse: 54584.9\n",
      "[300]\ttraining's rmse: 16188.9\tvalid_1's rmse: 54479\n",
      "[325]\ttraining's rmse: 15005.8\tvalid_1's rmse: 54659.6\n",
      "Early stopping, best iteration is:\n",
      "[282]\ttraining's rmse: 17131.7\tvalid_1's rmse: 54420.3\n",
      "RMSE: 54420.294865631644\n",
      "RMSLE: ('RMSLE', 1.254016104017552, False)\n",
      "===========================================================================\n"
     ]
    },
    {
     "name": "stderr",
     "output_type": "stream",
     "text": [
      "C:\\Users\\smouz\\Anaconda3\\envs\\ashrae\\lib\\site-packages\\ipykernel_launcher.py:2: RuntimeWarning: invalid value encountered in log1p\n",
      "  \n"
     ]
    },
    {
     "name": "stdout",
     "output_type": "stream",
     "text": [
      "X train shape: (1610048, 16)\n",
      "y train shape: (1610048,)\n",
      "Filling missing training data...\n",
      "\n",
      "Filling missing test data...\n",
      "\n",
      "Training model...\n",
      "\n"
     ]
    },
    {
     "name": "stderr",
     "output_type": "stream",
     "text": [
      "C:\\Users\\smouz\\Anaconda3\\envs\\ashrae\\lib\\site-packages\\lightgbm\\basic.py:1291: UserWarning: Using categorical_feature in Dataset.\n",
      "  warnings.warn('Using categorical_feature in Dataset.')\n"
     ]
    },
    {
     "name": "stdout",
     "output_type": "stream",
     "text": [
      "Training until validation scores don't improve for 50 rounds\n",
      "[25]\ttraining's rmse: 77044.9\tvalid_1's rmse: 67138.5\n",
      "[50]\ttraining's rmse: 49110.5\tvalid_1's rmse: 52785.8\n",
      "[75]\ttraining's rmse: 39773.1\tvalid_1's rmse: 52519.1\n",
      "[100]\ttraining's rmse: 34009.5\tvalid_1's rmse: 53259.9\n",
      "Early stopping, best iteration is:\n",
      "[63]\ttraining's rmse: 43382.8\tvalid_1's rmse: 51705.1\n",
      "RMSE: 51705.06711793815\n",
      "RMSLE: ('RMSLE', 2.112155481837411, False)\n",
      "===========================================================================\n"
     ]
    },
    {
     "name": "stderr",
     "output_type": "stream",
     "text": [
      "C:\\Users\\smouz\\Anaconda3\\envs\\ashrae\\lib\\site-packages\\ipykernel_launcher.py:2: RuntimeWarning: invalid value encountered in log1p\n",
      "  \n"
     ]
    }
   ],
   "source": [
    "# create splits\n",
    "kf = KFold(n_splits=3)\n",
    "\n",
    "categorical_features = [\n",
    "    \"building_id\",\n",
    "    \"site_id\",\n",
    "    \"meter\",\n",
    "    \"primary_use\",\n",
    "]\n",
    "\n",
    "params = {\n",
    "        \"objective\": \"regression\",\n",
    "        \"boosting\": \"gbdt\",\n",
    "        \"num_leaves\": 1800,\n",
    "        \"learning_rate\": 0.05,\n",
    "        \"feature_fraction\": 0.85,\n",
    "        \"reg_lambda\": 2,\n",
    "        \"metric\": \"rmse\",\n",
    "    }                        \n",
    "\n",
    "models = []\n",
    "for train_idx, test_idx in kf.split(X):\n",
    "    \n",
    "    # define train data\n",
    "    X_train = X.loc[train_idx]\n",
    "    y_train = y.loc[train_idx]\n",
    "    \n",
    "    print('X train shape:', X_train.shape)\n",
    "    print('y train shape:', y_train.shape)\n",
    "\n",
    "    # define test data\n",
    "    X_test = X.loc[test_idx]\n",
    "    y_test= y.loc[test_idx]\n",
    "    \n",
    "    # fill missing data\n",
    "    print('Filling missing training data...\\n')\n",
    "    fill_nans(X_train)\n",
    "    \n",
    "    # fill missing data\n",
    "    print('Filling missing test data...\\n')\n",
    "    fill_nans(X_test)\n",
    "    \n",
    "    # lgbm train data\n",
    "    d_training = lgbm.Dataset(X_train,\n",
    "                             label=y_train,\n",
    "                             categorical_feature=categorical_features,\n",
    "                             free_raw_data=False\n",
    "                             )\n",
    "    # lgbm test data\n",
    "    d_test = lgbm.Dataset(X_test,\n",
    "                         label=y_test,\n",
    "                         categorical_feature=categorical_features,\n",
    "                         free_raw_data=False\n",
    "                         )\n",
    "    \n",
    "    # train model\n",
    "    print('Training model...\\n')\n",
    "    model = lgbm.train(params,\n",
    "                      train_set=d_training,\n",
    "                      num_boost_round=1000,\n",
    "                      valid_sets=[d_training, d_test],\n",
    "                      verbose_eval=100,\n",
    "                      early_stopping_rounds=50)b\n",
    "    \n",
    "    # make predictions\n",
    "    y_pred = model.predict(X_test, num_iteration=model.best_iteration)\n",
    "    \n",
    "    # score predictions\n",
    "#     print('RMSE:', MSE(y_test, y_pred, squared=False))\n",
    "    print('RMSLE:', RMSLE(y_test, y_pred))\n",
    "    \n",
    "    models.append(model)\n",
    "    print('=' * 75)"
   ]
  },
  {
   "cell_type": "code",
   "execution_count": 71,
   "metadata": {},
   "outputs": [
    {
     "data": {
      "image/png": "[encoded data removed]",
      "text/plain": [
       "<Figure size 432x288 with 1 Axes>"
      ]
     },
     "metadata": {
      "needs_background": "light"
     },
     "output_type": "display_data"
    }
   ],
   "source": [
    "lgbm.plot_importance(model);"
   ]
  },
  {
   "cell_type": "markdown",
   "metadata": {},
   "source": [
    "## LihtGBM, V.2"
   ]
  },
  {
   "cell_type": "code",
   "execution_count": 72,
   "metadata": {},
   "outputs": [
    {
     "name": "stderr",
     "output_type": "stream",
     "text": [
      "C:\\Users\\smouz\\AppData\\Roaming\\Python\\Python37\\site-packages\\pandas\\core\\frame.py:5797: SettingWithCopyWarning: \n",
      "A value is trying to be set on a copy of a slice from a DataFrame.\n",
      "Try using .loc[row_indexer,col_indexer] = value instead\n",
      "\n",
      "See the caveats in the documentation: http://pandas.pydata.org/pandas-docs/stable/user_guide/indexing.html#returning-a-view-versus-a-copy\n",
      "  self[col] = expressions.where(mask, this, that)\n"
     ]
    }
   ],
   "source": [
    "X_train, X_test, y_train, y_test = train_test_split(X, y, test_size=0.15)\n",
    "\n",
    "fill_nans(X_train)\n",
    "fill_nans(X_test)"
   ]
  },
  {
   "cell_type": "code",
   "execution_count": 73,
   "metadata": {},
   "outputs": [
    {
     "name": "stdout",
     "output_type": "stream",
     "text": [
      "Training model 0 ...\n",
      "num leaves: 2000\n",
      "Test RMSLE: ('RMSLE', 1.593069213520383, False)\n",
      "Test RMSE: 55692.69302937796\n",
      "===========================================================================\n",
      "\n",
      "\n"
     ]
    },
    {
     "name": "stderr",
     "output_type": "stream",
     "text": [
      "C:\\Users\\smouz\\Anaconda3\\envs\\ashrae\\lib\\site-packages\\ipykernel_launcher.py:2: RuntimeWarning: invalid value encountered in log1p\n",
      "  \n"
     ]
    }
   ],
   "source": [
    "# drop categorical which contains strings\n",
    "# X_train = X_train.drop(['primary_use'], axis=1)\n",
    "# X_test = X_test.drop(['primary_use'], axis=1)\n",
    "\n",
    "params = [{\n",
    "    \"objective\": \"regression\",\n",
    "    \"boosting\": \"gbdt\",\n",
    "    \"num_leaves\": 1700,\n",
    "    \"learning_rate\": 0.05,\n",
    "    \"feature_fraction\": 0.85,\n",
    "    \"reg_lambda\": 2,\n",
    "    \"metric\": \"rmse\",\n",
    "}]\n",
    "    \n",
    "params = [\n",
    "\n",
    "    {\n",
    "        **params[0],\n",
    "        \"num_leaves\": 2000,\n",
    "#         \"feature_fraction\": 0.85,\n",
    "    },\n",
    "    {\n",
    "        **params[0],\n",
    "        \"num_leaves\": 2100,\n",
    "#         \"feature_fraction\": 0.9,\n",
    "    },\n",
    "    {\n",
    "        **params[0],\n",
    "        \"num_leaves\": 2200,\n",
    "#         \"feature_fraction\": 0.95,\n",
    "    },\n",
    "]\n",
    "\n",
    "all_models = []\n",
    "for i in np.arange(1):\n",
    "    print(f'Training model {i} ...')\n",
    "    \n",
    "    # instantiate model\n",
    "    model = lgbm.LGBMRegressor(**params[i])\n",
    "    \n",
    "    # make pipeline\n",
    "#     model = make_pipeline(\n",
    "#         pca,\n",
    "#         lgbm.LGBMRegressor(**params[2])\n",
    "#     )\n",
    "    \n",
    "    # train model\n",
    "    model.fit(X_train, y_train)\n",
    "    \n",
    "    # make predictions\n",
    "    y_pred = model.predict(X_test)\n",
    "    \n",
    "    # print params and metric\n",
    "#     print('PCA Components:', pca.n_components)\n",
    "    print('num leaves:', params[i]['num_leaves'])\n",
    "    print('Test RMSLE:', RMSLE(y_test, y_pred))\n",
    "    print('Test RMSE:', MSE(y_test, y_pred, squared=False))\n",
    "    print('=' * 75)\n",
    "    print('\\n')\n",
    "    \n",
    "#     all_models.append(model)"
   ]
  },
  {
   "cell_type": "markdown",
   "metadata": {},
   "source": [
    "## RandomForest"
   ]
  },
  {
   "cell_type": "code",
   "execution_count": 74,
   "metadata": {},
   "outputs": [
    {
     "data": {
      "text/plain": [
       "(2012560, 16)"
      ]
     },
     "execution_count": 74,
     "metadata": {},
     "output_type": "execute_result"
    }
   ],
   "source": [
    "# OneHotEncoder??\n",
    "# X.primary_use.cat.codes\n",
    "X.shape\n",
    "\n",
    "# remove categorical features to speed up trainings\n",
    "# X_train = X_train.drop(['primary_use'], axis=1)\n",
    "# X_test = X_test.drop(['primary_use'], axis=1)"
   ]
  },
  {
   "cell_type": "code",
   "execution_count": 80,
   "metadata": {},
   "outputs": [],
   "source": [
    "\n",
    "params = [{\n",
    "        \"n_estimators\": 100,\n",
    "        'n_jobs': -1,\n",
    "        'random_state': 11\n",
    "    }]\n",
    "\n",
    "params = [\n",
    "    {\n",
    "        \"n_estimators\": 80,\n",
    "        'n_jobs': -1,\n",
    "        'random_state': 11\n",
    "    },\n",
    "    {\n",
    "        **params[0],\n",
    "        \"n_estimators\": 100,\n",
    "    },\n",
    "    {\n",
    "        **params[0],\n",
    "        \"n_estimators\": 115,\n",
    "    }\n",
    "]"
   ]
  },
  {
   "cell_type": "code",
   "execution_count": 81,
   "metadata": {},
   "outputs": [
    {
     "name": "stdout",
     "output_type": "stream",
     "text": [
      "Training model 0 ...\n",
      "\n",
      "N estimators: 80\n",
      "RMSLE: ('RMSLE', 1.8604531015027899, False)\n",
      "RMSE: 167845.1635068772\n",
      "===========================================================================\n"
     ]
    }
   ],
   "source": [
    "# drop categorical column containing strings to speed up training\n",
    "if X_train.columns.isin(['primary_use']).any():\n",
    "    X_train = X_train.drop(['primary_use'], axis=1)\n",
    "    X_test = X_test.drop(['primary_use'], axis=1)\n",
    "\n",
    "pca = PCA(n_components=3, random_state=11)\n",
    "for i in np.arange(1):\n",
    "    print(f'Training model {i} ...')\n",
    "\n",
    "    # instantiate model\n",
    "    model = make_pipeline(\n",
    "#         OneHotEncoder(),\n",
    "        pca,\n",
    "        RandomForestRegressor(**params[i])\n",
    "    )\n",
    "    \n",
    "    \n",
    "    # train model\n",
    "    model.fit(X_train, y_train)\n",
    "    \n",
    "    # make predictions\n",
    "    y_pred = model.predict(X_test)\n",
    "    \n",
    "    # print params and metric\n",
    "    \n",
    "    print('N estimators:', params[i]['n_estimators'])\n",
    "    print('RMSLE:', RMSLE(y_test, y_pred))\n",
    "    print('RMSE:', MSE(y_test, y_pred, squared=False))\n",
    "    print('=' * 75)"
   ]
  },
  {
   "cell_type": "code",
   "execution_count": null,
   "metadata": {},
   "outputs": [],
   "source": []
  }
 ],
 "metadata": {
  "kernelspec": {
   "display_name": "Python 3",
   "language": "python",
   "name": "python3"
  },
  "language_info": {
   "codemirror_mode": {
    "name": "ipython",
    "version": 3
   },
   "file_extension": ".py",
   "mimetype": "text/x-python",
   "name": "python",
   "nbconvert_exporter": "python",
   "pygments_lexer": "ipython3",
   "version": "3.7.5"
  }
 },
 "nbformat": 4,
 "nbformat_minor": 4
}
